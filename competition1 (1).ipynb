{
 "cells": [
  {
   "cell_type": "code",
   "execution_count": 1,
   "id": "8dcd1e07",
   "metadata": {},
   "outputs": [
    {
     "ename": "ModuleNotFoundError",
     "evalue": "No module named 'category_encoders'",
     "output_type": "error",
     "traceback": [
      "\u001b[1;31m---------------------------------------------------------------------------\u001b[0m",
      "\u001b[1;31mModuleNotFoundError\u001b[0m                       Traceback (most recent call last)",
      "Cell \u001b[1;32mIn[1], line 6\u001b[0m\n\u001b[0;32m      4\u001b[0m \u001b[38;5;28;01mfrom\u001b[39;00m \u001b[38;5;21;01msklearn\u001b[39;00m\u001b[38;5;21;01m.\u001b[39;00m\u001b[38;5;21;01mmodel_selection\u001b[39;00m \u001b[38;5;28;01mimport\u001b[39;00m train_test_split, cross_val_score, GridSearchCV\n\u001b[0;32m      5\u001b[0m \u001b[38;5;28;01mimport\u001b[39;00m \u001b[38;5;21;01msklearn\u001b[39;00m\u001b[38;5;21;01m.\u001b[39;00m\u001b[38;5;21;01mmetrics\u001b[39;00m \u001b[38;5;28;01mas\u001b[39;00m \u001b[38;5;21;01mmetrics\u001b[39;00m\n\u001b[1;32m----> 6\u001b[0m \u001b[38;5;28;01mfrom\u001b[39;00m \u001b[38;5;21;01mcategory_encoders\u001b[39;00m\u001b[38;5;21;01m.\u001b[39;00m\u001b[38;5;21;01mone_hot\u001b[39;00m \u001b[38;5;28;01mimport\u001b[39;00m OneHotEncoder\n\u001b[0;32m      7\u001b[0m \u001b[38;5;28;01mfrom\u001b[39;00m \u001b[38;5;21;01msklearn\u001b[39;00m\u001b[38;5;21;01m.\u001b[39;00m\u001b[38;5;21;01mpreprocessing\u001b[39;00m \u001b[38;5;28;01mimport\u001b[39;00m MinMaxScaler, StandardScaler, PolynomialFeatures\n\u001b[0;32m      8\u001b[0m \u001b[38;5;28;01mimport\u001b[39;00m \u001b[38;5;21;01mmatplotlib\u001b[39;00m\u001b[38;5;21;01m.\u001b[39;00m\u001b[38;5;21;01mpyplot\u001b[39;00m \u001b[38;5;28;01mas\u001b[39;00m \u001b[38;5;21;01mplt\u001b[39;00m\n",
      "\u001b[1;31mModuleNotFoundError\u001b[0m: No module named 'category_encoders'"
     ]
    }
   ],
   "source": [
    "import numpy as np\n",
    "import pandas as pd\n",
    "from sklearn.linear_model import LinearRegression, Lasso, Ridge, ElasticNet\n",
    "from sklearn.model_selection import train_test_split, cross_val_score, GridSearchCV\n",
    "import sklearn.metrics as metrics\n",
    "from category_encoders.one_hot import OneHotEncoder\n",
    "from sklearn.preprocessing import MinMaxScaler, StandardScaler, PolynomialFeatures\n",
    "import matplotlib.pyplot as plt\n",
    "from math import sqrt"
   ]
  },
  {
   "cell_type": "code",
   "execution_count": null,
   "id": "6e9cd76d",
   "metadata": {},
   "outputs": [],
   "source": [
    "solution = pd.read_csv('/Users/n0thing_seri0us/Downloads/housing_test_sample_solution.csv')#.drop(['Id'], axis = 1)\n",
    "train = pd.read_csv('/Users/n0thing_seri0us/Downloads/housing_train.csv').drop(['total_bedrooms'], axis = 1)\n",
    "test = pd.read_csv('/Users/n0thing_seri0us/Downloads/housing_test.csv').drop(['total_bedrooms'], axis = 1)"
   ]
  },
  {
   "cell_type": "code",
   "execution_count": null,
   "id": "2379e7c3",
   "metadata": {},
   "outputs": [],
   "source": [
    "train = pd.get_dummies(train, drop_first = True)\n",
    "test = pd.get_dummies(test, drop_first = True).drop(['Id'], axis = 1)"
   ]
  },
  {
   "cell_type": "code",
   "execution_count": 5,
   "id": "850c52be",
   "metadata": {
    "scrolled": true
   },
   "outputs": [
    {
     "data": {
      "text/html": [
       "<div>\n",
       "<style scoped>\n",
       "    .dataframe tbody tr th:only-of-type {\n",
       "        vertical-align: middle;\n",
       "    }\n",
       "\n",
       "    .dataframe tbody tr th {\n",
       "        vertical-align: top;\n",
       "    }\n",
       "\n",
       "    .dataframe thead th {\n",
       "        text-align: right;\n",
       "    }\n",
       "</style>\n",
       "<table border=\"1\" class=\"dataframe\">\n",
       "  <thead>\n",
       "    <tr style=\"text-align: right;\">\n",
       "      <th></th>\n",
       "      <th>longitude</th>\n",
       "      <th>latitude</th>\n",
       "      <th>housing_median_age</th>\n",
       "      <th>total_rooms</th>\n",
       "      <th>population</th>\n",
       "      <th>households</th>\n",
       "      <th>median_income</th>\n",
       "      <th>median_house_value</th>\n",
       "      <th>ocean_proximity_INLAND</th>\n",
       "      <th>ocean_proximity_ISLAND</th>\n",
       "      <th>ocean_proximity_NEAR BAY</th>\n",
       "      <th>ocean_proximity_NEAR OCEAN</th>\n",
       "    </tr>\n",
       "  </thead>\n",
       "  <tbody>\n",
       "    <tr>\n",
       "      <th>0</th>\n",
       "      <td>-116.46</td>\n",
       "      <td>33.82</td>\n",
       "      <td>6.0</td>\n",
       "      <td>4863.0</td>\n",
       "      <td>3010.0</td>\n",
       "      <td>828.0</td>\n",
       "      <td>3.9508</td>\n",
       "      <td>104200.0</td>\n",
       "      <td>1</td>\n",
       "      <td>0</td>\n",
       "      <td>0</td>\n",
       "      <td>0</td>\n",
       "    </tr>\n",
       "    <tr>\n",
       "      <th>1</th>\n",
       "      <td>-117.04</td>\n",
       "      <td>34.00</td>\n",
       "      <td>21.0</td>\n",
       "      <td>4624.0</td>\n",
       "      <td>2174.0</td>\n",
       "      <td>812.0</td>\n",
       "      <td>3.5255</td>\n",
       "      <td>132100.0</td>\n",
       "      <td>1</td>\n",
       "      <td>0</td>\n",
       "      <td>0</td>\n",
       "      <td>0</td>\n",
       "    </tr>\n",
       "    <tr>\n",
       "      <th>2</th>\n",
       "      <td>-121.03</td>\n",
       "      <td>37.55</td>\n",
       "      <td>32.0</td>\n",
       "      <td>946.0</td>\n",
       "      <td>624.0</td>\n",
       "      <td>173.0</td>\n",
       "      <td>1.9728</td>\n",
       "      <td>97900.0</td>\n",
       "      <td>1</td>\n",
       "      <td>0</td>\n",
       "      <td>0</td>\n",
       "      <td>0</td>\n",
       "    </tr>\n",
       "    <tr>\n",
       "      <th>3</th>\n",
       "      <td>-117.80</td>\n",
       "      <td>33.68</td>\n",
       "      <td>8.0</td>\n",
       "      <td>2032.0</td>\n",
       "      <td>862.0</td>\n",
       "      <td>340.0</td>\n",
       "      <td>6.9133</td>\n",
       "      <td>274100.0</td>\n",
       "      <td>0</td>\n",
       "      <td>0</td>\n",
       "      <td>0</td>\n",
       "      <td>0</td>\n",
       "    </tr>\n",
       "    <tr>\n",
       "      <th>4</th>\n",
       "      <td>-122.26</td>\n",
       "      <td>37.83</td>\n",
       "      <td>52.0</td>\n",
       "      <td>1656.0</td>\n",
       "      <td>718.0</td>\n",
       "      <td>382.0</td>\n",
       "      <td>2.6768</td>\n",
       "      <td>182300.0</td>\n",
       "      <td>0</td>\n",
       "      <td>0</td>\n",
       "      <td>1</td>\n",
       "      <td>0</td>\n",
       "    </tr>\n",
       "  </tbody>\n",
       "</table>\n",
       "</div>"
      ],
      "text/plain": [
       "   longitude  latitude  housing_median_age  total_rooms  population  \\\n",
       "0    -116.46     33.82                 6.0       4863.0      3010.0   \n",
       "1    -117.04     34.00                21.0       4624.0      2174.0   \n",
       "2    -121.03     37.55                32.0        946.0       624.0   \n",
       "3    -117.80     33.68                 8.0       2032.0       862.0   \n",
       "4    -122.26     37.83                52.0       1656.0       718.0   \n",
       "\n",
       "   households  median_income  median_house_value  ocean_proximity_INLAND  \\\n",
       "0       828.0         3.9508            104200.0                       1   \n",
       "1       812.0         3.5255            132100.0                       1   \n",
       "2       173.0         1.9728             97900.0                       1   \n",
       "3       340.0         6.9133            274100.0                       0   \n",
       "4       382.0         2.6768            182300.0                       0   \n",
       "\n",
       "   ocean_proximity_ISLAND  ocean_proximity_NEAR BAY  \\\n",
       "0                       0                         0   \n",
       "1                       0                         0   \n",
       "2                       0                         0   \n",
       "3                       0                         0   \n",
       "4                       0                         1   \n",
       "\n",
       "   ocean_proximity_NEAR OCEAN  \n",
       "0                           0  \n",
       "1                           0  \n",
       "2                           0  \n",
       "3                           0  \n",
       "4                           0  "
      ]
     },
     "execution_count": 5,
     "metadata": {},
     "output_type": "execute_result"
    }
   ],
   "source": [
    "train.head()"
   ]
  },
  {
   "cell_type": "code",
   "execution_count": 144,
   "id": "7f1652b1",
   "metadata": {},
   "outputs": [
    {
     "data": {
      "text/html": [
       "<div>\n",
       "<style scoped>\n",
       "    .dataframe tbody tr th:only-of-type {\n",
       "        vertical-align: middle;\n",
       "    }\n",
       "\n",
       "    .dataframe tbody tr th {\n",
       "        vertical-align: top;\n",
       "    }\n",
       "\n",
       "    .dataframe thead th {\n",
       "        text-align: right;\n",
       "    }\n",
       "</style>\n",
       "<table border=\"1\" class=\"dataframe\">\n",
       "  <thead>\n",
       "    <tr style=\"text-align: right;\">\n",
       "      <th></th>\n",
       "      <th>longitude</th>\n",
       "      <th>latitude</th>\n",
       "      <th>housing_median_age</th>\n",
       "      <th>total_rooms</th>\n",
       "      <th>population</th>\n",
       "      <th>households</th>\n",
       "      <th>median_income</th>\n",
       "      <th>ocean_proximity_INLAND</th>\n",
       "      <th>ocean_proximity_ISLAND</th>\n",
       "      <th>ocean_proximity_NEAR BAY</th>\n",
       "      <th>ocean_proximity_NEAR OCEAN</th>\n",
       "    </tr>\n",
       "  </thead>\n",
       "  <tbody>\n",
       "    <tr>\n",
       "      <th>0</th>\n",
       "      <td>-122.64</td>\n",
       "      <td>38.24</td>\n",
       "      <td>40.0</td>\n",
       "      <td>1974.0</td>\n",
       "      <td>1039.0</td>\n",
       "      <td>398.0</td>\n",
       "      <td>3.7917</td>\n",
       "      <td>0</td>\n",
       "      <td>0</td>\n",
       "      <td>0</td>\n",
       "      <td>0</td>\n",
       "    </tr>\n",
       "    <tr>\n",
       "      <th>1</th>\n",
       "      <td>-119.05</td>\n",
       "      <td>36.09</td>\n",
       "      <td>9.0</td>\n",
       "      <td>3297.0</td>\n",
       "      <td>1749.0</td>\n",
       "      <td>568.0</td>\n",
       "      <td>4.0217</td>\n",
       "      <td>1</td>\n",
       "      <td>0</td>\n",
       "      <td>0</td>\n",
       "      <td>0</td>\n",
       "    </tr>\n",
       "    <tr>\n",
       "      <th>2</th>\n",
       "      <td>-116.98</td>\n",
       "      <td>32.85</td>\n",
       "      <td>12.0</td>\n",
       "      <td>3570.0</td>\n",
       "      <td>3321.0</td>\n",
       "      <td>666.0</td>\n",
       "      <td>4.0882</td>\n",
       "      <td>0</td>\n",
       "      <td>0</td>\n",
       "      <td>0</td>\n",
       "      <td>0</td>\n",
       "    </tr>\n",
       "    <tr>\n",
       "      <th>3</th>\n",
       "      <td>-118.42</td>\n",
       "      <td>34.20</td>\n",
       "      <td>27.0</td>\n",
       "      <td>3201.0</td>\n",
       "      <td>3403.0</td>\n",
       "      <td>948.0</td>\n",
       "      <td>2.2377</td>\n",
       "      <td>0</td>\n",
       "      <td>0</td>\n",
       "      <td>0</td>\n",
       "      <td>0</td>\n",
       "    </tr>\n",
       "    <tr>\n",
       "      <th>4</th>\n",
       "      <td>-118.47</td>\n",
       "      <td>34.01</td>\n",
       "      <td>41.0</td>\n",
       "      <td>2704.0</td>\n",
       "      <td>1047.0</td>\n",
       "      <td>478.0</td>\n",
       "      <td>4.4211</td>\n",
       "      <td>0</td>\n",
       "      <td>0</td>\n",
       "      <td>0</td>\n",
       "      <td>0</td>\n",
       "    </tr>\n",
       "    <tr>\n",
       "      <th>...</th>\n",
       "      <td>...</td>\n",
       "      <td>...</td>\n",
       "      <td>...</td>\n",
       "      <td>...</td>\n",
       "      <td>...</td>\n",
       "      <td>...</td>\n",
       "      <td>...</td>\n",
       "      <td>...</td>\n",
       "      <td>...</td>\n",
       "      <td>...</td>\n",
       "      <td>...</td>\n",
       "    </tr>\n",
       "    <tr>\n",
       "      <th>6187</th>\n",
       "      <td>-118.47</td>\n",
       "      <td>33.99</td>\n",
       "      <td>41.0</td>\n",
       "      <td>1146.0</td>\n",
       "      <td>833.0</td>\n",
       "      <td>270.0</td>\n",
       "      <td>2.5938</td>\n",
       "      <td>0</td>\n",
       "      <td>0</td>\n",
       "      <td>0</td>\n",
       "      <td>0</td>\n",
       "    </tr>\n",
       "    <tr>\n",
       "      <th>6188</th>\n",
       "      <td>-124.14</td>\n",
       "      <td>41.95</td>\n",
       "      <td>21.0</td>\n",
       "      <td>2696.0</td>\n",
       "      <td>1208.0</td>\n",
       "      <td>494.0</td>\n",
       "      <td>2.2750</td>\n",
       "      <td>0</td>\n",
       "      <td>0</td>\n",
       "      <td>0</td>\n",
       "      <td>1</td>\n",
       "    </tr>\n",
       "    <tr>\n",
       "      <th>6189</th>\n",
       "      <td>-117.88</td>\n",
       "      <td>33.70</td>\n",
       "      <td>17.0</td>\n",
       "      <td>5122.0</td>\n",
       "      <td>2966.0</td>\n",
       "      <td>1339.0</td>\n",
       "      <td>3.4835</td>\n",
       "      <td>0</td>\n",
       "      <td>0</td>\n",
       "      <td>0</td>\n",
       "      <td>0</td>\n",
       "    </tr>\n",
       "    <tr>\n",
       "      <th>6190</th>\n",
       "      <td>-118.37</td>\n",
       "      <td>34.07</td>\n",
       "      <td>52.0</td>\n",
       "      <td>2203.0</td>\n",
       "      <td>899.0</td>\n",
       "      <td>384.0</td>\n",
       "      <td>4.2500</td>\n",
       "      <td>0</td>\n",
       "      <td>0</td>\n",
       "      <td>0</td>\n",
       "      <td>0</td>\n",
       "    </tr>\n",
       "    <tr>\n",
       "      <th>6191</th>\n",
       "      <td>-118.49</td>\n",
       "      <td>34.27</td>\n",
       "      <td>33.0</td>\n",
       "      <td>3047.0</td>\n",
       "      <td>1578.0</td>\n",
       "      <td>507.0</td>\n",
       "      <td>4.5800</td>\n",
       "      <td>0</td>\n",
       "      <td>0</td>\n",
       "      <td>0</td>\n",
       "      <td>0</td>\n",
       "    </tr>\n",
       "  </tbody>\n",
       "</table>\n",
       "<p>6192 rows × 11 columns</p>\n",
       "</div>"
      ],
      "text/plain": [
       "      longitude  latitude  housing_median_age  total_rooms  population  \\\n",
       "0       -122.64     38.24                40.0       1974.0      1039.0   \n",
       "1       -119.05     36.09                 9.0       3297.0      1749.0   \n",
       "2       -116.98     32.85                12.0       3570.0      3321.0   \n",
       "3       -118.42     34.20                27.0       3201.0      3403.0   \n",
       "4       -118.47     34.01                41.0       2704.0      1047.0   \n",
       "...         ...       ...                 ...          ...         ...   \n",
       "6187    -118.47     33.99                41.0       1146.0       833.0   \n",
       "6188    -124.14     41.95                21.0       2696.0      1208.0   \n",
       "6189    -117.88     33.70                17.0       5122.0      2966.0   \n",
       "6190    -118.37     34.07                52.0       2203.0       899.0   \n",
       "6191    -118.49     34.27                33.0       3047.0      1578.0   \n",
       "\n",
       "      households  median_income  ocean_proximity_INLAND  \\\n",
       "0          398.0         3.7917                       0   \n",
       "1          568.0         4.0217                       1   \n",
       "2          666.0         4.0882                       0   \n",
       "3          948.0         2.2377                       0   \n",
       "4          478.0         4.4211                       0   \n",
       "...          ...            ...                     ...   \n",
       "6187       270.0         2.5938                       0   \n",
       "6188       494.0         2.2750                       0   \n",
       "6189      1339.0         3.4835                       0   \n",
       "6190       384.0         4.2500                       0   \n",
       "6191       507.0         4.5800                       0   \n",
       "\n",
       "      ocean_proximity_ISLAND  ocean_proximity_NEAR BAY  \\\n",
       "0                          0                         0   \n",
       "1                          0                         0   \n",
       "2                          0                         0   \n",
       "3                          0                         0   \n",
       "4                          0                         0   \n",
       "...                      ...                       ...   \n",
       "6187                       0                         0   \n",
       "6188                       0                         0   \n",
       "6189                       0                         0   \n",
       "6190                       0                         0   \n",
       "6191                       0                         0   \n",
       "\n",
       "      ocean_proximity_NEAR OCEAN  \n",
       "0                              0  \n",
       "1                              0  \n",
       "2                              0  \n",
       "3                              0  \n",
       "4                              0  \n",
       "...                          ...  \n",
       "6187                           0  \n",
       "6188                           1  \n",
       "6189                           0  \n",
       "6190                           0  \n",
       "6191                           0  \n",
       "\n",
       "[6192 rows x 11 columns]"
      ]
     },
     "execution_count": 144,
     "metadata": {},
     "output_type": "execute_result"
    }
   ],
   "source": [
    "test"
   ]
  },
  {
   "cell_type": "code",
   "execution_count": 155,
   "id": "59063c4a",
   "metadata": {},
   "outputs": [
    {
     "data": {
      "text/html": [
       "<div>\n",
       "<style scoped>\n",
       "    .dataframe tbody tr th:only-of-type {\n",
       "        vertical-align: middle;\n",
       "    }\n",
       "\n",
       "    .dataframe tbody tr th {\n",
       "        vertical-align: top;\n",
       "    }\n",
       "\n",
       "    .dataframe thead th {\n",
       "        text-align: right;\n",
       "    }\n",
       "</style>\n",
       "<table border=\"1\" class=\"dataframe\">\n",
       "  <thead>\n",
       "    <tr style=\"text-align: right;\">\n",
       "      <th></th>\n",
       "      <th>Id</th>\n",
       "      <th>median_house_value</th>\n",
       "    </tr>\n",
       "  </thead>\n",
       "  <tbody>\n",
       "    <tr>\n",
       "      <th>0</th>\n",
       "      <td>0</td>\n",
       "      <td>205311.609173</td>\n",
       "    </tr>\n",
       "    <tr>\n",
       "      <th>1</th>\n",
       "      <td>1</td>\n",
       "      <td>205311.609173</td>\n",
       "    </tr>\n",
       "    <tr>\n",
       "      <th>2</th>\n",
       "      <td>2</td>\n",
       "      <td>205311.609173</td>\n",
       "    </tr>\n",
       "    <tr>\n",
       "      <th>3</th>\n",
       "      <td>3</td>\n",
       "      <td>205311.609173</td>\n",
       "    </tr>\n",
       "    <tr>\n",
       "      <th>4</th>\n",
       "      <td>4</td>\n",
       "      <td>205311.609173</td>\n",
       "    </tr>\n",
       "    <tr>\n",
       "      <th>...</th>\n",
       "      <td>...</td>\n",
       "      <td>...</td>\n",
       "    </tr>\n",
       "    <tr>\n",
       "      <th>6187</th>\n",
       "      <td>6187</td>\n",
       "      <td>205311.609173</td>\n",
       "    </tr>\n",
       "    <tr>\n",
       "      <th>6188</th>\n",
       "      <td>6188</td>\n",
       "      <td>205311.609173</td>\n",
       "    </tr>\n",
       "    <tr>\n",
       "      <th>6189</th>\n",
       "      <td>6189</td>\n",
       "      <td>205311.609173</td>\n",
       "    </tr>\n",
       "    <tr>\n",
       "      <th>6190</th>\n",
       "      <td>6190</td>\n",
       "      <td>205311.609173</td>\n",
       "    </tr>\n",
       "    <tr>\n",
       "      <th>6191</th>\n",
       "      <td>6191</td>\n",
       "      <td>205311.609173</td>\n",
       "    </tr>\n",
       "  </tbody>\n",
       "</table>\n",
       "<p>6192 rows × 2 columns</p>\n",
       "</div>"
      ],
      "text/plain": [
       "        Id  median_house_value\n",
       "0        0       205311.609173\n",
       "1        1       205311.609173\n",
       "2        2       205311.609173\n",
       "3        3       205311.609173\n",
       "4        4       205311.609173\n",
       "...    ...                 ...\n",
       "6187  6187       205311.609173\n",
       "6188  6188       205311.609173\n",
       "6189  6189       205311.609173\n",
       "6190  6190       205311.609173\n",
       "6191  6191       205311.609173\n",
       "\n",
       "[6192 rows x 2 columns]"
      ]
     },
     "execution_count": 155,
     "metadata": {},
     "output_type": "execute_result"
    }
   ],
   "source": [
    "solution"
   ]
  },
  {
   "cell_type": "code",
   "execution_count": 22,
   "id": "751dede6",
   "metadata": {},
   "outputs": [
    {
     "name": "stdout",
     "output_type": "stream",
     "text": [
      "longitude                     0\n",
      "latitude                      0\n",
      "housing_median_age            0\n",
      "total_rooms                   0\n",
      "population                    0\n",
      "households                    0\n",
      "median_income                 0\n",
      "median_house_value            0\n",
      "ocean_proximity_INLAND        0\n",
      "ocean_proximity_ISLAND        0\n",
      "ocean_proximity_NEAR BAY      0\n",
      "ocean_proximity_NEAR OCEAN    0\n",
      "dtype: int64 (14448, 12)\n"
     ]
    }
   ],
   "source": [
    "nan_count_train = train.isna().sum()\n",
    "print(nan_count_train, train.shape)\n",
    "train = train.dropna()\n",
    "# print(Xtrain.shape)"
   ]
  },
  {
   "cell_type": "code",
   "execution_count": 27,
   "id": "f13cf0c0",
   "metadata": {},
   "outputs": [
    {
     "name": "stdout",
     "output_type": "stream",
     "text": [
      "longitude                     0\n",
      "latitude                      0\n",
      "housing_median_age            0\n",
      "total_rooms                   0\n",
      "population                    0\n",
      "households                    0\n",
      "median_income                 0\n",
      "ocean_proximity_INLAND        0\n",
      "ocean_proximity_ISLAND        0\n",
      "ocean_proximity_NEAR BAY      0\n",
      "ocean_proximity_NEAR OCEAN    0\n",
      "dtype: int64 (3612, 11)\n"
     ]
    }
   ],
   "source": [
    "nan_count_test = Xtest.isna().sum()\n",
    "print(nan_count_test, Xtest.shape)"
   ]
  },
  {
   "cell_type": "code",
   "execution_count": 10,
   "id": "26428ac6",
   "metadata": {},
   "outputs": [],
   "source": [
    "# Xtrain, ytrain = train.drop(['median_house_value'], axis = 1), train['median_house_value']\n",
    "# Xtest, ytest = test, solution\n",
    "\n",
    "Xtrain, Xtest, ytrain, ytest = train_test_split(train.drop(['median_house_value'], axis = 1), train['median_house_value'], test_size = 0.25, random_state = 42)"
   ]
  },
  {
   "cell_type": "code",
   "execution_count": null,
   "id": "24bb7411",
   "metadata": {},
   "outputs": [],
   "source": []
  },
  {
   "cell_type": "code",
   "execution_count": 11,
   "id": "7e171d48",
   "metadata": {},
   "outputs": [
    {
     "data": {
      "text/plain": [
       "longitude                     0\n",
       "latitude                      0\n",
       "housing_median_age            0\n",
       "total_rooms                   0\n",
       "population                    0\n",
       "households                    0\n",
       "median_income                 0\n",
       "ocean_proximity_INLAND        0\n",
       "ocean_proximity_ISLAND        0\n",
       "ocean_proximity_NEAR BAY      0\n",
       "ocean_proximity_NEAR OCEAN    0\n",
       "dtype: int64"
      ]
     },
     "execution_count": 11,
     "metadata": {},
     "output_type": "execute_result"
    }
   ],
   "source": [
    "Xtrain.isna().sum()"
   ]
  },
  {
   "cell_type": "markdown",
   "id": "a5a53a9c",
   "metadata": {},
   "source": [
    "## Заполним пропуски в тесте медианой\n"
   ]
  },
  {
   "cell_type": "code",
   "execution_count": 31,
   "id": "18143f15",
   "metadata": {},
   "outputs": [
    {
     "data": {
      "text/plain": [
       "longitude                     0\n",
       "latitude                      0\n",
       "housing_median_age            0\n",
       "total_rooms                   0\n",
       "population                    0\n",
       "households                    0\n",
       "median_income                 0\n",
       "ocean_proximity_INLAND        0\n",
       "ocean_proximity_ISLAND        0\n",
       "ocean_proximity_NEAR BAY      0\n",
       "ocean_proximity_NEAR OCEAN    0\n",
       "dtype: int64"
      ]
     },
     "execution_count": 31,
     "metadata": {},
     "output_type": "execute_result"
    }
   ],
   "source": [
    "test = test.fillna(Xtest.median())\n",
    "nan_count_test = test.isna().sum()\n",
    "nan_count_test"
   ]
  },
  {
   "cell_type": "markdown",
   "id": "059890a1",
   "metadata": {},
   "source": [
    "# Перейти в раздел заново\n"
   ]
  },
  {
   "cell_type": "markdown",
   "id": "fda6da53",
   "metadata": {},
   "source": [
    "## Обычная LinReg"
   ]
  },
  {
   "cell_type": "code",
   "execution_count": 38,
   "id": "e94a8462",
   "metadata": {},
   "outputs": [
    {
     "name": "stdout",
     "output_type": "stream",
     "text": [
      "0.4093914664546141\n",
      "4866732153.259034\n",
      "[105554.27876707 248014.81174489 243829.90191445 ... 327875.9759918\n",
      " 135854.1601424  108374.64345806]\n",
      "7834     129200.0\n",
      "12458    185200.0\n",
      "2813     200000.0\n",
      "10483    165100.0\n",
      "6697     111300.0\n",
      "           ...   \n",
      "13995    147800.0\n",
      "6466     212500.0\n",
      "2648     349200.0\n",
      "2586     124700.0\n",
      "13427    103400.0\n",
      "Name: median_house_value, Length: 4335, dtype: float64\n"
     ]
    }
   ],
   "source": [
    "LinRegNoScale = LinearRegression()\n",
    "LinRegNoScale.fit(Xtrain, ytrain)\n",
    "predNoScale = LinRegNoScale.predict(Xtest)\n",
    "print(metrics.r2_score(predNoScale, ytest))\n",
    "print(metrics.mean_squared_error(predNoScale, ytest))\n",
    "print(predNoScale)\n",
    "print(ytest)"
   ]
  },
  {
   "cell_type": "markdown",
   "id": "bb177059",
   "metadata": {},
   "source": [
    "## Добавим масштабирование"
   ]
  },
  {
   "cell_type": "code",
   "execution_count": 27,
   "id": "fd8a03e1",
   "metadata": {},
   "outputs": [],
   "source": [
    "scaler = MinMaxScaler()\n",
    "Xtrain_scaled = scaler.fit_transform(Xtrain)\n",
    "# Xtest_scaled = scaler.fit(Xtest)"
   ]
  },
  {
   "cell_type": "code",
   "execution_count": null,
   "id": "144d26f8",
   "metadata": {},
   "outputs": [],
   "source": []
  },
  {
   "cell_type": "code",
   "execution_count": 29,
   "id": "b9cd4c72",
   "metadata": {},
   "outputs": [
    {
     "ename": "ValueError",
     "evalue": "Found input variables with inconsistent numbers of samples: [2890, 3612]",
     "output_type": "error",
     "traceback": [
      "\u001b[0;31m---------------------------------------------------------------------------\u001b[0m",
      "\u001b[0;31mValueError\u001b[0m                                Traceback (most recent call last)",
      "\u001b[0;32m/var/folders/3g/ktz7q1615554pkcz5z9gg3vc0000gn/T/ipykernel_57187/3002021216.py\u001b[0m in \u001b[0;36m<module>\u001b[0;34m\u001b[0m\n\u001b[1;32m      2\u001b[0m \u001b[0mLinRegScale\u001b[0m\u001b[0;34m.\u001b[0m\u001b[0mfit\u001b[0m\u001b[0;34m(\u001b[0m\u001b[0mXtrain_scaled\u001b[0m\u001b[0;34m,\u001b[0m \u001b[0mytrain\u001b[0m\u001b[0;34m)\u001b[0m\u001b[0;34m\u001b[0m\u001b[0;34m\u001b[0m\u001b[0m\n\u001b[1;32m      3\u001b[0m \u001b[0mpredScale\u001b[0m \u001b[0;34m=\u001b[0m \u001b[0mLinRegScale\u001b[0m\u001b[0;34m.\u001b[0m\u001b[0mpredict\u001b[0m\u001b[0;34m(\u001b[0m\u001b[0mXtest_scaled\u001b[0m\u001b[0;34m)\u001b[0m\u001b[0;34m\u001b[0m\u001b[0;34m\u001b[0m\u001b[0m\n\u001b[0;32m----> 4\u001b[0;31m \u001b[0mprint\u001b[0m\u001b[0;34m(\u001b[0m\u001b[0mmetrics\u001b[0m\u001b[0;34m.\u001b[0m\u001b[0mr2_score\u001b[0m\u001b[0;34m(\u001b[0m\u001b[0mytest\u001b[0m\u001b[0;34m,\u001b[0m \u001b[0mpredScale\u001b[0m\u001b[0;34m)\u001b[0m\u001b[0;34m)\u001b[0m\u001b[0;34m\u001b[0m\u001b[0;34m\u001b[0m\u001b[0m\n\u001b[0m",
      "\u001b[0;32m~/opt/anaconda3/lib/python3.9/site-packages/sklearn/utils/_param_validation.py\u001b[0m in \u001b[0;36mwrapper\u001b[0;34m(*args, **kwargs)\u001b[0m\n\u001b[1;32m    209\u001b[0m                     )\n\u001b[1;32m    210\u001b[0m                 ):\n\u001b[0;32m--> 211\u001b[0;31m                     \u001b[0;32mreturn\u001b[0m \u001b[0mfunc\u001b[0m\u001b[0;34m(\u001b[0m\u001b[0;34m*\u001b[0m\u001b[0margs\u001b[0m\u001b[0;34m,\u001b[0m \u001b[0;34m**\u001b[0m\u001b[0mkwargs\u001b[0m\u001b[0;34m)\u001b[0m\u001b[0;34m\u001b[0m\u001b[0;34m\u001b[0m\u001b[0m\n\u001b[0m\u001b[1;32m    212\u001b[0m             \u001b[0;32mexcept\u001b[0m \u001b[0mInvalidParameterError\u001b[0m \u001b[0;32mas\u001b[0m \u001b[0me\u001b[0m\u001b[0;34m:\u001b[0m\u001b[0;34m\u001b[0m\u001b[0;34m\u001b[0m\u001b[0m\n\u001b[1;32m    213\u001b[0m                 \u001b[0;31m# When the function is just a wrapper around an estimator, we allow\u001b[0m\u001b[0;34m\u001b[0m\u001b[0;34m\u001b[0m\u001b[0m\n",
      "\u001b[0;32m~/opt/anaconda3/lib/python3.9/site-packages/sklearn/metrics/_regression.py\u001b[0m in \u001b[0;36mr2_score\u001b[0;34m(y_true, y_pred, sample_weight, multioutput, force_finite)\u001b[0m\n\u001b[1;32m    987\u001b[0m     \u001b[0;34m-\u001b[0m\u001b[0minf\u001b[0m\u001b[0;34m\u001b[0m\u001b[0;34m\u001b[0m\u001b[0m\n\u001b[1;32m    988\u001b[0m     \"\"\"\n\u001b[0;32m--> 989\u001b[0;31m     y_type, y_true, y_pred, multioutput = _check_reg_targets(\n\u001b[0m\u001b[1;32m    990\u001b[0m         \u001b[0my_true\u001b[0m\u001b[0;34m,\u001b[0m \u001b[0my_pred\u001b[0m\u001b[0;34m,\u001b[0m \u001b[0mmultioutput\u001b[0m\u001b[0;34m\u001b[0m\u001b[0;34m\u001b[0m\u001b[0m\n\u001b[1;32m    991\u001b[0m     )\n",
      "\u001b[0;32m~/opt/anaconda3/lib/python3.9/site-packages/sklearn/metrics/_regression.py\u001b[0m in \u001b[0;36m_check_reg_targets\u001b[0;34m(y_true, y_pred, multioutput, dtype)\u001b[0m\n\u001b[1;32m     97\u001b[0m         \u001b[0mcorrect\u001b[0m \u001b[0mkeyword\u001b[0m\u001b[0;34m.\u001b[0m\u001b[0;34m\u001b[0m\u001b[0;34m\u001b[0m\u001b[0m\n\u001b[1;32m     98\u001b[0m     \"\"\"\n\u001b[0;32m---> 99\u001b[0;31m     \u001b[0mcheck_consistent_length\u001b[0m\u001b[0;34m(\u001b[0m\u001b[0my_true\u001b[0m\u001b[0;34m,\u001b[0m \u001b[0my_pred\u001b[0m\u001b[0;34m)\u001b[0m\u001b[0;34m\u001b[0m\u001b[0;34m\u001b[0m\u001b[0m\n\u001b[0m\u001b[1;32m    100\u001b[0m     \u001b[0my_true\u001b[0m \u001b[0;34m=\u001b[0m \u001b[0mcheck_array\u001b[0m\u001b[0;34m(\u001b[0m\u001b[0my_true\u001b[0m\u001b[0;34m,\u001b[0m \u001b[0mensure_2d\u001b[0m\u001b[0;34m=\u001b[0m\u001b[0;32mFalse\u001b[0m\u001b[0;34m,\u001b[0m \u001b[0mdtype\u001b[0m\u001b[0;34m=\u001b[0m\u001b[0mdtype\u001b[0m\u001b[0;34m)\u001b[0m\u001b[0;34m\u001b[0m\u001b[0;34m\u001b[0m\u001b[0m\n\u001b[1;32m    101\u001b[0m     \u001b[0my_pred\u001b[0m \u001b[0;34m=\u001b[0m \u001b[0mcheck_array\u001b[0m\u001b[0;34m(\u001b[0m\u001b[0my_pred\u001b[0m\u001b[0;34m,\u001b[0m \u001b[0mensure_2d\u001b[0m\u001b[0;34m=\u001b[0m\u001b[0;32mFalse\u001b[0m\u001b[0;34m,\u001b[0m \u001b[0mdtype\u001b[0m\u001b[0;34m=\u001b[0m\u001b[0mdtype\u001b[0m\u001b[0;34m)\u001b[0m\u001b[0;34m\u001b[0m\u001b[0;34m\u001b[0m\u001b[0m\n",
      "\u001b[0;32m~/opt/anaconda3/lib/python3.9/site-packages/sklearn/utils/validation.py\u001b[0m in \u001b[0;36mcheck_consistent_length\u001b[0;34m(*arrays)\u001b[0m\n\u001b[1;32m    407\u001b[0m     \u001b[0muniques\u001b[0m \u001b[0;34m=\u001b[0m \u001b[0mnp\u001b[0m\u001b[0;34m.\u001b[0m\u001b[0munique\u001b[0m\u001b[0;34m(\u001b[0m\u001b[0mlengths\u001b[0m\u001b[0;34m)\u001b[0m\u001b[0;34m\u001b[0m\u001b[0;34m\u001b[0m\u001b[0m\n\u001b[1;32m    408\u001b[0m     \u001b[0;32mif\u001b[0m \u001b[0mlen\u001b[0m\u001b[0;34m(\u001b[0m\u001b[0muniques\u001b[0m\u001b[0;34m)\u001b[0m \u001b[0;34m>\u001b[0m \u001b[0;36m1\u001b[0m\u001b[0;34m:\u001b[0m\u001b[0;34m\u001b[0m\u001b[0;34m\u001b[0m\u001b[0m\n\u001b[0;32m--> 409\u001b[0;31m         raise ValueError(\n\u001b[0m\u001b[1;32m    410\u001b[0m             \u001b[0;34m\"Found input variables with inconsistent numbers of samples: %r\"\u001b[0m\u001b[0;34m\u001b[0m\u001b[0;34m\u001b[0m\u001b[0m\n\u001b[1;32m    411\u001b[0m             \u001b[0;34m%\u001b[0m \u001b[0;34m[\u001b[0m\u001b[0mint\u001b[0m\u001b[0;34m(\u001b[0m\u001b[0ml\u001b[0m\u001b[0;34m)\u001b[0m \u001b[0;32mfor\u001b[0m \u001b[0ml\u001b[0m \u001b[0;32min\u001b[0m \u001b[0mlengths\u001b[0m\u001b[0;34m]\u001b[0m\u001b[0;34m\u001b[0m\u001b[0;34m\u001b[0m\u001b[0m\n",
      "\u001b[0;31mValueError\u001b[0m: Found input variables with inconsistent numbers of samples: [2890, 3612]"
     ]
    }
   ],
   "source": [
    "LinRegScale = LinearRegression()\n",
    "LinRegScale.fit(Xtrain_scaled, ytrain)\n",
    "predScale = LinRegScale.predict(Xtest_scaled)\n",
    "print(metrics.r2_score(ytest, predScale))"
   ]
  },
  {
   "cell_type": "code",
   "execution_count": 31,
   "id": "61068aad",
   "metadata": {},
   "outputs": [],
   "source": [
    "# Xtrain = pd.DataFrame(Xtrain)\n",
    "# Xtest = pd.DataFrame(Xtest)\n",
    "# Xtrain\n",
    "# ytrain"
   ]
  },
  {
   "cell_type": "markdown",
   "id": "35c08242",
   "metadata": {},
   "source": [
    "## L1 без масштабирования"
   ]
  },
  {
   "cell_type": "code",
   "execution_count": 95,
   "id": "1a36608f",
   "metadata": {},
   "outputs": [],
   "source": [
    "alphas = np.arange(0.0001, 2.1, 0.1)\n",
    "res = {}\n",
    "for i in alphas:\n",
    "    LassoReg = Lasso(alpha = i)\n",
    "    LassoReg.fit(Xtrain, ytrain)\n",
    "    predLasso = LassoReg.predict(Xtest)\n",
    "#     res.append({i: metrics.r2_score(ytrain, predLasso)})\n",
    "    res[i] = metrics.r2_score(ytest, predLasso)"
   ]
  },
  {
   "cell_type": "code",
   "execution_count": 96,
   "id": "334eb6cc",
   "metadata": {},
   "outputs": [
    {
     "name": "stdout",
     "output_type": "stream",
     "text": [
      "[0.636666785971215, 0.6366670175142402, 0.6366672490060667, 0.6366674804465515, 0.6366677118357835, 0.6366679431736935, 0.6366681744603424, 0.6366684056956411, 0.6366686368798357, 0.6366688680125553, 0.6366690990941222, 0.6366693301240741, 0.6366695611033266, 0.6366697920308975, 0.6366700229072693, 0.6366702537324482, 0.636670484506441, 0.636670715228517, 0.636670945900104, 0.6366711765197006, 0.6366714070888996]\n"
     ]
    },
    {
     "data": {
      "text/plain": [
       "[<matplotlib.lines.Line2D at 0x7fc70a4c16a0>]"
      ]
     },
     "execution_count": 96,
     "metadata": {},
     "output_type": "execute_result"
    },
    {
     "data": {
      "image/png": "[encoded data removed]",
      "text/plain": [
       "<Figure size 864x864 with 1 Axes>"
      ]
     },
     "metadata": {},
     "output_type": "display_data"
    }
   ],
   "source": [
    "x = [i[0] for i in res.items()]\n",
    "y = [i[1] for i in res.items()]\n",
    "print(y)\n",
    "plt.plot(x, y)"
   ]
  },
  {
   "cell_type": "markdown",
   "id": "c0493a61",
   "metadata": {},
   "source": [
    "## L1 с масштабированием"
   ]
  },
  {
   "cell_type": "code",
   "execution_count": 88,
   "id": "bd9619be",
   "metadata": {},
   "outputs": [
    {
     "ename": "ValueError",
     "evalue": "Expected 2D array, got scalar array instead:\narray=MinMaxScaler().\nReshape your data either using array.reshape(-1, 1) if your data has a single feature or array.reshape(1, -1) if it contains a single sample.",
     "output_type": "error",
     "traceback": [
      "\u001b[0;31m---------------------------------------------------------------------------\u001b[0m",
      "\u001b[0;31mValueError\u001b[0m                                Traceback (most recent call last)",
      "\u001b[0;32m/var/folders/3g/ktz7q1615554pkcz5z9gg3vc0000gn/T/ipykernel_56428/2607339223.py\u001b[0m in \u001b[0;36m<module>\u001b[0;34m\u001b[0m\n\u001b[1;32m      3\u001b[0m     \u001b[0mLassoReg\u001b[0m \u001b[0;34m=\u001b[0m \u001b[0mLasso\u001b[0m\u001b[0;34m(\u001b[0m\u001b[0malpha\u001b[0m \u001b[0;34m=\u001b[0m \u001b[0mi\u001b[0m\u001b[0;34m)\u001b[0m\u001b[0;34m\u001b[0m\u001b[0;34m\u001b[0m\u001b[0m\n\u001b[1;32m      4\u001b[0m     \u001b[0mLassoReg\u001b[0m\u001b[0;34m.\u001b[0m\u001b[0mfit\u001b[0m\u001b[0;34m(\u001b[0m\u001b[0mXtrain_scaled\u001b[0m\u001b[0;34m,\u001b[0m \u001b[0mytrain\u001b[0m\u001b[0;34m)\u001b[0m\u001b[0;34m\u001b[0m\u001b[0;34m\u001b[0m\u001b[0m\n\u001b[0;32m----> 5\u001b[0;31m     \u001b[0mpredLasso\u001b[0m \u001b[0;34m=\u001b[0m \u001b[0mLassoReg\u001b[0m\u001b[0;34m.\u001b[0m\u001b[0mpredict\u001b[0m\u001b[0;34m(\u001b[0m\u001b[0mXtest_scaled\u001b[0m\u001b[0;34m)\u001b[0m\u001b[0;34m\u001b[0m\u001b[0;34m\u001b[0m\u001b[0m\n\u001b[0m\u001b[1;32m      6\u001b[0m \u001b[0;31m#     res.append({i: metrics.r2_score(ytrain, predLasso)})\u001b[0m\u001b[0;34m\u001b[0m\u001b[0;34m\u001b[0m\u001b[0m\n\u001b[1;32m      7\u001b[0m     \u001b[0mres_scale\u001b[0m\u001b[0;34m[\u001b[0m\u001b[0mi\u001b[0m\u001b[0;34m]\u001b[0m \u001b[0;34m=\u001b[0m \u001b[0mmetrics\u001b[0m\u001b[0;34m.\u001b[0m\u001b[0mr2_score\u001b[0m\u001b[0;34m(\u001b[0m\u001b[0mytest\u001b[0m\u001b[0;34m,\u001b[0m \u001b[0mpredLasso\u001b[0m\u001b[0;34m)\u001b[0m\u001b[0;34m\u001b[0m\u001b[0;34m\u001b[0m\u001b[0m\n",
      "\u001b[0;32m~/opt/anaconda3/lib/python3.9/site-packages/sklearn/linear_model/_base.py\u001b[0m in \u001b[0;36mpredict\u001b[0;34m(self, X)\u001b[0m\n\u001b[1;32m    384\u001b[0m             \u001b[0mReturns\u001b[0m \u001b[0mpredicted\u001b[0m \u001b[0mvalues\u001b[0m\u001b[0;34m.\u001b[0m\u001b[0;34m\u001b[0m\u001b[0;34m\u001b[0m\u001b[0m\n\u001b[1;32m    385\u001b[0m         \"\"\"\n\u001b[0;32m--> 386\u001b[0;31m         \u001b[0;32mreturn\u001b[0m \u001b[0mself\u001b[0m\u001b[0;34m.\u001b[0m\u001b[0m_decision_function\u001b[0m\u001b[0;34m(\u001b[0m\u001b[0mX\u001b[0m\u001b[0;34m)\u001b[0m\u001b[0;34m\u001b[0m\u001b[0;34m\u001b[0m\u001b[0m\n\u001b[0m\u001b[1;32m    387\u001b[0m \u001b[0;34m\u001b[0m\u001b[0m\n\u001b[1;32m    388\u001b[0m     \u001b[0;32mdef\u001b[0m \u001b[0m_set_intercept\u001b[0m\u001b[0;34m(\u001b[0m\u001b[0mself\u001b[0m\u001b[0;34m,\u001b[0m \u001b[0mX_offset\u001b[0m\u001b[0;34m,\u001b[0m \u001b[0my_offset\u001b[0m\u001b[0;34m,\u001b[0m \u001b[0mX_scale\u001b[0m\u001b[0;34m)\u001b[0m\u001b[0;34m:\u001b[0m\u001b[0;34m\u001b[0m\u001b[0;34m\u001b[0m\u001b[0m\n",
      "\u001b[0;32m~/opt/anaconda3/lib/python3.9/site-packages/sklearn/linear_model/_coordinate_descent.py\u001b[0m in \u001b[0;36m_decision_function\u001b[0;34m(self, X)\u001b[0m\n\u001b[1;32m   1069\u001b[0m             \u001b[0;32mreturn\u001b[0m \u001b[0msafe_sparse_dot\u001b[0m\u001b[0;34m(\u001b[0m\u001b[0mX\u001b[0m\u001b[0;34m,\u001b[0m \u001b[0mself\u001b[0m\u001b[0;34m.\u001b[0m\u001b[0mcoef_\u001b[0m\u001b[0;34m.\u001b[0m\u001b[0mT\u001b[0m\u001b[0;34m,\u001b[0m \u001b[0mdense_output\u001b[0m\u001b[0;34m=\u001b[0m\u001b[0;32mTrue\u001b[0m\u001b[0;34m)\u001b[0m \u001b[0;34m+\u001b[0m \u001b[0mself\u001b[0m\u001b[0;34m.\u001b[0m\u001b[0mintercept_\u001b[0m\u001b[0;34m\u001b[0m\u001b[0;34m\u001b[0m\u001b[0m\n\u001b[1;32m   1070\u001b[0m         \u001b[0;32melse\u001b[0m\u001b[0;34m:\u001b[0m\u001b[0;34m\u001b[0m\u001b[0;34m\u001b[0m\u001b[0m\n\u001b[0;32m-> 1071\u001b[0;31m             \u001b[0;32mreturn\u001b[0m \u001b[0msuper\u001b[0m\u001b[0;34m(\u001b[0m\u001b[0;34m)\u001b[0m\u001b[0;34m.\u001b[0m\u001b[0m_decision_function\u001b[0m\u001b[0;34m(\u001b[0m\u001b[0mX\u001b[0m\u001b[0;34m)\u001b[0m\u001b[0;34m\u001b[0m\u001b[0;34m\u001b[0m\u001b[0m\n\u001b[0m\u001b[1;32m   1072\u001b[0m \u001b[0;34m\u001b[0m\u001b[0m\n\u001b[1;32m   1073\u001b[0m \u001b[0;34m\u001b[0m\u001b[0m\n",
      "\u001b[0;32m~/opt/anaconda3/lib/python3.9/site-packages/sklearn/linear_model/_base.py\u001b[0m in \u001b[0;36m_decision_function\u001b[0;34m(self, X)\u001b[0m\n\u001b[1;32m    367\u001b[0m         \u001b[0mcheck_is_fitted\u001b[0m\u001b[0;34m(\u001b[0m\u001b[0mself\u001b[0m\u001b[0;34m)\u001b[0m\u001b[0;34m\u001b[0m\u001b[0;34m\u001b[0m\u001b[0m\n\u001b[1;32m    368\u001b[0m \u001b[0;34m\u001b[0m\u001b[0m\n\u001b[0;32m--> 369\u001b[0;31m         \u001b[0mX\u001b[0m \u001b[0;34m=\u001b[0m \u001b[0mself\u001b[0m\u001b[0;34m.\u001b[0m\u001b[0m_validate_data\u001b[0m\u001b[0;34m(\u001b[0m\u001b[0mX\u001b[0m\u001b[0;34m,\u001b[0m \u001b[0maccept_sparse\u001b[0m\u001b[0;34m=\u001b[0m\u001b[0;34m[\u001b[0m\u001b[0;34m\"csr\"\u001b[0m\u001b[0;34m,\u001b[0m \u001b[0;34m\"csc\"\u001b[0m\u001b[0;34m,\u001b[0m \u001b[0;34m\"coo\"\u001b[0m\u001b[0;34m]\u001b[0m\u001b[0;34m,\u001b[0m \u001b[0mreset\u001b[0m\u001b[0;34m=\u001b[0m\u001b[0;32mFalse\u001b[0m\u001b[0;34m)\u001b[0m\u001b[0;34m\u001b[0m\u001b[0;34m\u001b[0m\u001b[0m\n\u001b[0m\u001b[1;32m    370\u001b[0m         \u001b[0;32mreturn\u001b[0m \u001b[0msafe_sparse_dot\u001b[0m\u001b[0;34m(\u001b[0m\u001b[0mX\u001b[0m\u001b[0;34m,\u001b[0m \u001b[0mself\u001b[0m\u001b[0;34m.\u001b[0m\u001b[0mcoef_\u001b[0m\u001b[0;34m.\u001b[0m\u001b[0mT\u001b[0m\u001b[0;34m,\u001b[0m \u001b[0mdense_output\u001b[0m\u001b[0;34m=\u001b[0m\u001b[0;32mTrue\u001b[0m\u001b[0;34m)\u001b[0m \u001b[0;34m+\u001b[0m \u001b[0mself\u001b[0m\u001b[0;34m.\u001b[0m\u001b[0mintercept_\u001b[0m\u001b[0;34m\u001b[0m\u001b[0;34m\u001b[0m\u001b[0m\n\u001b[1;32m    371\u001b[0m \u001b[0;34m\u001b[0m\u001b[0m\n",
      "\u001b[0;32m~/opt/anaconda3/lib/python3.9/site-packages/sklearn/base.py\u001b[0m in \u001b[0;36m_validate_data\u001b[0;34m(self, X, y, reset, validate_separately, cast_to_ndarray, **check_params)\u001b[0m\n\u001b[1;32m    602\u001b[0m                 \u001b[0mout\u001b[0m \u001b[0;34m=\u001b[0m \u001b[0mX\u001b[0m\u001b[0;34m,\u001b[0m \u001b[0my\u001b[0m\u001b[0;34m\u001b[0m\u001b[0;34m\u001b[0m\u001b[0m\n\u001b[1;32m    603\u001b[0m         \u001b[0;32melif\u001b[0m \u001b[0;32mnot\u001b[0m \u001b[0mno_val_X\u001b[0m \u001b[0;32mand\u001b[0m \u001b[0mno_val_y\u001b[0m\u001b[0;34m:\u001b[0m\u001b[0;34m\u001b[0m\u001b[0;34m\u001b[0m\u001b[0m\n\u001b[0;32m--> 604\u001b[0;31m             \u001b[0mout\u001b[0m \u001b[0;34m=\u001b[0m \u001b[0mcheck_array\u001b[0m\u001b[0;34m(\u001b[0m\u001b[0mX\u001b[0m\u001b[0;34m,\u001b[0m \u001b[0minput_name\u001b[0m\u001b[0;34m=\u001b[0m\u001b[0;34m\"X\"\u001b[0m\u001b[0;34m,\u001b[0m \u001b[0;34m**\u001b[0m\u001b[0mcheck_params\u001b[0m\u001b[0;34m)\u001b[0m\u001b[0;34m\u001b[0m\u001b[0;34m\u001b[0m\u001b[0m\n\u001b[0m\u001b[1;32m    605\u001b[0m         \u001b[0;32melif\u001b[0m \u001b[0mno_val_X\u001b[0m \u001b[0;32mand\u001b[0m \u001b[0;32mnot\u001b[0m \u001b[0mno_val_y\u001b[0m\u001b[0;34m:\u001b[0m\u001b[0;34m\u001b[0m\u001b[0;34m\u001b[0m\u001b[0m\n\u001b[1;32m    606\u001b[0m             \u001b[0mout\u001b[0m \u001b[0;34m=\u001b[0m \u001b[0m_check_y\u001b[0m\u001b[0;34m(\u001b[0m\u001b[0my\u001b[0m\u001b[0;34m,\u001b[0m \u001b[0;34m**\u001b[0m\u001b[0mcheck_params\u001b[0m\u001b[0;34m)\u001b[0m\u001b[0;34m\u001b[0m\u001b[0;34m\u001b[0m\u001b[0m\n",
      "\u001b[0;32m~/opt/anaconda3/lib/python3.9/site-packages/sklearn/utils/validation.py\u001b[0m in \u001b[0;36mcheck_array\u001b[0;34m(array, accept_sparse, accept_large_sparse, dtype, order, copy, force_all_finite, ensure_2d, allow_nd, ensure_min_samples, ensure_min_features, estimator, input_name)\u001b[0m\n\u001b[1;32m    930\u001b[0m             \u001b[0;31m# If input is scalar raise error\u001b[0m\u001b[0;34m\u001b[0m\u001b[0;34m\u001b[0m\u001b[0m\n\u001b[1;32m    931\u001b[0m             \u001b[0;32mif\u001b[0m \u001b[0marray\u001b[0m\u001b[0;34m.\u001b[0m\u001b[0mndim\u001b[0m \u001b[0;34m==\u001b[0m \u001b[0;36m0\u001b[0m\u001b[0;34m:\u001b[0m\u001b[0;34m\u001b[0m\u001b[0;34m\u001b[0m\u001b[0m\n\u001b[0;32m--> 932\u001b[0;31m                 raise ValueError(\n\u001b[0m\u001b[1;32m    933\u001b[0m                     \u001b[0;34m\"Expected 2D array, got scalar array instead:\\narray={}.\\n\"\u001b[0m\u001b[0;34m\u001b[0m\u001b[0;34m\u001b[0m\u001b[0m\n\u001b[1;32m    934\u001b[0m                     \u001b[0;34m\"Reshape your data either using array.reshape(-1, 1) if \"\u001b[0m\u001b[0;34m\u001b[0m\u001b[0;34m\u001b[0m\u001b[0m\n",
      "\u001b[0;31mValueError\u001b[0m: Expected 2D array, got scalar array instead:\narray=MinMaxScaler().\nReshape your data either using array.reshape(-1, 1) if your data has a single feature or array.reshape(1, -1) if it contains a single sample."
     ]
    }
   ],
   "source": [
    "res_scale = {}\n",
    "for i in alphas:\n",
    "    LassoReg = Lasso(alpha = i)\n",
    "    LassoReg.fit(Xtrain_scaled, ytrain)\n",
    "    predLasso = LassoReg.predict(Xtest_scaled)\n",
    "#     res.append({i: metrics.r2_score(ytrain, predLasso)})\n",
    "    res_scale[i] = metrics.r2_score(ytest, predLasso)\n",
    "print(res_scale)"
   ]
  },
  {
   "cell_type": "code",
   "execution_count": 33,
   "id": "e785f582",
   "metadata": {},
   "outputs": [
    {
     "data": {
      "text/plain": [
       "<AxesSubplot:>"
      ]
     },
     "execution_count": 33,
     "metadata": {},
     "output_type": "execute_result"
    },
    {
     "data": {
      "image/png": "[encoded data removed]",
      "text/plain": [
       "<Figure size 864x864 with 2 Axes>"
      ]
     },
     "metadata": {},
     "output_type": "display_data"
    }
   ],
   "source": [
    "import seaborn as sb\n",
    "sb.set(rc={'figure.figsize':(12,12)})\n",
    "с = train.corr()\n",
    "sb.heatmap(train.corr(), cmap = \"Greens\", annot = True)"
   ]
  },
  {
   "cell_type": "markdown",
   "id": "63d98945",
   "metadata": {},
   "source": [
    "# Заново"
   ]
  },
  {
   "cell_type": "markdown",
   "id": "15115bab",
   "metadata": {},
   "source": [
    "## Без ничего"
   ]
  },
  {
   "cell_type": "code",
   "execution_count": 105,
   "id": "21f07504",
   "metadata": {},
   "outputs": [
    {
     "name": "stdout",
     "output_type": "stream",
     "text": [
      "0.6392361620660219\n",
      "51132.41069047862\n",
      "RMSE = 69675.74711633893\n",
      "[-71273.99906985 -71609.78165778 -70592.56349731 -68522.33085896\n",
      " -66800.61178853]\n",
      "7834     129200.0\n",
      "12458    185200.0\n",
      "2813     200000.0\n",
      "10483    165100.0\n",
      "6697     111300.0\n",
      "           ...   \n",
      "11872    213900.0\n",
      "12452    362700.0\n",
      "11056    154600.0\n",
      "7292     161100.0\n",
      "6176      62900.0\n",
      "Name: median_house_value, Length: 3612, dtype: float64\n",
      "[105766.70564516 248234.78559533 244048.88299319 ... 148002.24159021\n",
      " 135285.66092146  76972.92601757]\n"
     ]
    }
   ],
   "source": [
    "LinReg1 = LinearRegression()\n",
    "LinReg1.fit(Xtrain, ytrain)\n",
    "pred1 = LinReg1.predict(Xtest)\n",
    "print(metrics.r2_score(ytest, pred1))\n",
    "print(metrics.mean_absolute_error(ytest, pred1))\n",
    "print(f\"RMSE = {sqrt(metrics.mean_squared_error(ytest, pred1))}\")\n",
    "print(cross_val_score(LinReg1, Xtest, ytest, cv = 5, scoring = \"neg_root_mean_squared_error\"))\n",
    "print(ytest)\n",
    "print(pred1)"
   ]
  },
  {
   "cell_type": "markdown",
   "id": "38c1e122",
   "metadata": {},
   "source": [
    "## L1 без остального\n"
   ]
  },
  {
   "cell_type": "code",
   "execution_count": 106,
   "id": "48f68287",
   "metadata": {},
   "outputs": [
    {
     "name": "stdout",
     "output_type": "stream",
     "text": [
      "alpha = 79:    R2 = 0.6383642528975104    CV = 0.636122888527488\n",
      "RMSE = 69759.89393801996\n",
      "7834     129200.0\n",
      "12458    185200.0\n",
      "2813     200000.0\n",
      "10483    165100.0\n",
      "6697     111300.0\n",
      "           ...   \n",
      "11872    213900.0\n",
      "12452    362700.0\n",
      "11056    154600.0\n",
      "7292     161100.0\n",
      "6176      62900.0\n",
      "Name: median_house_value, Length: 3612, dtype: float64\n",
      "[105710.90799731 248223.04165196 243487.65172922 ... 147963.34572243\n",
      " 135854.97874378  77313.90716513]\n"
     ]
    }
   ],
   "source": [
    "i1 = 79\n",
    "LinReg2 = Lasso(alpha = i1)\n",
    "LinReg2.fit(Xtrain, ytrain)\n",
    "pred2 = LinReg2.predict(Xtest)\n",
    "print(f\"alpha = {i1}:    R2 = {metrics.r2_score(ytest, pred2)}    CV = {cross_val_score(LinReg2, Xtest, ytest, cv = 5, scoring = 'r2').mean()}\")\n",
    "\n",
    "print(f\"RMSE = {sqrt(metrics.mean_squared_error(ytest, pred2))}\")\n",
    "\n",
    "print(ytest)\n",
    "print(pred2)"
   ]
  },
  {
   "cell_type": "markdown",
   "id": "9bd692e6",
   "metadata": {},
   "source": [
    "## L2 без остального"
   ]
  },
  {
   "cell_type": "code",
   "execution_count": 45,
   "id": "30e77ac1",
   "metadata": {},
   "outputs": [
    {
     "name": "stdout",
     "output_type": "stream",
     "text": [
      "alpha = 75:    R2 = 0.6385000736540896    CV = 0.6359650110045343\n",
      "7834     129200.0\n",
      "12458    185200.0\n",
      "2813     200000.0\n",
      "10483    165100.0\n",
      "6697     111300.0\n",
      "           ...   \n",
      "11872    213900.0\n",
      "12452    362700.0\n",
      "11056    154600.0\n",
      "7292     161100.0\n",
      "6176      62900.0\n",
      "Name: median_house_value, Length: 3612, dtype: float64\n",
      "[105298.0133419  247814.39898515 242916.26118833 ... 147525.80356696\n",
      " 136486.42678045  77971.96863715]\n"
     ]
    }
   ],
   "source": [
    "i2 = 75\n",
    "LinReg3 = Ridge(alpha = i2)\n",
    "LinReg3.fit(Xtrain, ytrain)\n",
    "pred3 = LinReg3.predict(Xtest)\n",
    "print(f\"alpha = {i2}:    R2 = {metrics.r2_score(ytest, pred3)}    CV = {cross_val_score(LinReg3, Xtest, ytest, cv = 5, scoring = 'r2').mean()}\")\n",
    "\n",
    "\n",
    "print(ytest)\n",
    "print(pred3)"
   ]
  },
  {
   "cell_type": "markdown",
   "id": "e225659a",
   "metadata": {},
   "source": [
    "## Масштабирование без ничего"
   ]
  },
  {
   "cell_type": "code",
   "execution_count": 86,
   "id": "91f507db",
   "metadata": {},
   "outputs": [],
   "source": [
    "scaler1 = StandardScaler()\n",
    "Xtrain_scaled = scaler1.fit_transform(Xtrain)\n",
    "Xtest_scaled = scaler1.transform(Xtest)"
   ]
  },
  {
   "cell_type": "code",
   "execution_count": 87,
   "id": "ce929607",
   "metadata": {},
   "outputs": [
    {
     "name": "stdout",
     "output_type": "stream",
     "text": [
      "0.6392361620660212\n",
      "51132.410690478646\n",
      "4854709736.220021\n",
      "[0.61952196 0.6342116  0.62109592 0.64761952 0.66552088]\n",
      "7834     129200.0\n",
      "12458    185200.0\n",
      "2813     200000.0\n",
      "10483    165100.0\n",
      "6697     111300.0\n",
      "           ...   \n",
      "11872    213900.0\n",
      "12452    362700.0\n",
      "11056    154600.0\n",
      "7292     161100.0\n",
      "6176      62900.0\n",
      "Name: median_house_value, Length: 3612, dtype: float64\n",
      "[105766.70564516 248234.78559533 244048.8829932  ... 148002.24159021\n",
      " 135285.66092146  76972.92601757]\n"
     ]
    }
   ],
   "source": [
    "LinReg4 = LinearRegression()\n",
    "LinReg4.fit(Xtrain_scaled, ytrain)\n",
    "pred4 = LinReg4.predict(Xtest_scaled)\n",
    "print(metrics.r2_score(ytest, pred4))\n",
    "print(metrics.mean_absolute_error(ytest, pred4))\n",
    "print(metrics.mean_squared_error(ytest, pred4))\n",
    "print(cross_val_score(LinReg4, Xtest_scaled, ytest, cv = 5, scoring = \"r2\"))\n",
    "\n",
    "print(ytest)\n",
    "print(pred4)"
   ]
  },
  {
   "cell_type": "markdown",
   "id": "a16c3e6a",
   "metadata": {},
   "source": [
    "## Масштабирование с L1"
   ]
  },
  {
   "cell_type": "code",
   "execution_count": 91,
   "id": "d91bd34f",
   "metadata": {},
   "outputs": [
    {
     "name": "stdout",
     "output_type": "stream",
     "text": [
      "alpha = 79:    R2 = 0.6389360983204778    CV = 0.6376200945370676\n",
      "7834     129200.0\n",
      "12458    185200.0\n",
      "2813     200000.0\n",
      "10483    165100.0\n",
      "6697     111300.0\n",
      "           ...   \n",
      "11872    213900.0\n",
      "12452    362700.0\n",
      "11056    154600.0\n",
      "7292     161100.0\n",
      "6176      62900.0\n",
      "Name: median_house_value, Length: 3612, dtype: float64\n",
      "[106329.75918257 248423.16986589 243448.68542321 ... 148566.02574446\n",
      " 135080.31012942  76947.29936286]\n"
     ]
    }
   ],
   "source": [
    "i1 = 79\n",
    "LinReg5 = Lasso(alpha = i1)\n",
    "LinReg5.fit(Xtrain_scaled, ytrain)\n",
    "pred5 = LinReg5.predict(Xtest_scaled)\n",
    "print(f\"alpha = {i1}:    R2 = {metrics.r2_score(ytest, pred5)}    CV = {cross_val_score(LinReg5, Xtest_scaled, ytest, cv = 5, scoring = 'r2').mean()}\")\n",
    "print(ytest)\n",
    "print(pred5)"
   ]
  },
  {
   "cell_type": "markdown",
   "id": "575ad87e",
   "metadata": {},
   "source": [
    "## Масштабирование с L2"
   ]
  },
  {
   "cell_type": "code",
   "execution_count": 92,
   "id": "e9118e97",
   "metadata": {},
   "outputs": [
    {
     "name": "stdout",
     "output_type": "stream",
     "text": [
      "alpha = 100:    R2 = 0.6367293922843115    CV = 0.630370346057737\n",
      "7834     129200.0\n",
      "12458    185200.0\n",
      "2813     200000.0\n",
      "10483    165100.0\n",
      "6697     111300.0\n",
      "           ...   \n",
      "11872    213900.0\n",
      "12452    362700.0\n",
      "11056    154600.0\n",
      "7292     161100.0\n",
      "6176      62900.0\n",
      "Name: median_house_value, Length: 3612, dtype: float64\n",
      "[108551.70173194 248968.41459186 242116.11070007 ... 150222.97339736\n",
      " 136759.01988894  76596.54101079]\n"
     ]
    }
   ],
   "source": [
    "i2 = 100\n",
    "LinReg6 = Ridge(alpha = i2)\n",
    "LinReg6.fit(Xtrain_scaled, ytrain)\n",
    "pred6 = LinReg6.predict(Xtest_scaled)\n",
    "print(f\"alpha = {i2}:    R2 = {metrics.r2_score(ytest, pred6)}    CV = {cross_val_score(LinReg6, Xtest_scaled, ytest, cv = 5, scoring = 'r2').mean()}\")\n",
    "\n",
    "print(ytest)\n",
    "print(pred6)"
   ]
  },
  {
   "cell_type": "markdown",
   "id": "f0d605be",
   "metadata": {},
   "source": [
    "## Elastic без масштабирования"
   ]
  },
  {
   "cell_type": "code",
   "execution_count": 98,
   "id": "94440394",
   "metadata": {},
   "outputs": [
    {
     "name": "stdout",
     "output_type": "stream",
     "text": [
      "[0.62017404 0.63102539 0.62107527 0.64736855 0.66128403]\n"
     ]
    }
   ],
   "source": [
    "parameters = {'alpha' : np.arange(0.1, 2.1, 0.1), 'l1_ratio' : np.arange(0.1, 1, 0.1)}\n",
    "LinReg7 = ElasticNet()\n",
    "gs7 = GridSearchCV(LinReg7, parameters)\n",
    "gs7.fit(Xtrain, ytrain)\n",
    "pred7 = gs7.predict(Xtest)\n",
    "print(cross_val_score(gs7, Xtest, ytest, cv = 5, scoring = \"\"))"
   ]
  },
  {
   "cell_type": "code",
   "execution_count": 107,
   "id": "82063da3",
   "metadata": {},
   "outputs": [
    {
     "name": "stdout",
     "output_type": "stream",
     "text": [
      "RMSE = 69675.74711633893\n",
      "RMSE = 69759.89393801996\n",
      "RMSE = 69746.79272852793\n",
      "RMSE = 69675.74711633899\n",
      "RMSE = 69704.71734270517\n",
      "RMSE = 69917.3992447611\n",
      "RMSE = 69743.50409728248\n"
     ]
    }
   ],
   "source": [
    "print(f\"RMSE 1 = {sqrt(metrics.mean_squared_error(ytest, pred1))}\")\n",
    "print(f\"RMSE 2 = {sqrt(metrics.mean_squared_error(ytest, pred2))}\")\n",
    "print(f\"RMSE 3 = {sqrt(metrics.mean_squared_error(ytest, pred3))}\")\n",
    "print(f\"RMSE 4 = {sqrt(metrics.mean_squared_error(ytest, pred4))}\")\n",
    "print(f\"RMSE 5 = {sqrt(metrics.mean_squared_error(ytest, pred5))}\")\n",
    "print(f\"RMSE 6 = {sqrt(metrics.mean_squared_error(ytest, pred6))}\")\n",
    "print(f\"RMSE 7 = {sqrt(metrics.mean_squared_error(ytest, pred7))}\")"
   ]
  },
  {
   "cell_type": "code",
   "execution_count": 21,
   "id": "7522a9a7",
   "metadata": {},
   "outputs": [
    {
     "name": "stdout",
     "output_type": "stream",
     "text": [
      "RMSE 8 = 60723.56053377888\n",
      "R2 8 = 0.7259850948659397\n"
     ]
    }
   ],
   "source": [
    "poly = PolynomialFeatures(degree = 3, include_bias=False)\n",
    "Xtrain_poly = poly.fit_transform(Xtrain)\n",
    "Xtest_poly = poly.transform(Xtest)\n",
    "LinReg8 = LinearRegression()\n",
    "LinReg8.fit(Xtrain_poly, ytrain)\n",
    "pred8 = LinReg8.predict(Xtest_poly)\n",
    "print(f\"RMSE 8 = {sqrt(metrics.mean_squared_error(ytest, pred8))}\")\n",
    "print(f\"R2 8 = {metrics.r2_score(ytest, pred8)}\")"
   ]
  },
  {
   "cell_type": "markdown",
   "id": "67633606",
   "metadata": {},
   "source": [
    "# Упрощённый запуск"
   ]
  },
  {
   "cell_type": "code",
   "execution_count": 177,
   "id": "5a347c73",
   "metadata": {},
   "outputs": [],
   "source": [
    "solution = pd.read_csv('/Users/n0thing_seri0us/Downloads/housing_test_sample_solution.csv').drop(['Id'], axis = 1)\n",
    "train = pd.read_csv('/Users/n0thing_seri0us/Downloads/housing_train.csv').drop(['total_bedrooms'], axis = 1)\n",
    "test = pd.read_csv('/Users/n0thing_seri0us/Downloads/housing_test.csv').drop(['total_bedrooms'], axis = 1)\n",
    "\n",
    "\n",
    "train = pd.get_dummies(train, drop_first = True)\n",
    "test = pd.get_dummies(test, drop_first = True).drop(['Id'], axis = 1)\n",
    "\n",
    "Xtrainn = train.drop(['median_house_value'], axis = 1)\n",
    "ytrainn = train['median_house_value']\n",
    "\n",
    "train = train.dropna()\n",
    "Xtrain, Xtest, ytrain, ytest = train_test_split(train.drop(['median_house_value'], axis = 1), train['median_house_value'], test_size = 0.25, random_state = 42)"
   ]
  },
  {
   "cell_type": "code",
   "execution_count": 178,
   "id": "9e84e98b",
   "metadata": {},
   "outputs": [
    {
     "name": "stdout",
     "output_type": "stream",
     "text": [
      "RMSE 8 = 60723.56053377888\n",
      "R2 8 = 0.7259850948659397\n",
      "7834     129200.0\n",
      "12458    185200.0\n",
      "2813     200000.0\n",
      "10483    165100.0\n",
      "6697     111300.0\n",
      "           ...   \n",
      "11872    213900.0\n",
      "12452    362700.0\n",
      "11056    154600.0\n",
      "7292     161100.0\n",
      "6176      62900.0\n",
      "Name: median_house_value, Length: 3612, dtype: float64\n",
      "[159895.50144675 230218.95734721 238733.0947776  ... 150915.87217942\n",
      " 150521.25661436  77371.2711027 ]\n"
     ]
    }
   ],
   "source": [
    "poly = PolynomialFeatures(degree = 3, include_bias=False)\n",
    "Xtrain_poly = poly.fit_transform(Xtrain)\n",
    "Xtest_poly = poly.transform(Xtest)\n",
    "\n",
    "scaler = StandardScaler()\n",
    "Xtrain_poly_scale = scaler.fit_transform(Xtrain_poly)\n",
    "Xtest_poly_scale = scaler.transform(Xtest_poly)\n",
    "\n",
    "LinReg8 = LinearRegression()\n",
    "LinReg8.fit(Xtrain_poly, ytrain)\n",
    "pred8 = LinReg8.predict(Xtest_poly)\n",
    "\n",
    "# LinReg8 = Lasso(alpha = 10)\n",
    "# LinReg8.fit(Xtrain_poly, ytrain)\n",
    "# pred8 = LinReg8.predict(Xtest_poly)\n",
    "\n",
    "print(f\"RMSE 8 = {sqrt(metrics.mean_squared_error(ytest, pred8))}\")\n",
    "print(f\"R2 8 = {metrics.r2_score(ytest, pred8)}\")\n",
    "print(ytest)\n",
    "print(pred8)\n"
   ]
  },
  {
   "cell_type": "code",
   "execution_count": 181,
   "id": "702eac8c",
   "metadata": {},
   "outputs": [],
   "source": [
    "from sklearn.pipeline import Pipeline\n",
    "from sklearn.decomposition import PCA\n",
    "pipe = Pipeline( steps = [\n",
    "    ('scaler', StandardScaler()),\n",
    "    ('preprocessor', PolynomialFeatures(degree=2, include_bias=False)),\n",
    "    ('estimator', Ridge(alpha=16.5))\n",
    "    #('estimator', Ridge(alpha=16.45))\n",
    "    #('estimator', ElasticNet(alpha = 100, l1_ratio = 0.9))\n",
    "])\n",
    "\n",
    "pipe.fit(Xtrainn, ytrainn)\n",
    "pred9 = pipe.predict(test)\n",
    "# print(f\"RMSE 9 = {sqrt(metrics.mean_squared_error(ytest, pred9))}\")\n",
    "# print(f\"R2 9 = {metrics.r2_score(ytest, pred9)}\")"
   ]
  },
  {
   "cell_type": "code",
   "execution_count": 109,
   "id": "eb658abb",
   "metadata": {},
   "outputs": [
    {
     "data": {
      "text/plain": [
       "116019.30555437846"
      ]
     },
     "execution_count": 109,
     "metadata": {},
     "output_type": "execute_result"
    }
   ],
   "source": [
    "sqrt(ytest.var())"
   ]
  },
  {
   "cell_type": "code",
   "execution_count": 153,
   "id": "757e73d2",
   "metadata": {},
   "outputs": [],
   "source": [
    "solve = pd.DataFrame(pipe.predict(test))\n",
    "solve.to_csv(\"data13.csv\")"
   ]
  },
  {
   "cell_type": "code",
   "execution_count": 152,
   "id": "d2c9a8cc",
   "metadata": {},
   "outputs": [
    {
     "ename": "AttributeError",
     "evalue": "'numpy.ndarray' object has no attribute 'to_file'",
     "output_type": "error",
     "traceback": [
      "\u001b[0;31m---------------------------------------------------------------------------\u001b[0m",
      "\u001b[0;31mAttributeError\u001b[0m                            Traceback (most recent call last)",
      "\u001b[0;32m/var/folders/3g/ktz7q1615554pkcz5z9gg3vc0000gn/T/ipykernel_57475/3808764138.py\u001b[0m in \u001b[0;36m<module>\u001b[0;34m\u001b[0m\n\u001b[0;32m----> 1\u001b[0;31m \u001b[0mpipe\u001b[0m\u001b[0;34m.\u001b[0m\u001b[0mpredict\u001b[0m\u001b[0;34m(\u001b[0m\u001b[0mtest\u001b[0m\u001b[0;34m)\u001b[0m\u001b[0;34m.\u001b[0m\u001b[0mto_file\u001b[0m\u001b[0;34m(\u001b[0m\u001b[0;34m'data13.csv'\u001b[0m\u001b[0;34m,\u001b[0m \u001b[0msep\u001b[0m \u001b[0;34m=\u001b[0m \u001b[0;34m'\\n'\u001b[0m\u001b[0;34m)\u001b[0m\u001b[0;34m\u001b[0m\u001b[0;34m\u001b[0m\u001b[0m\n\u001b[0m",
      "\u001b[0;31mAttributeError\u001b[0m: 'numpy.ndarray' object has no attribute 'to_file'"
     ]
    }
   ],
   "source": [
    "pipe.predict(test).to_file('data13.csv', sep = '\\n')"
   ]
  },
  {
   "cell_type": "code",
   "execution_count": 159,
   "id": "73dd4bd3",
   "metadata": {},
   "outputs": [
    {
     "ename": "TypeError",
     "evalue": "Index(...) must be called with a collection of some kind, 'Id' was passed",
     "output_type": "error",
     "traceback": [
      "\u001b[0;31m---------------------------------------------------------------------------\u001b[0m",
      "\u001b[0;31mTypeError\u001b[0m                                 Traceback (most recent call last)",
      "\u001b[0;32m/var/folders/3g/ktz7q1615554pkcz5z9gg3vc0000gn/T/ipykernel_57475/374171752.py\u001b[0m in \u001b[0;36m<module>\u001b[0;34m\u001b[0m\n\u001b[0;32m----> 1\u001b[0;31m \u001b[0mId\u001b[0m \u001b[0;34m=\u001b[0m\u001b[0mpd\u001b[0m\u001b[0;34m.\u001b[0m\u001b[0mDataFrame\u001b[0m\u001b[0;34m(\u001b[0m\u001b[0mnp\u001b[0m\u001b[0;34m.\u001b[0m\u001b[0marange\u001b[0m\u001b[0;34m(\u001b[0m\u001b[0;36m1\u001b[0m\u001b[0;34m,\u001b[0m \u001b[0;36m6192\u001b[0m\u001b[0;34m)\u001b[0m\u001b[0;34m,\u001b[0m \u001b[0mcolumns\u001b[0m \u001b[0;34m=\u001b[0m \u001b[0;34m'Id'\u001b[0m\u001b[0;34m)\u001b[0m\u001b[0;34m\u001b[0m\u001b[0;34m\u001b[0m\u001b[0m\n\u001b[0m",
      "\u001b[0;32m~/opt/anaconda3/lib/python3.9/site-packages/pandas/core/frame.py\u001b[0m in \u001b[0;36m__init__\u001b[0;34m(self, data, index, columns, dtype, copy)\u001b[0m\n\u001b[1;32m    670\u001b[0m                 )\n\u001b[1;32m    671\u001b[0m             \u001b[0;32melse\u001b[0m\u001b[0;34m:\u001b[0m\u001b[0;34m\u001b[0m\u001b[0;34m\u001b[0m\u001b[0m\n\u001b[0;32m--> 672\u001b[0;31m                 mgr = ndarray_to_mgr(\n\u001b[0m\u001b[1;32m    673\u001b[0m                     \u001b[0mdata\u001b[0m\u001b[0;34m,\u001b[0m\u001b[0;34m\u001b[0m\u001b[0;34m\u001b[0m\u001b[0m\n\u001b[1;32m    674\u001b[0m                     \u001b[0mindex\u001b[0m\u001b[0;34m,\u001b[0m\u001b[0;34m\u001b[0m\u001b[0;34m\u001b[0m\u001b[0m\n",
      "\u001b[0;32m~/opt/anaconda3/lib/python3.9/site-packages/pandas/core/internals/construction.py\u001b[0m in \u001b[0;36mndarray_to_mgr\u001b[0;34m(values, index, columns, dtype, copy, typ)\u001b[0m\n\u001b[1;32m    318\u001b[0m \u001b[0;34m\u001b[0m\u001b[0m\n\u001b[1;32m    319\u001b[0m     \u001b[0;31m# _prep_ndarray ensures that values.ndim == 2 at this point\u001b[0m\u001b[0;34m\u001b[0m\u001b[0;34m\u001b[0m\u001b[0m\n\u001b[0;32m--> 320\u001b[0;31m     index, columns = _get_axes(\n\u001b[0m\u001b[1;32m    321\u001b[0m         \u001b[0mvalues\u001b[0m\u001b[0;34m.\u001b[0m\u001b[0mshape\u001b[0m\u001b[0;34m[\u001b[0m\u001b[0;36m0\u001b[0m\u001b[0;34m]\u001b[0m\u001b[0;34m,\u001b[0m \u001b[0mvalues\u001b[0m\u001b[0;34m.\u001b[0m\u001b[0mshape\u001b[0m\u001b[0;34m[\u001b[0m\u001b[0;36m1\u001b[0m\u001b[0;34m]\u001b[0m\u001b[0;34m,\u001b[0m \u001b[0mindex\u001b[0m\u001b[0;34m=\u001b[0m\u001b[0mindex\u001b[0m\u001b[0;34m,\u001b[0m \u001b[0mcolumns\u001b[0m\u001b[0;34m=\u001b[0m\u001b[0mcolumns\u001b[0m\u001b[0;34m\u001b[0m\u001b[0;34m\u001b[0m\u001b[0m\n\u001b[1;32m    322\u001b[0m     )\n",
      "\u001b[0;32m~/opt/anaconda3/lib/python3.9/site-packages/pandas/core/internals/construction.py\u001b[0m in \u001b[0;36m_get_axes\u001b[0;34m(N, K, index, columns)\u001b[0m\n\u001b[1;32m    700\u001b[0m         \u001b[0mcolumns\u001b[0m \u001b[0;34m=\u001b[0m \u001b[0mibase\u001b[0m\u001b[0;34m.\u001b[0m\u001b[0mdefault_index\u001b[0m\u001b[0;34m(\u001b[0m\u001b[0mK\u001b[0m\u001b[0;34m)\u001b[0m\u001b[0;34m\u001b[0m\u001b[0;34m\u001b[0m\u001b[0m\n\u001b[1;32m    701\u001b[0m     \u001b[0;32melse\u001b[0m\u001b[0;34m:\u001b[0m\u001b[0;34m\u001b[0m\u001b[0;34m\u001b[0m\u001b[0m\n\u001b[0;32m--> 702\u001b[0;31m         \u001b[0mcolumns\u001b[0m \u001b[0;34m=\u001b[0m \u001b[0mensure_index\u001b[0m\u001b[0;34m(\u001b[0m\u001b[0mcolumns\u001b[0m\u001b[0;34m)\u001b[0m\u001b[0;34m\u001b[0m\u001b[0;34m\u001b[0m\u001b[0m\n\u001b[0m\u001b[1;32m    703\u001b[0m     \u001b[0;32mreturn\u001b[0m \u001b[0mindex\u001b[0m\u001b[0;34m,\u001b[0m \u001b[0mcolumns\u001b[0m\u001b[0;34m\u001b[0m\u001b[0;34m\u001b[0m\u001b[0m\n\u001b[1;32m    704\u001b[0m \u001b[0;34m\u001b[0m\u001b[0m\n",
      "\u001b[0;32m~/opt/anaconda3/lib/python3.9/site-packages/pandas/core/indexes/base.py\u001b[0m in \u001b[0;36mensure_index\u001b[0;34m(index_like, copy)\u001b[0m\n\u001b[1;32m   6334\u001b[0m     \u001b[0;32melse\u001b[0m\u001b[0;34m:\u001b[0m\u001b[0;34m\u001b[0m\u001b[0;34m\u001b[0m\u001b[0m\n\u001b[1;32m   6335\u001b[0m \u001b[0;34m\u001b[0m\u001b[0m\n\u001b[0;32m-> 6336\u001b[0;31m         \u001b[0;32mreturn\u001b[0m \u001b[0mIndex\u001b[0m\u001b[0;34m(\u001b[0m\u001b[0mindex_like\u001b[0m\u001b[0;34m,\u001b[0m \u001b[0mcopy\u001b[0m\u001b[0;34m=\u001b[0m\u001b[0mcopy\u001b[0m\u001b[0;34m)\u001b[0m\u001b[0;34m\u001b[0m\u001b[0;34m\u001b[0m\u001b[0m\n\u001b[0m\u001b[1;32m   6337\u001b[0m \u001b[0;34m\u001b[0m\u001b[0m\n\u001b[1;32m   6338\u001b[0m \u001b[0;34m\u001b[0m\u001b[0m\n",
      "\u001b[0;32m~/opt/anaconda3/lib/python3.9/site-packages/pandas/core/indexes/base.py\u001b[0m in \u001b[0;36m__new__\u001b[0;34m(cls, data, dtype, copy, name, tupleize_cols, **kwargs)\u001b[0m\n\u001b[1;32m    472\u001b[0m \u001b[0;34m\u001b[0m\u001b[0m\n\u001b[1;32m    473\u001b[0m         \u001b[0;32melif\u001b[0m \u001b[0mis_scalar\u001b[0m\u001b[0;34m(\u001b[0m\u001b[0mdata\u001b[0m\u001b[0;34m)\u001b[0m\u001b[0;34m:\u001b[0m\u001b[0;34m\u001b[0m\u001b[0;34m\u001b[0m\u001b[0m\n\u001b[0;32m--> 474\u001b[0;31m             \u001b[0;32mraise\u001b[0m \u001b[0mcls\u001b[0m\u001b[0;34m.\u001b[0m\u001b[0m_scalar_data_error\u001b[0m\u001b[0;34m(\u001b[0m\u001b[0mdata\u001b[0m\u001b[0;34m)\u001b[0m\u001b[0;34m\u001b[0m\u001b[0;34m\u001b[0m\u001b[0m\n\u001b[0m\u001b[1;32m    475\u001b[0m         \u001b[0;32melif\u001b[0m \u001b[0mhasattr\u001b[0m\u001b[0;34m(\u001b[0m\u001b[0mdata\u001b[0m\u001b[0;34m,\u001b[0m \u001b[0;34m\"__array__\"\u001b[0m\u001b[0;34m)\u001b[0m\u001b[0;34m:\u001b[0m\u001b[0;34m\u001b[0m\u001b[0;34m\u001b[0m\u001b[0m\n\u001b[1;32m    476\u001b[0m             \u001b[0;32mreturn\u001b[0m \u001b[0mIndex\u001b[0m\u001b[0;34m(\u001b[0m\u001b[0mnp\u001b[0m\u001b[0;34m.\u001b[0m\u001b[0masarray\u001b[0m\u001b[0;34m(\u001b[0m\u001b[0mdata\u001b[0m\u001b[0;34m)\u001b[0m\u001b[0;34m,\u001b[0m \u001b[0mdtype\u001b[0m\u001b[0;34m=\u001b[0m\u001b[0mdtype\u001b[0m\u001b[0;34m,\u001b[0m \u001b[0mcopy\u001b[0m\u001b[0;34m=\u001b[0m\u001b[0mcopy\u001b[0m\u001b[0;34m,\u001b[0m \u001b[0mname\u001b[0m\u001b[0;34m=\u001b[0m\u001b[0mname\u001b[0m\u001b[0;34m,\u001b[0m \u001b[0;34m**\u001b[0m\u001b[0mkwargs\u001b[0m\u001b[0;34m)\u001b[0m\u001b[0;34m\u001b[0m\u001b[0;34m\u001b[0m\u001b[0m\n",
      "\u001b[0;31mTypeError\u001b[0m: Index(...) must be called with a collection of some kind, 'Id' was passed"
     ]
    }
   ],
   "source": [
    "Id = pd.DataFrame(np.arange(1, 6192), columns = 'Id')\n"
   ]
  },
  {
   "cell_type": "code",
   "execution_count": 160,
   "id": "7316fbda",
   "metadata": {},
   "outputs": [
    {
     "data": {
      "text/html": [
       "<div>\n",
       "<style scoped>\n",
       "    .dataframe tbody tr th:only-of-type {\n",
       "        vertical-align: middle;\n",
       "    }\n",
       "\n",
       "    .dataframe tbody tr th {\n",
       "        vertical-align: top;\n",
       "    }\n",
       "\n",
       "    .dataframe thead th {\n",
       "        text-align: right;\n",
       "    }\n",
       "</style>\n",
       "<table border=\"1\" class=\"dataframe\">\n",
       "  <thead>\n",
       "    <tr style=\"text-align: right;\">\n",
       "      <th></th>\n",
       "      <th>Id</th>\n",
       "      <th>median_house_value</th>\n",
       "    </tr>\n",
       "  </thead>\n",
       "  <tbody>\n",
       "    <tr>\n",
       "      <th>0</th>\n",
       "      <td>0</td>\n",
       "      <td>205311.609173</td>\n",
       "    </tr>\n",
       "    <tr>\n",
       "      <th>1</th>\n",
       "      <td>1</td>\n",
       "      <td>205311.609173</td>\n",
       "    </tr>\n",
       "    <tr>\n",
       "      <th>2</th>\n",
       "      <td>2</td>\n",
       "      <td>205311.609173</td>\n",
       "    </tr>\n",
       "    <tr>\n",
       "      <th>3</th>\n",
       "      <td>3</td>\n",
       "      <td>205311.609173</td>\n",
       "    </tr>\n",
       "    <tr>\n",
       "      <th>4</th>\n",
       "      <td>4</td>\n",
       "      <td>205311.609173</td>\n",
       "    </tr>\n",
       "    <tr>\n",
       "      <th>...</th>\n",
       "      <td>...</td>\n",
       "      <td>...</td>\n",
       "    </tr>\n",
       "    <tr>\n",
       "      <th>6187</th>\n",
       "      <td>6187</td>\n",
       "      <td>205311.609173</td>\n",
       "    </tr>\n",
       "    <tr>\n",
       "      <th>6188</th>\n",
       "      <td>6188</td>\n",
       "      <td>205311.609173</td>\n",
       "    </tr>\n",
       "    <tr>\n",
       "      <th>6189</th>\n",
       "      <td>6189</td>\n",
       "      <td>205311.609173</td>\n",
       "    </tr>\n",
       "    <tr>\n",
       "      <th>6190</th>\n",
       "      <td>6190</td>\n",
       "      <td>205311.609173</td>\n",
       "    </tr>\n",
       "    <tr>\n",
       "      <th>6191</th>\n",
       "      <td>6191</td>\n",
       "      <td>205311.609173</td>\n",
       "    </tr>\n",
       "  </tbody>\n",
       "</table>\n",
       "<p>6192 rows × 2 columns</p>\n",
       "</div>"
      ],
      "text/plain": [
       "        Id  median_house_value\n",
       "0        0       205311.609173\n",
       "1        1       205311.609173\n",
       "2        2       205311.609173\n",
       "3        3       205311.609173\n",
       "4        4       205311.609173\n",
       "...    ...                 ...\n",
       "6187  6187       205311.609173\n",
       "6188  6188       205311.609173\n",
       "6189  6189       205311.609173\n",
       "6190  6190       205311.609173\n",
       "6191  6191       205311.609173\n",
       "\n",
       "[6192 rows x 2 columns]"
      ]
     },
     "execution_count": 160,
     "metadata": {},
     "output_type": "execute_result"
    }
   ],
   "source": [
    "solution"
   ]
  },
  {
   "cell_type": "code",
   "execution_count": 161,
   "id": "d82c67cd",
   "metadata": {},
   "outputs": [],
   "source": [
    "solution['median_house_value'] = solve"
   ]
  },
  {
   "cell_type": "code",
   "execution_count": 163,
   "id": "7165fd11",
   "metadata": {},
   "outputs": [],
   "source": [
    "solution.to_csv('data13.csv')"
   ]
  },
  {
   "cell_type": "code",
   "execution_count": 166,
   "id": "20f2969b",
   "metadata": {},
   "outputs": [],
   "source": [
    "df = pd.DataFrame(solve)\n",
    "df[\"id\"] = df.index\n",
    "df.rename(columns={ 0: \"median_house_value\"},inplace=True)\n",
    "df.to_csv('result_final.csv', index = False)"
   ]
  },
  {
   "cell_type": "code",
   "execution_count": 171,
   "id": "d58840ab",
   "metadata": {},
   "outputs": [
    {
     "data": {
      "text/html": [
       "<div>\n",
       "<style scoped>\n",
       "    .dataframe tbody tr th:only-of-type {\n",
       "        vertical-align: middle;\n",
       "    }\n",
       "\n",
       "    .dataframe tbody tr th {\n",
       "        vertical-align: top;\n",
       "    }\n",
       "\n",
       "    .dataframe thead th {\n",
       "        text-align: right;\n",
       "    }\n",
       "</style>\n",
       "<table border=\"1\" class=\"dataframe\">\n",
       "  <thead>\n",
       "    <tr style=\"text-align: right;\">\n",
       "      <th></th>\n",
       "      <th>Id</th>\n",
       "      <th>median_house_value</th>\n",
       "    </tr>\n",
       "  </thead>\n",
       "  <tbody>\n",
       "    <tr>\n",
       "      <th>0</th>\n",
       "      <td>0</td>\n",
       "      <td>221693.364743</td>\n",
       "    </tr>\n",
       "    <tr>\n",
       "      <th>1</th>\n",
       "      <td>1</td>\n",
       "      <td>108956.840574</td>\n",
       "    </tr>\n",
       "    <tr>\n",
       "      <th>2</th>\n",
       "      <td>2</td>\n",
       "      <td>141262.752884</td>\n",
       "    </tr>\n",
       "    <tr>\n",
       "      <th>3</th>\n",
       "      <td>3</td>\n",
       "      <td>187527.275524</td>\n",
       "    </tr>\n",
       "    <tr>\n",
       "      <th>4</th>\n",
       "      <td>4</td>\n",
       "      <td>333744.876658</td>\n",
       "    </tr>\n",
       "    <tr>\n",
       "      <th>...</th>\n",
       "      <td>...</td>\n",
       "      <td>...</td>\n",
       "    </tr>\n",
       "    <tr>\n",
       "      <th>6187</th>\n",
       "      <td>6187</td>\n",
       "      <td>184459.092879</td>\n",
       "    </tr>\n",
       "    <tr>\n",
       "      <th>6188</th>\n",
       "      <td>6188</td>\n",
       "      <td>-10126.323140</td>\n",
       "    </tr>\n",
       "    <tr>\n",
       "      <th>6189</th>\n",
       "      <td>6189</td>\n",
       "      <td>233159.317509</td>\n",
       "    </tr>\n",
       "    <tr>\n",
       "      <th>6190</th>\n",
       "      <td>6190</td>\n",
       "      <td>317876.882107</td>\n",
       "    </tr>\n",
       "    <tr>\n",
       "      <th>6191</th>\n",
       "      <td>6191</td>\n",
       "      <td>242279.413847</td>\n",
       "    </tr>\n",
       "  </tbody>\n",
       "</table>\n",
       "<p>6192 rows × 2 columns</p>\n",
       "</div>"
      ],
      "text/plain": [
       "        Id  median_house_value\n",
       "0        0       221693.364743\n",
       "1        1       108956.840574\n",
       "2        2       141262.752884\n",
       "3        3       187527.275524\n",
       "4        4       333744.876658\n",
       "...    ...                 ...\n",
       "6187  6187       184459.092879\n",
       "6188  6188       -10126.323140\n",
       "6189  6189       233159.317509\n",
       "6190  6190       317876.882107\n",
       "6191  6191       242279.413847\n",
       "\n",
       "[6192 rows x 2 columns]"
      ]
     },
     "execution_count": 171,
     "metadata": {},
     "output_type": "execute_result"
    }
   ],
   "source": [
    "solution"
   ]
  },
  {
   "cell_type": "code",
   "execution_count": 172,
   "id": "859b81a4",
   "metadata": {},
   "outputs": [
    {
     "data": {
      "text/html": [
       "<div>\n",
       "<style scoped>\n",
       "    .dataframe tbody tr th:only-of-type {\n",
       "        vertical-align: middle;\n",
       "    }\n",
       "\n",
       "    .dataframe tbody tr th {\n",
       "        vertical-align: top;\n",
       "    }\n",
       "\n",
       "    .dataframe thead th {\n",
       "        text-align: right;\n",
       "    }\n",
       "</style>\n",
       "<table border=\"1\" class=\"dataframe\">\n",
       "  <thead>\n",
       "    <tr style=\"text-align: right;\">\n",
       "      <th></th>\n",
       "      <th>Id</th>\n",
       "      <th>longitude</th>\n",
       "      <th>latitude</th>\n",
       "      <th>housing_median_age</th>\n",
       "      <th>total_rooms</th>\n",
       "      <th>population</th>\n",
       "      <th>households</th>\n",
       "      <th>median_income</th>\n",
       "      <th>ocean_proximity</th>\n",
       "    </tr>\n",
       "  </thead>\n",
       "  <tbody>\n",
       "    <tr>\n",
       "      <th>0</th>\n",
       "      <td>0</td>\n",
       "      <td>-122.64</td>\n",
       "      <td>38.24</td>\n",
       "      <td>40.0</td>\n",
       "      <td>1974.0</td>\n",
       "      <td>1039.0</td>\n",
       "      <td>398.0</td>\n",
       "      <td>3.7917</td>\n",
       "      <td>&lt;1H OCEAN</td>\n",
       "    </tr>\n",
       "    <tr>\n",
       "      <th>1</th>\n",
       "      <td>1</td>\n",
       "      <td>-119.05</td>\n",
       "      <td>36.09</td>\n",
       "      <td>9.0</td>\n",
       "      <td>3297.0</td>\n",
       "      <td>1749.0</td>\n",
       "      <td>568.0</td>\n",
       "      <td>4.0217</td>\n",
       "      <td>INLAND</td>\n",
       "    </tr>\n",
       "    <tr>\n",
       "      <th>2</th>\n",
       "      <td>2</td>\n",
       "      <td>-116.98</td>\n",
       "      <td>32.85</td>\n",
       "      <td>12.0</td>\n",
       "      <td>3570.0</td>\n",
       "      <td>3321.0</td>\n",
       "      <td>666.0</td>\n",
       "      <td>4.0882</td>\n",
       "      <td>&lt;1H OCEAN</td>\n",
       "    </tr>\n",
       "    <tr>\n",
       "      <th>3</th>\n",
       "      <td>3</td>\n",
       "      <td>-118.42</td>\n",
       "      <td>34.20</td>\n",
       "      <td>27.0</td>\n",
       "      <td>3201.0</td>\n",
       "      <td>3403.0</td>\n",
       "      <td>948.0</td>\n",
       "      <td>2.2377</td>\n",
       "      <td>&lt;1H OCEAN</td>\n",
       "    </tr>\n",
       "    <tr>\n",
       "      <th>4</th>\n",
       "      <td>4</td>\n",
       "      <td>-118.47</td>\n",
       "      <td>34.01</td>\n",
       "      <td>41.0</td>\n",
       "      <td>2704.0</td>\n",
       "      <td>1047.0</td>\n",
       "      <td>478.0</td>\n",
       "      <td>4.4211</td>\n",
       "      <td>&lt;1H OCEAN</td>\n",
       "    </tr>\n",
       "    <tr>\n",
       "      <th>...</th>\n",
       "      <td>...</td>\n",
       "      <td>...</td>\n",
       "      <td>...</td>\n",
       "      <td>...</td>\n",
       "      <td>...</td>\n",
       "      <td>...</td>\n",
       "      <td>...</td>\n",
       "      <td>...</td>\n",
       "      <td>...</td>\n",
       "    </tr>\n",
       "    <tr>\n",
       "      <th>6187</th>\n",
       "      <td>6187</td>\n",
       "      <td>-118.47</td>\n",
       "      <td>33.99</td>\n",
       "      <td>41.0</td>\n",
       "      <td>1146.0</td>\n",
       "      <td>833.0</td>\n",
       "      <td>270.0</td>\n",
       "      <td>2.5938</td>\n",
       "      <td>&lt;1H OCEAN</td>\n",
       "    </tr>\n",
       "    <tr>\n",
       "      <th>6188</th>\n",
       "      <td>6188</td>\n",
       "      <td>-124.14</td>\n",
       "      <td>41.95</td>\n",
       "      <td>21.0</td>\n",
       "      <td>2696.0</td>\n",
       "      <td>1208.0</td>\n",
       "      <td>494.0</td>\n",
       "      <td>2.2750</td>\n",
       "      <td>NEAR OCEAN</td>\n",
       "    </tr>\n",
       "    <tr>\n",
       "      <th>6189</th>\n",
       "      <td>6189</td>\n",
       "      <td>-117.88</td>\n",
       "      <td>33.70</td>\n",
       "      <td>17.0</td>\n",
       "      <td>5122.0</td>\n",
       "      <td>2966.0</td>\n",
       "      <td>1339.0</td>\n",
       "      <td>3.4835</td>\n",
       "      <td>&lt;1H OCEAN</td>\n",
       "    </tr>\n",
       "    <tr>\n",
       "      <th>6190</th>\n",
       "      <td>6190</td>\n",
       "      <td>-118.37</td>\n",
       "      <td>34.07</td>\n",
       "      <td>52.0</td>\n",
       "      <td>2203.0</td>\n",
       "      <td>899.0</td>\n",
       "      <td>384.0</td>\n",
       "      <td>4.2500</td>\n",
       "      <td>&lt;1H OCEAN</td>\n",
       "    </tr>\n",
       "    <tr>\n",
       "      <th>6191</th>\n",
       "      <td>6191</td>\n",
       "      <td>-118.49</td>\n",
       "      <td>34.27</td>\n",
       "      <td>33.0</td>\n",
       "      <td>3047.0</td>\n",
       "      <td>1578.0</td>\n",
       "      <td>507.0</td>\n",
       "      <td>4.5800</td>\n",
       "      <td>&lt;1H OCEAN</td>\n",
       "    </tr>\n",
       "  </tbody>\n",
       "</table>\n",
       "<p>6192 rows × 9 columns</p>\n",
       "</div>"
      ],
      "text/plain": [
       "        Id  longitude  latitude  housing_median_age  total_rooms  population  \\\n",
       "0        0    -122.64     38.24                40.0       1974.0      1039.0   \n",
       "1        1    -119.05     36.09                 9.0       3297.0      1749.0   \n",
       "2        2    -116.98     32.85                12.0       3570.0      3321.0   \n",
       "3        3    -118.42     34.20                27.0       3201.0      3403.0   \n",
       "4        4    -118.47     34.01                41.0       2704.0      1047.0   \n",
       "...    ...        ...       ...                 ...          ...         ...   \n",
       "6187  6187    -118.47     33.99                41.0       1146.0       833.0   \n",
       "6188  6188    -124.14     41.95                21.0       2696.0      1208.0   \n",
       "6189  6189    -117.88     33.70                17.0       5122.0      2966.0   \n",
       "6190  6190    -118.37     34.07                52.0       2203.0       899.0   \n",
       "6191  6191    -118.49     34.27                33.0       3047.0      1578.0   \n",
       "\n",
       "      households  median_income ocean_proximity  \n",
       "0          398.0         3.7917       <1H OCEAN  \n",
       "1          568.0         4.0217          INLAND  \n",
       "2          666.0         4.0882       <1H OCEAN  \n",
       "3          948.0         2.2377       <1H OCEAN  \n",
       "4          478.0         4.4211       <1H OCEAN  \n",
       "...          ...            ...             ...  \n",
       "6187       270.0         2.5938       <1H OCEAN  \n",
       "6188       494.0         2.2750      NEAR OCEAN  \n",
       "6189      1339.0         3.4835       <1H OCEAN  \n",
       "6190       384.0         4.2500       <1H OCEAN  \n",
       "6191       507.0         4.5800       <1H OCEAN  \n",
       "\n",
       "[6192 rows x 9 columns]"
      ]
     },
     "execution_count": 172,
     "metadata": {},
     "output_type": "execute_result"
    }
   ],
   "source": [
    "test"
   ]
  },
  {
   "cell_type": "code",
   "execution_count": 182,
   "id": "8a49be5d",
   "metadata": {},
   "outputs": [
    {
     "data": {
      "text/plain": [
       "array([226945.96672189, 150861.93326678, 133008.586653  , ...,\n",
       "       244117.04077612, 297997.15234253, 247269.3109629 ])"
      ]
     },
     "execution_count": 182,
     "metadata": {},
     "output_type": "execute_result"
    }
   ],
   "source": [
    "pred9"
   ]
  },
  {
   "cell_type": "code",
   "execution_count": null,
   "id": "25fe9d6d",
   "metadata": {},
   "outputs": [],
   "source": []
  }
 ],
 "metadata": {
  "kernelspec": {
   "display_name": "Python 3 (ipykernel)",
   "language": "python",
   "name": "python3"
  },
  "language_info": {
   "codemirror_mode": {
    "name": "ipython",
    "version": 3
   },
   "file_extension": ".py",
   "mimetype": "text/x-python",
   "name": "python",
   "nbconvert_exporter": "python",
   "pygments_lexer": "ipython3",
   "version": "3.11.5"
  }
 },
 "nbformat": 4,
 "nbformat_minor": 5
}
