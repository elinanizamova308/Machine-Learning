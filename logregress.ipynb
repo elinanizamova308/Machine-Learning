{
 "cells": [
  {
   "cell_type": "code",
   "execution_count": 380,
   "id": "e46db9f2-33c8-486d-840c-7fccdc0dd380",
   "metadata": {},
   "outputs": [],
   "source": [
    "import numpy as np # linear algebra\n",
    "import pandas as pd # data processing, CSV file I/O (e.g. pd.read_csv)\n",
    "import matplotlib.pyplot as plt # data visualization\n",
    "import seaborn as sns # statistical data visualization\n",
    "%matplotlib inline\n",
    "import os\n",
    "for dirname, _, filenames in os.walk('/kaggle/input'):\n",
    "    for filename in filenames:\n",
    "        print(os.path.join(dirname, filename))\n",
    "\n",
    "import warnings\n",
    "from sklearn.linear_model import LinearRegression, Lasso, Ridge, ElasticNet\n",
    "from sklearn.model_selection import train_test_split, cross_val_score, GridSearchCV\n",
    "import sklearn.metrics as metrics\n",
    "from category_encoders.one_hot import OneHotEncoder\n",
    "from sklearn.preprocessing import MinMaxScaler, StandardScaler, PolynomialFeatures\n",
    "import matplotlib.pyplot as plt\n",
    "from math import sqrt\n",
    "\n",
    "warnings.filterwarnings('ignore')\n",
    "\n",
    "\n",
    "\n"
   ]
  },
  {
   "cell_type": "code",
   "execution_count": 381,
   "id": "126fb3c9-e3b8-42fa-b47d-795b36d87826",
   "metadata": {},
   "outputs": [],
   "source": [
    "\n",
    "solution = pd.read_csv('/Users/elinc/Downloads/weatherAUS_test_sample_solution.csv')\n",
    "train = pd.read_csv('/Users/elinc/Downloads/weatherAUS_train.csv')\n",
    "test = pd.read_csv('/Users/elinc/Downloads/weatherAUS_test.csv')\n"
   ]
  },
  {
   "cell_type": "code",
   "execution_count": 382,
   "id": "23d7f657-46af-48e8-9ea3-1b603b581590",
   "metadata": {},
   "outputs": [
    {
     "data": {
      "text/plain": [
       "(101822, 23)"
      ]
     },
     "execution_count": 382,
     "metadata": {},
     "output_type": "execute_result"
    }
   ],
   "source": [
    "train.shape"
   ]
  },
  {
   "cell_type": "code",
   "execution_count": 383,
   "id": "0f691b74-ab54-4693-a95b-ea532526a869",
   "metadata": {},
   "outputs": [
    {
     "data": {
      "text/html": [
       "<div>\n",
       "<style scoped>\n",
       "    .dataframe tbody tr th:only-of-type {\n",
       "        vertical-align: middle;\n",
       "    }\n",
       "\n",
       "    .dataframe tbody tr th {\n",
       "        vertical-align: top;\n",
       "    }\n",
       "\n",
       "    .dataframe thead th {\n",
       "        text-align: right;\n",
       "    }\n",
       "</style>\n",
       "<table border=\"1\" class=\"dataframe\">\n",
       "  <thead>\n",
       "    <tr style=\"text-align: right;\">\n",
       "      <th></th>\n",
       "      <th>Date</th>\n",
       "      <th>Location</th>\n",
       "      <th>MinTemp</th>\n",
       "      <th>MaxTemp</th>\n",
       "      <th>Rainfall</th>\n",
       "      <th>Evaporation</th>\n",
       "      <th>Sunshine</th>\n",
       "      <th>WindGustDir</th>\n",
       "      <th>WindGustSpeed</th>\n",
       "      <th>WindDir9am</th>\n",
       "      <th>...</th>\n",
       "      <th>Humidity9am</th>\n",
       "      <th>Humidity3pm</th>\n",
       "      <th>Pressure9am</th>\n",
       "      <th>Pressure3pm</th>\n",
       "      <th>Cloud9am</th>\n",
       "      <th>Cloud3pm</th>\n",
       "      <th>Temp9am</th>\n",
       "      <th>Temp3pm</th>\n",
       "      <th>RainToday</th>\n",
       "      <th>RainTomorrow</th>\n",
       "    </tr>\n",
       "  </thead>\n",
       "  <tbody>\n",
       "    <tr>\n",
       "      <th>0</th>\n",
       "      <td>2013-07-22</td>\n",
       "      <td>Sydney</td>\n",
       "      <td>8.7</td>\n",
       "      <td>17.2</td>\n",
       "      <td>0.0</td>\n",
       "      <td>3.8</td>\n",
       "      <td>9.9</td>\n",
       "      <td>WNW</td>\n",
       "      <td>54.0</td>\n",
       "      <td>WNW</td>\n",
       "      <td>...</td>\n",
       "      <td>54.0</td>\n",
       "      <td>28.0</td>\n",
       "      <td>1019.4</td>\n",
       "      <td>1016.3</td>\n",
       "      <td>2.0</td>\n",
       "      <td>2.0</td>\n",
       "      <td>12.2</td>\n",
       "      <td>16.6</td>\n",
       "      <td>No</td>\n",
       "      <td>0</td>\n",
       "    </tr>\n",
       "    <tr>\n",
       "      <th>1</th>\n",
       "      <td>2015-02-28</td>\n",
       "      <td>Sale</td>\n",
       "      <td>15.4</td>\n",
       "      <td>25.7</td>\n",
       "      <td>0.0</td>\n",
       "      <td>NaN</td>\n",
       "      <td>NaN</td>\n",
       "      <td>W</td>\n",
       "      <td>67.0</td>\n",
       "      <td>NNE</td>\n",
       "      <td>...</td>\n",
       "      <td>84.0</td>\n",
       "      <td>66.0</td>\n",
       "      <td>1008.1</td>\n",
       "      <td>1005.1</td>\n",
       "      <td>8.0</td>\n",
       "      <td>8.0</td>\n",
       "      <td>18.8</td>\n",
       "      <td>24.3</td>\n",
       "      <td>No</td>\n",
       "      <td>1</td>\n",
       "    </tr>\n",
       "    <tr>\n",
       "      <th>2</th>\n",
       "      <td>2009-11-18</td>\n",
       "      <td>PerthAirport</td>\n",
       "      <td>15.2</td>\n",
       "      <td>22.2</td>\n",
       "      <td>7.2</td>\n",
       "      <td>5.2</td>\n",
       "      <td>3.3</td>\n",
       "      <td>NW</td>\n",
       "      <td>78.0</td>\n",
       "      <td>NW</td>\n",
       "      <td>...</td>\n",
       "      <td>68.0</td>\n",
       "      <td>91.0</td>\n",
       "      <td>1001.5</td>\n",
       "      <td>1000.1</td>\n",
       "      <td>7.0</td>\n",
       "      <td>8.0</td>\n",
       "      <td>20.1</td>\n",
       "      <td>16.5</td>\n",
       "      <td>Yes</td>\n",
       "      <td>1</td>\n",
       "    </tr>\n",
       "    <tr>\n",
       "      <th>3</th>\n",
       "      <td>2014-02-19</td>\n",
       "      <td>Richmond</td>\n",
       "      <td>19.9</td>\n",
       "      <td>26.4</td>\n",
       "      <td>0.0</td>\n",
       "      <td>2.8</td>\n",
       "      <td>NaN</td>\n",
       "      <td>SW</td>\n",
       "      <td>24.0</td>\n",
       "      <td>NNE</td>\n",
       "      <td>...</td>\n",
       "      <td>97.0</td>\n",
       "      <td>97.0</td>\n",
       "      <td>1004.6</td>\n",
       "      <td>1002.1</td>\n",
       "      <td>NaN</td>\n",
       "      <td>NaN</td>\n",
       "      <td>22.6</td>\n",
       "      <td>22.3</td>\n",
       "      <td>No</td>\n",
       "      <td>1</td>\n",
       "    </tr>\n",
       "    <tr>\n",
       "      <th>4</th>\n",
       "      <td>2015-10-04</td>\n",
       "      <td>Wollongong</td>\n",
       "      <td>19.3</td>\n",
       "      <td>32.9</td>\n",
       "      <td>0.0</td>\n",
       "      <td>NaN</td>\n",
       "      <td>NaN</td>\n",
       "      <td>W</td>\n",
       "      <td>48.0</td>\n",
       "      <td>NNW</td>\n",
       "      <td>...</td>\n",
       "      <td>46.0</td>\n",
       "      <td>15.0</td>\n",
       "      <td>1022.8</td>\n",
       "      <td>1020.7</td>\n",
       "      <td>NaN</td>\n",
       "      <td>NaN</td>\n",
       "      <td>22.1</td>\n",
       "      <td>32.6</td>\n",
       "      <td>No</td>\n",
       "      <td>0</td>\n",
       "    </tr>\n",
       "  </tbody>\n",
       "</table>\n",
       "<p>5 rows × 23 columns</p>\n",
       "</div>"
      ],
      "text/plain": [
       "         Date      Location  MinTemp  MaxTemp  Rainfall  Evaporation  \\\n",
       "0  2013-07-22        Sydney      8.7     17.2       0.0          3.8   \n",
       "1  2015-02-28          Sale     15.4     25.7       0.0          NaN   \n",
       "2  2009-11-18  PerthAirport     15.2     22.2       7.2          5.2   \n",
       "3  2014-02-19      Richmond     19.9     26.4       0.0          2.8   \n",
       "4  2015-10-04    Wollongong     19.3     32.9       0.0          NaN   \n",
       "\n",
       "   Sunshine WindGustDir  WindGustSpeed WindDir9am  ... Humidity9am  \\\n",
       "0       9.9         WNW           54.0        WNW  ...        54.0   \n",
       "1       NaN           W           67.0        NNE  ...        84.0   \n",
       "2       3.3          NW           78.0         NW  ...        68.0   \n",
       "3       NaN          SW           24.0        NNE  ...        97.0   \n",
       "4       NaN           W           48.0        NNW  ...        46.0   \n",
       "\n",
       "   Humidity3pm  Pressure9am  Pressure3pm  Cloud9am  Cloud3pm  Temp9am  \\\n",
       "0         28.0       1019.4       1016.3       2.0       2.0     12.2   \n",
       "1         66.0       1008.1       1005.1       8.0       8.0     18.8   \n",
       "2         91.0       1001.5       1000.1       7.0       8.0     20.1   \n",
       "3         97.0       1004.6       1002.1       NaN       NaN     22.6   \n",
       "4         15.0       1022.8       1020.7       NaN       NaN     22.1   \n",
       "\n",
       "   Temp3pm  RainToday  RainTomorrow  \n",
       "0     16.6         No             0  \n",
       "1     24.3         No             1  \n",
       "2     16.5        Yes             1  \n",
       "3     22.3         No             1  \n",
       "4     32.6         No             0  \n",
       "\n",
       "[5 rows x 23 columns]"
      ]
     },
     "execution_count": 383,
     "metadata": {},
     "output_type": "execute_result"
    }
   ],
   "source": [
    "train.head()"
   ]
  },
  {
   "cell_type": "code",
   "execution_count": null,
   "id": "f7bd3762-0079-491b-b149-258b6911c694",
   "metadata": {},
   "outputs": [],
   "source": []
  },
  {
   "cell_type": "code",
   "execution_count": null,
   "id": "e382ed88-7b4f-4675-8c2f-94525c27aee4",
   "metadata": {},
   "outputs": [],
   "source": []
  },
  {
   "cell_type": "code",
   "execution_count": 384,
   "id": "4f895980-a0bc-4437-bdcb-e71fe69d9cda",
   "metadata": {},
   "outputs": [
    {
     "data": {
      "text/plain": [
       "Index(['Date', 'Location', 'MinTemp', 'MaxTemp', 'Rainfall', 'Evaporation',\n",
       "       'Sunshine', 'WindGustDir', 'WindGustSpeed', 'WindDir9am', 'WindDir3pm',\n",
       "       'WindSpeed9am', 'WindSpeed3pm', 'Humidity9am', 'Humidity3pm',\n",
       "       'Pressure9am', 'Pressure3pm', 'Cloud9am', 'Cloud3pm', 'Temp9am',\n",
       "       'Temp3pm', 'RainToday', 'RainTomorrow'],\n",
       "      dtype='object')"
      ]
     },
     "execution_count": 384,
     "metadata": {},
     "output_type": "execute_result"
    }
   ],
   "source": [
    "col_names = train.columns\n",
    "\n",
    "col_names"
   ]
  },
  {
   "cell_type": "code",
   "execution_count": 385,
   "id": "1b8ad50d-3ecd-4eee-a3a5-2dabc823ece5",
   "metadata": {},
   "outputs": [
    {
     "name": "stdout",
     "output_type": "stream",
     "text": [
      "Date                 0\n",
      "Location             0\n",
      "MinTemp           1027\n",
      "MaxTemp            875\n",
      "Rainfall          2300\n",
      "Evaporation      43889\n",
      "Sunshine         48800\n",
      "WindGustDir       7318\n",
      "WindGustSpeed     7272\n",
      "WindDir9am        7391\n",
      "WindDir3pm        2986\n",
      "WindSpeed9am      1272\n",
      "WindSpeed3pm      2159\n",
      "Humidity9am       1854\n",
      "Humidity3pm       3160\n",
      "Pressure9am      10554\n",
      "Pressure3pm      10518\n",
      "Cloud9am         38989\n",
      "Cloud3pm         41420\n",
      "Temp9am           1226\n",
      "Temp3pm           2518\n",
      "RainToday         2300\n",
      "RainTomorrow         0\n",
      "dtype: int64 (101822, 23)\n"
     ]
    }
   ],
   "source": [
    "nan_count_train = train.isna().sum()\n",
    "print(nan_count_train, train.shape)\n"
   ]
  },
  {
   "cell_type": "code",
   "execution_count": 386,
   "id": "2b9557ca-bc95-4587-9452-c79ffd2d36bb",
   "metadata": {},
   "outputs": [
    {
     "data": {
      "text/html": [
       "<div>\n",
       "<style scoped>\n",
       "    .dataframe tbody tr th:only-of-type {\n",
       "        vertical-align: middle;\n",
       "    }\n",
       "\n",
       "    .dataframe tbody tr th {\n",
       "        vertical-align: top;\n",
       "    }\n",
       "\n",
       "    .dataframe thead th {\n",
       "        text-align: right;\n",
       "    }\n",
       "</style>\n",
       "<table border=\"1\" class=\"dataframe\">\n",
       "  <thead>\n",
       "    <tr style=\"text-align: right;\">\n",
       "      <th></th>\n",
       "      <th>Date</th>\n",
       "      <th>Location</th>\n",
       "      <th>MinTemp</th>\n",
       "      <th>MaxTemp</th>\n",
       "      <th>Rainfall</th>\n",
       "      <th>Evaporation</th>\n",
       "      <th>Sunshine</th>\n",
       "      <th>WindGustDir</th>\n",
       "      <th>WindGustSpeed</th>\n",
       "      <th>WindDir9am</th>\n",
       "      <th>...</th>\n",
       "      <th>Humidity9am</th>\n",
       "      <th>Humidity3pm</th>\n",
       "      <th>Pressure9am</th>\n",
       "      <th>Pressure3pm</th>\n",
       "      <th>Cloud9am</th>\n",
       "      <th>Cloud3pm</th>\n",
       "      <th>Temp9am</th>\n",
       "      <th>Temp3pm</th>\n",
       "      <th>RainToday</th>\n",
       "      <th>RainTomorrow</th>\n",
       "    </tr>\n",
       "  </thead>\n",
       "  <tbody>\n",
       "    <tr>\n",
       "      <th>0</th>\n",
       "      <td>2013-07-22</td>\n",
       "      <td>Sydney</td>\n",
       "      <td>8.7</td>\n",
       "      <td>17.2</td>\n",
       "      <td>0.0</td>\n",
       "      <td>3.8</td>\n",
       "      <td>9.9</td>\n",
       "      <td>WNW</td>\n",
       "      <td>54.0</td>\n",
       "      <td>WNW</td>\n",
       "      <td>...</td>\n",
       "      <td>54.0</td>\n",
       "      <td>28.0</td>\n",
       "      <td>1019.4</td>\n",
       "      <td>1016.3</td>\n",
       "      <td>2.0</td>\n",
       "      <td>2.0</td>\n",
       "      <td>12.2</td>\n",
       "      <td>16.6</td>\n",
       "      <td>No</td>\n",
       "      <td>0</td>\n",
       "    </tr>\n",
       "    <tr>\n",
       "      <th>1</th>\n",
       "      <td>2015-02-28</td>\n",
       "      <td>Sale</td>\n",
       "      <td>15.4</td>\n",
       "      <td>25.7</td>\n",
       "      <td>0.0</td>\n",
       "      <td>NaN</td>\n",
       "      <td>NaN</td>\n",
       "      <td>W</td>\n",
       "      <td>67.0</td>\n",
       "      <td>NNE</td>\n",
       "      <td>...</td>\n",
       "      <td>84.0</td>\n",
       "      <td>66.0</td>\n",
       "      <td>1008.1</td>\n",
       "      <td>1005.1</td>\n",
       "      <td>8.0</td>\n",
       "      <td>8.0</td>\n",
       "      <td>18.8</td>\n",
       "      <td>24.3</td>\n",
       "      <td>No</td>\n",
       "      <td>1</td>\n",
       "    </tr>\n",
       "    <tr>\n",
       "      <th>2</th>\n",
       "      <td>2009-11-18</td>\n",
       "      <td>PerthAirport</td>\n",
       "      <td>15.2</td>\n",
       "      <td>22.2</td>\n",
       "      <td>7.2</td>\n",
       "      <td>5.2</td>\n",
       "      <td>3.3</td>\n",
       "      <td>NW</td>\n",
       "      <td>78.0</td>\n",
       "      <td>NW</td>\n",
       "      <td>...</td>\n",
       "      <td>68.0</td>\n",
       "      <td>91.0</td>\n",
       "      <td>1001.5</td>\n",
       "      <td>1000.1</td>\n",
       "      <td>7.0</td>\n",
       "      <td>8.0</td>\n",
       "      <td>20.1</td>\n",
       "      <td>16.5</td>\n",
       "      <td>Yes</td>\n",
       "      <td>1</td>\n",
       "    </tr>\n",
       "    <tr>\n",
       "      <th>3</th>\n",
       "      <td>2014-02-19</td>\n",
       "      <td>Richmond</td>\n",
       "      <td>19.9</td>\n",
       "      <td>26.4</td>\n",
       "      <td>0.0</td>\n",
       "      <td>2.8</td>\n",
       "      <td>NaN</td>\n",
       "      <td>SW</td>\n",
       "      <td>24.0</td>\n",
       "      <td>NNE</td>\n",
       "      <td>...</td>\n",
       "      <td>97.0</td>\n",
       "      <td>97.0</td>\n",
       "      <td>1004.6</td>\n",
       "      <td>1002.1</td>\n",
       "      <td>NaN</td>\n",
       "      <td>NaN</td>\n",
       "      <td>22.6</td>\n",
       "      <td>22.3</td>\n",
       "      <td>No</td>\n",
       "      <td>1</td>\n",
       "    </tr>\n",
       "    <tr>\n",
       "      <th>4</th>\n",
       "      <td>2015-10-04</td>\n",
       "      <td>Wollongong</td>\n",
       "      <td>19.3</td>\n",
       "      <td>32.9</td>\n",
       "      <td>0.0</td>\n",
       "      <td>NaN</td>\n",
       "      <td>NaN</td>\n",
       "      <td>W</td>\n",
       "      <td>48.0</td>\n",
       "      <td>NNW</td>\n",
       "      <td>...</td>\n",
       "      <td>46.0</td>\n",
       "      <td>15.0</td>\n",
       "      <td>1022.8</td>\n",
       "      <td>1020.7</td>\n",
       "      <td>NaN</td>\n",
       "      <td>NaN</td>\n",
       "      <td>22.1</td>\n",
       "      <td>32.6</td>\n",
       "      <td>No</td>\n",
       "      <td>0</td>\n",
       "    </tr>\n",
       "    <tr>\n",
       "      <th>...</th>\n",
       "      <td>...</td>\n",
       "      <td>...</td>\n",
       "      <td>...</td>\n",
       "      <td>...</td>\n",
       "      <td>...</td>\n",
       "      <td>...</td>\n",
       "      <td>...</td>\n",
       "      <td>...</td>\n",
       "      <td>...</td>\n",
       "      <td>...</td>\n",
       "      <td>...</td>\n",
       "      <td>...</td>\n",
       "      <td>...</td>\n",
       "      <td>...</td>\n",
       "      <td>...</td>\n",
       "      <td>...</td>\n",
       "      <td>...</td>\n",
       "      <td>...</td>\n",
       "      <td>...</td>\n",
       "      <td>...</td>\n",
       "      <td>...</td>\n",
       "    </tr>\n",
       "    <tr>\n",
       "      <th>101817</th>\n",
       "      <td>2015-07-19</td>\n",
       "      <td>Walpole</td>\n",
       "      <td>11.6</td>\n",
       "      <td>17.0</td>\n",
       "      <td>3.0</td>\n",
       "      <td>NaN</td>\n",
       "      <td>NaN</td>\n",
       "      <td>NNW</td>\n",
       "      <td>50.0</td>\n",
       "      <td>NNW</td>\n",
       "      <td>...</td>\n",
       "      <td>88.0</td>\n",
       "      <td>90.0</td>\n",
       "      <td>1013.2</td>\n",
       "      <td>1008.9</td>\n",
       "      <td>NaN</td>\n",
       "      <td>NaN</td>\n",
       "      <td>14.0</td>\n",
       "      <td>15.0</td>\n",
       "      <td>Yes</td>\n",
       "      <td>1</td>\n",
       "    </tr>\n",
       "    <tr>\n",
       "      <th>101818</th>\n",
       "      <td>2015-06-25</td>\n",
       "      <td>PerthAirport</td>\n",
       "      <td>7.6</td>\n",
       "      <td>20.4</td>\n",
       "      <td>0.0</td>\n",
       "      <td>2.4</td>\n",
       "      <td>9.2</td>\n",
       "      <td>ENE</td>\n",
       "      <td>30.0</td>\n",
       "      <td>NE</td>\n",
       "      <td>...</td>\n",
       "      <td>64.0</td>\n",
       "      <td>35.0</td>\n",
       "      <td>1027.7</td>\n",
       "      <td>1024.2</td>\n",
       "      <td>0.0</td>\n",
       "      <td>1.0</td>\n",
       "      <td>12.1</td>\n",
       "      <td>19.9</td>\n",
       "      <td>No</td>\n",
       "      <td>0</td>\n",
       "    </tr>\n",
       "    <tr>\n",
       "      <th>101819</th>\n",
       "      <td>2016-06-05</td>\n",
       "      <td>Newcastle</td>\n",
       "      <td>13.8</td>\n",
       "      <td>17.3</td>\n",
       "      <td>96.0</td>\n",
       "      <td>NaN</td>\n",
       "      <td>NaN</td>\n",
       "      <td>NaN</td>\n",
       "      <td>NaN</td>\n",
       "      <td>NaN</td>\n",
       "      <td>...</td>\n",
       "      <td>100.0</td>\n",
       "      <td>NaN</td>\n",
       "      <td>NaN</td>\n",
       "      <td>NaN</td>\n",
       "      <td>8.0</td>\n",
       "      <td>NaN</td>\n",
       "      <td>14.5</td>\n",
       "      <td>NaN</td>\n",
       "      <td>Yes</td>\n",
       "      <td>1</td>\n",
       "    </tr>\n",
       "    <tr>\n",
       "      <th>101820</th>\n",
       "      <td>2011-06-13</td>\n",
       "      <td>Richmond</td>\n",
       "      <td>10.5</td>\n",
       "      <td>14.6</td>\n",
       "      <td>4.0</td>\n",
       "      <td>NaN</td>\n",
       "      <td>NaN</td>\n",
       "      <td>S</td>\n",
       "      <td>33.0</td>\n",
       "      <td>SSW</td>\n",
       "      <td>...</td>\n",
       "      <td>82.0</td>\n",
       "      <td>90.0</td>\n",
       "      <td>1024.6</td>\n",
       "      <td>1021.6</td>\n",
       "      <td>NaN</td>\n",
       "      <td>NaN</td>\n",
       "      <td>12.2</td>\n",
       "      <td>13.9</td>\n",
       "      <td>Yes</td>\n",
       "      <td>1</td>\n",
       "    </tr>\n",
       "    <tr>\n",
       "      <th>101821</th>\n",
       "      <td>2010-09-11</td>\n",
       "      <td>Newcastle</td>\n",
       "      <td>8.2</td>\n",
       "      <td>19.8</td>\n",
       "      <td>0.6</td>\n",
       "      <td>NaN</td>\n",
       "      <td>NaN</td>\n",
       "      <td>NaN</td>\n",
       "      <td>NaN</td>\n",
       "      <td>N</td>\n",
       "      <td>...</td>\n",
       "      <td>50.0</td>\n",
       "      <td>51.0</td>\n",
       "      <td>NaN</td>\n",
       "      <td>NaN</td>\n",
       "      <td>1.0</td>\n",
       "      <td>1.0</td>\n",
       "      <td>16.6</td>\n",
       "      <td>18.0</td>\n",
       "      <td>No</td>\n",
       "      <td>0</td>\n",
       "    </tr>\n",
       "  </tbody>\n",
       "</table>\n",
       "<p>101822 rows × 23 columns</p>\n",
       "</div>"
      ],
      "text/plain": [
       "              Date      Location  MinTemp  MaxTemp  Rainfall  Evaporation  \\\n",
       "0       2013-07-22        Sydney      8.7     17.2       0.0          3.8   \n",
       "1       2015-02-28          Sale     15.4     25.7       0.0          NaN   \n",
       "2       2009-11-18  PerthAirport     15.2     22.2       7.2          5.2   \n",
       "3       2014-02-19      Richmond     19.9     26.4       0.0          2.8   \n",
       "4       2015-10-04    Wollongong     19.3     32.9       0.0          NaN   \n",
       "...            ...           ...      ...      ...       ...          ...   \n",
       "101817  2015-07-19       Walpole     11.6     17.0       3.0          NaN   \n",
       "101818  2015-06-25  PerthAirport      7.6     20.4       0.0          2.4   \n",
       "101819  2016-06-05     Newcastle     13.8     17.3      96.0          NaN   \n",
       "101820  2011-06-13      Richmond     10.5     14.6       4.0          NaN   \n",
       "101821  2010-09-11     Newcastle      8.2     19.8       0.6          NaN   \n",
       "\n",
       "        Sunshine WindGustDir  WindGustSpeed WindDir9am  ... Humidity9am  \\\n",
       "0            9.9         WNW           54.0        WNW  ...        54.0   \n",
       "1            NaN           W           67.0        NNE  ...        84.0   \n",
       "2            3.3          NW           78.0         NW  ...        68.0   \n",
       "3            NaN          SW           24.0        NNE  ...        97.0   \n",
       "4            NaN           W           48.0        NNW  ...        46.0   \n",
       "...          ...         ...            ...        ...  ...         ...   \n",
       "101817       NaN         NNW           50.0        NNW  ...        88.0   \n",
       "101818       9.2         ENE           30.0         NE  ...        64.0   \n",
       "101819       NaN         NaN            NaN        NaN  ...       100.0   \n",
       "101820       NaN           S           33.0        SSW  ...        82.0   \n",
       "101821       NaN         NaN            NaN          N  ...        50.0   \n",
       "\n",
       "        Humidity3pm  Pressure9am  Pressure3pm  Cloud9am  Cloud3pm  Temp9am  \\\n",
       "0              28.0       1019.4       1016.3       2.0       2.0     12.2   \n",
       "1              66.0       1008.1       1005.1       8.0       8.0     18.8   \n",
       "2              91.0       1001.5       1000.1       7.0       8.0     20.1   \n",
       "3              97.0       1004.6       1002.1       NaN       NaN     22.6   \n",
       "4              15.0       1022.8       1020.7       NaN       NaN     22.1   \n",
       "...             ...          ...          ...       ...       ...      ...   \n",
       "101817         90.0       1013.2       1008.9       NaN       NaN     14.0   \n",
       "101818         35.0       1027.7       1024.2       0.0       1.0     12.1   \n",
       "101819          NaN          NaN          NaN       8.0       NaN     14.5   \n",
       "101820         90.0       1024.6       1021.6       NaN       NaN     12.2   \n",
       "101821         51.0          NaN          NaN       1.0       1.0     16.6   \n",
       "\n",
       "        Temp3pm  RainToday  RainTomorrow  \n",
       "0          16.6         No             0  \n",
       "1          24.3         No             1  \n",
       "2          16.5        Yes             1  \n",
       "3          22.3         No             1  \n",
       "4          32.6         No             0  \n",
       "...         ...        ...           ...  \n",
       "101817     15.0        Yes             1  \n",
       "101818     19.9         No             0  \n",
       "101819      NaN        Yes             1  \n",
       "101820     13.9        Yes             1  \n",
       "101821     18.0         No             0  \n",
       "\n",
       "[101822 rows x 23 columns]"
      ]
     },
     "execution_count": 386,
     "metadata": {},
     "output_type": "execute_result"
    }
   ],
   "source": [
    "train"
   ]
  },
  {
   "cell_type": "code",
   "execution_count": 387,
   "id": "cde0c274-69c2-4d9c-9695-57c96ca80019",
   "metadata": {},
   "outputs": [
    {
     "name": "stdout",
     "output_type": "stream",
     "text": [
      "There are 6 categorical variables\n",
      "\n",
      "The categorical variables are : ['Date', 'Location', 'WindGustDir', 'WindDir9am', 'WindDir3pm', 'RainToday']\n"
     ]
    }
   ],
   "source": [
    "# find categorical variables\n",
    "\n",
    "categorical = [var for var in train.columns if train[var].dtype=='O']\n",
    "\n",
    "print('There are {} categorical variables\\n'.format(len(categorical)))\n",
    "\n",
    "print('The categorical variables are :', categorical)"
   ]
  },
  {
   "cell_type": "code",
   "execution_count": 388,
   "id": "45790c33-c373-4c44-82a7-fb16e364834a",
   "metadata": {},
   "outputs": [
    {
     "data": {
      "text/html": [
       "<div>\n",
       "<style scoped>\n",
       "    .dataframe tbody tr th:only-of-type {\n",
       "        vertical-align: middle;\n",
       "    }\n",
       "\n",
       "    .dataframe tbody tr th {\n",
       "        vertical-align: top;\n",
       "    }\n",
       "\n",
       "    .dataframe thead th {\n",
       "        text-align: right;\n",
       "    }\n",
       "</style>\n",
       "<table border=\"1\" class=\"dataframe\">\n",
       "  <thead>\n",
       "    <tr style=\"text-align: right;\">\n",
       "      <th></th>\n",
       "      <th>Date</th>\n",
       "      <th>Location</th>\n",
       "      <th>WindGustDir</th>\n",
       "      <th>WindDir9am</th>\n",
       "      <th>WindDir3pm</th>\n",
       "      <th>RainToday</th>\n",
       "    </tr>\n",
       "  </thead>\n",
       "  <tbody>\n",
       "    <tr>\n",
       "      <th>0</th>\n",
       "      <td>2013-07-22</td>\n",
       "      <td>Sydney</td>\n",
       "      <td>WNW</td>\n",
       "      <td>WNW</td>\n",
       "      <td>W</td>\n",
       "      <td>No</td>\n",
       "    </tr>\n",
       "    <tr>\n",
       "      <th>1</th>\n",
       "      <td>2015-02-28</td>\n",
       "      <td>Sale</td>\n",
       "      <td>W</td>\n",
       "      <td>NNE</td>\n",
       "      <td>WSW</td>\n",
       "      <td>No</td>\n",
       "    </tr>\n",
       "    <tr>\n",
       "      <th>2</th>\n",
       "      <td>2009-11-18</td>\n",
       "      <td>PerthAirport</td>\n",
       "      <td>NW</td>\n",
       "      <td>NW</td>\n",
       "      <td>WSW</td>\n",
       "      <td>Yes</td>\n",
       "    </tr>\n",
       "    <tr>\n",
       "      <th>3</th>\n",
       "      <td>2014-02-19</td>\n",
       "      <td>Richmond</td>\n",
       "      <td>SW</td>\n",
       "      <td>NNE</td>\n",
       "      <td>WSW</td>\n",
       "      <td>No</td>\n",
       "    </tr>\n",
       "    <tr>\n",
       "      <th>4</th>\n",
       "      <td>2015-10-04</td>\n",
       "      <td>Wollongong</td>\n",
       "      <td>W</td>\n",
       "      <td>NNW</td>\n",
       "      <td>W</td>\n",
       "      <td>No</td>\n",
       "    </tr>\n",
       "  </tbody>\n",
       "</table>\n",
       "</div>"
      ],
      "text/plain": [
       "         Date      Location WindGustDir WindDir9am WindDir3pm RainToday\n",
       "0  2013-07-22        Sydney         WNW        WNW          W        No\n",
       "1  2015-02-28          Sale           W        NNE        WSW        No\n",
       "2  2009-11-18  PerthAirport          NW         NW        WSW       Yes\n",
       "3  2014-02-19      Richmond          SW        NNE        WSW        No\n",
       "4  2015-10-04    Wollongong           W        NNW          W        No"
      ]
     },
     "execution_count": 388,
     "metadata": {},
     "output_type": "execute_result"
    }
   ],
   "source": [
    "train[categorical].head()"
   ]
  },
  {
   "cell_type": "markdown",
   "id": "172a200e-9235-4bfa-9ddc-ae4920712d7a",
   "metadata": {},
   "source": [
    "Изучаем категориальные признаки!!!!!!!!!!!!!!!!!!!!!"
   ]
  },
  {
   "cell_type": "code",
   "execution_count": 389,
   "id": "2915deb8-9825-4072-86af-67382dc45622",
   "metadata": {},
   "outputs": [
    {
     "name": "stdout",
     "output_type": "stream",
     "text": [
      "Date\n",
      "2015-01-12    45\n",
      "2015-03-17    44\n",
      "2014-11-29    43\n",
      "2015-10-01    43\n",
      "2013-07-09    43\n",
      "              ..\n",
      "2008-02-21     1\n",
      "2008-01-11     1\n",
      "2008-01-25     1\n",
      "2008-01-26     1\n",
      "2008-04-20     1\n",
      "Name: count, Length: 3408, dtype: int64\n",
      "Location\n",
      "Canberra            2431\n",
      "Sydney              2340\n",
      "Darwin              2250\n",
      "Perth               2240\n",
      "Hobart              2234\n",
      "Melbourne           2223\n",
      "Brisbane            2222\n",
      "Adelaide            2215\n",
      "Cairns              2170\n",
      "Albury              2168\n",
      "MountGambier        2166\n",
      "Newcastle           2162\n",
      "Launceston          2162\n",
      "Ballarat            2157\n",
      "Williamtown         2139\n",
      "Nuriootpa           2137\n",
      "GoldCoast           2137\n",
      "Townsville          2136\n",
      "Witchcliffe         2131\n",
      "WaggaWagga          2126\n",
      "Albany              2123\n",
      "SalmonGums          2122\n",
      "MelbourneAirport    2121\n",
      "Tuggeranong         2121\n",
      "SydneyAirport       2117\n",
      "Cobar               2117\n",
      "Wollongong          2115\n",
      "Woomera             2113\n",
      "Bendigo             2112\n",
      "Sale                2104\n",
      "PerthAirport        2104\n",
      "Moree               2101\n",
      "Penrith             2100\n",
      "MountGinini         2099\n",
      "AliceSprings        2098\n",
      "CoffsHarbour        2097\n",
      "Watsonia            2095\n",
      "NorahHead           2095\n",
      "Portland            2092\n",
      "PearceRAAF          2087\n",
      "Mildura             2086\n",
      "Dartmoor            2084\n",
      "NorfolkIsland       2065\n",
      "Richmond            2060\n",
      "Walpole             2058\n",
      "BadgerysCreek       2041\n",
      "Katherine           1127\n",
      "Uluru               1124\n",
      "Nhil                1098\n",
      "Name: count, dtype: int64\n",
      "WindGustDir\n",
      "W      6970\n",
      "SE     6611\n",
      "N      6515\n",
      "SSE    6472\n",
      "E      6425\n",
      "WSW    6363\n",
      "S      6359\n",
      "SW     6225\n",
      "SSW    6112\n",
      "WNW    5831\n",
      "NW     5686\n",
      "ENE    5655\n",
      "ESE    5114\n",
      "NE     4961\n",
      "NNW    4612\n",
      "NNE    4593\n",
      "Name: count, dtype: int64\n",
      "WindDir9am\n",
      "N      8287\n",
      "SE     6562\n",
      "E      6423\n",
      "SSE    6347\n",
      "NW     6196\n",
      "S      6138\n",
      "W      5893\n",
      "SW     5834\n",
      "NNE    5630\n",
      "NNW    5567\n",
      "ENE    5413\n",
      "ESE    5386\n",
      "NE     5298\n",
      "SSW    5280\n",
      "WNW    5240\n",
      "WSW    4937\n",
      "Name: count, dtype: int64\n",
      "WindDir3pm\n",
      "SE     7638\n",
      "W      7023\n",
      "S      6935\n",
      "WSW    6633\n",
      "SSE    6575\n",
      "SW     6537\n",
      "WNW    6291\n",
      "N      6170\n",
      "NW     6075\n",
      "ESE    5991\n",
      "E      5908\n",
      "NE     5801\n",
      "SSW    5669\n",
      "NNW    5513\n",
      "ENE    5445\n",
      "NNE    4632\n",
      "Name: count, dtype: int64\n",
      "RainToday\n",
      "No     77202\n",
      "Yes    22320\n",
      "Name: count, dtype: int64\n"
     ]
    }
   ],
   "source": [
    "for var in categorical: \n",
    "    \n",
    "    print(train[var].value_counts())"
   ]
  },
  {
   "cell_type": "code",
   "execution_count": 390,
   "id": "19c2d7bf-f831-4d6e-b274-c320247cdb40",
   "metadata": {},
   "outputs": [
    {
     "name": "stdout",
     "output_type": "stream",
     "text": [
      "Date  contains  3408  labels\n",
      "Location  contains  49  labels\n",
      "WindGustDir  contains  17  labels\n",
      "WindDir9am  contains  17  labels\n",
      "WindDir3pm  contains  17  labels\n",
      "RainToday  contains  3  labels\n"
     ]
    }
   ],
   "source": [
    "#количество уникальных значений\n",
    "\n",
    "for var in categorical:\n",
    "    \n",
    "    print(var, ' contains ', len(train[var].unique()), ' labels')"
   ]
  },
  {
   "cell_type": "code",
   "execution_count": 391,
   "id": "83d57046-dd68-4373-8e7d-75fe78ab7cb5",
   "metadata": {},
   "outputs": [],
   "source": [
    "train['Date'] = pd.to_datetime(train['Date'])"
   ]
  },
  {
   "cell_type": "code",
   "execution_count": 392,
   "id": "b5d97444-1f8f-4ff6-97ca-905679feed4f",
   "metadata": {},
   "outputs": [
    {
     "data": {
      "text/plain": [
       "0    2013\n",
       "1    2015\n",
       "2    2009\n",
       "3    2014\n",
       "4    2015\n",
       "Name: Year, dtype: int32"
      ]
     },
     "execution_count": 392,
     "metadata": {},
     "output_type": "execute_result"
    }
   ],
   "source": [
    "train['Year'] = train['Date'].dt.year\n",
    "\n",
    "train['Year'].head()"
   ]
  },
  {
   "cell_type": "code",
   "execution_count": 393,
   "id": "e56f5945-5f15-4e7c-b50b-e0ea792879e8",
   "metadata": {},
   "outputs": [
    {
     "name": "stdout",
     "output_type": "stream",
     "text": [
      "Year\n",
      "2016    12588\n",
      "2014    12539\n",
      "2015    12461\n",
      "2009    11834\n",
      "2010    11803\n",
      "2013    11463\n",
      "2011    10789\n",
      "2012    10691\n",
      "2017     6023\n",
      "2008     1584\n",
      "2007       47\n",
      "Name: count, dtype: int64\n"
     ]
    }
   ],
   "source": [
    "print(train['Year'].value_counts())"
   ]
  },
  {
   "cell_type": "code",
   "execution_count": 394,
   "id": "b5468517-b4a3-4669-a0cc-70781817ecbc",
   "metadata": {},
   "outputs": [
    {
     "data": {
      "text/plain": [
       "0     7\n",
       "1     2\n",
       "2    11\n",
       "3     2\n",
       "4    10\n",
       "Name: Month, dtype: int32"
      ]
     },
     "execution_count": 394,
     "metadata": {},
     "output_type": "execute_result"
    }
   ],
   "source": [
    "train['Month'] = train['Date'].dt.month\n",
    "train['Month'].head()"
   ]
  },
  {
   "cell_type": "code",
   "execution_count": 395,
   "id": "56bffcb5-a4f3-4309-8677-02d0ffd634ba",
   "metadata": {},
   "outputs": [
    {
     "name": "stdout",
     "output_type": "stream",
     "text": [
      "Month\n",
      "5     9460\n",
      "3     9382\n",
      "1     9192\n",
      "6     8766\n",
      "10    8457\n",
      "7     8422\n",
      "8     8351\n",
      "11    8165\n",
      "4     8146\n",
      "9     8143\n",
      "12    7810\n",
      "2     7528\n",
      "Name: count, dtype: int64\n"
     ]
    }
   ],
   "source": [
    "print(train['Month'].value_counts())"
   ]
  },
  {
   "cell_type": "code",
   "execution_count": 396,
   "id": "5e2d5225-8867-4119-905e-785e4a0938aa",
   "metadata": {},
   "outputs": [
    {
     "data": {
      "text/plain": [
       "0    22\n",
       "1    28\n",
       "2    18\n",
       "3    19\n",
       "4     4\n",
       "Name: Day, dtype: int32"
      ]
     },
     "execution_count": 396,
     "metadata": {},
     "output_type": "execute_result"
    }
   ],
   "source": [
    "train['Day'] = train['Date'].dt.day\n",
    "\n",
    "train['Day'].head()"
   ]
  },
  {
   "cell_type": "code",
   "execution_count": 397,
   "id": "7471bf8c-fb15-4afd-9913-2fd0ba7e69d2",
   "metadata": {},
   "outputs": [
    {
     "name": "stdout",
     "output_type": "stream",
     "text": [
      "<class 'pandas.core.frame.DataFrame'>\n",
      "RangeIndex: 101822 entries, 0 to 101821\n",
      "Data columns (total 26 columns):\n",
      " #   Column         Non-Null Count   Dtype         \n",
      "---  ------         --------------   -----         \n",
      " 0   Date           101822 non-null  datetime64[ns]\n",
      " 1   Location       101822 non-null  object        \n",
      " 2   MinTemp        100795 non-null  float64       \n",
      " 3   MaxTemp        100947 non-null  float64       \n",
      " 4   Rainfall       99522 non-null   float64       \n",
      " 5   Evaporation    57933 non-null   float64       \n",
      " 6   Sunshine       53022 non-null   float64       \n",
      " 7   WindGustDir    94504 non-null   object        \n",
      " 8   WindGustSpeed  94550 non-null   float64       \n",
      " 9   WindDir9am     94431 non-null   object        \n",
      " 10  WindDir3pm     98836 non-null   object        \n",
      " 11  WindSpeed9am   100550 non-null  float64       \n",
      " 12  WindSpeed3pm   99663 non-null   float64       \n",
      " 13  Humidity9am    99968 non-null   float64       \n",
      " 14  Humidity3pm    98662 non-null   float64       \n",
      " 15  Pressure9am    91268 non-null   float64       \n",
      " 16  Pressure3pm    91304 non-null   float64       \n",
      " 17  Cloud9am       62833 non-null   float64       \n",
      " 18  Cloud3pm       60402 non-null   float64       \n",
      " 19  Temp9am        100596 non-null  float64       \n",
      " 20  Temp3pm        99304 non-null   float64       \n",
      " 21  RainToday      99522 non-null   object        \n",
      " 22  RainTomorrow   101822 non-null  int64         \n",
      " 23  Year           101822 non-null  int32         \n",
      " 24  Month          101822 non-null  int32         \n",
      " 25  Day            101822 non-null  int32         \n",
      "dtypes: datetime64[ns](1), float64(16), int32(3), int64(1), object(5)\n",
      "memory usage: 19.0+ MB\n"
     ]
    }
   ],
   "source": [
    "train.info()"
   ]
  },
  {
   "cell_type": "code",
   "execution_count": 398,
   "id": "855b3095-8bd6-4537-9e87-d3af921b0946",
   "metadata": {},
   "outputs": [],
   "source": [
    "train.drop('Date', axis=1, inplace = True)"
   ]
  },
  {
   "cell_type": "code",
   "execution_count": 399,
   "id": "1cb74947-0112-4fda-a72b-6639573c3508",
   "metadata": {},
   "outputs": [
    {
     "data": {
      "text/html": [
       "<div>\n",
       "<style scoped>\n",
       "    .dataframe tbody tr th:only-of-type {\n",
       "        vertical-align: middle;\n",
       "    }\n",
       "\n",
       "    .dataframe tbody tr th {\n",
       "        vertical-align: top;\n",
       "    }\n",
       "\n",
       "    .dataframe thead th {\n",
       "        text-align: right;\n",
       "    }\n",
       "</style>\n",
       "<table border=\"1\" class=\"dataframe\">\n",
       "  <thead>\n",
       "    <tr style=\"text-align: right;\">\n",
       "      <th></th>\n",
       "      <th>Location</th>\n",
       "      <th>MinTemp</th>\n",
       "      <th>MaxTemp</th>\n",
       "      <th>Rainfall</th>\n",
       "      <th>Evaporation</th>\n",
       "      <th>Sunshine</th>\n",
       "      <th>WindGustDir</th>\n",
       "      <th>WindGustSpeed</th>\n",
       "      <th>WindDir9am</th>\n",
       "      <th>WindDir3pm</th>\n",
       "      <th>...</th>\n",
       "      <th>Pressure3pm</th>\n",
       "      <th>Cloud9am</th>\n",
       "      <th>Cloud3pm</th>\n",
       "      <th>Temp9am</th>\n",
       "      <th>Temp3pm</th>\n",
       "      <th>RainToday</th>\n",
       "      <th>RainTomorrow</th>\n",
       "      <th>Year</th>\n",
       "      <th>Month</th>\n",
       "      <th>Day</th>\n",
       "    </tr>\n",
       "  </thead>\n",
       "  <tbody>\n",
       "    <tr>\n",
       "      <th>0</th>\n",
       "      <td>Sydney</td>\n",
       "      <td>8.7</td>\n",
       "      <td>17.2</td>\n",
       "      <td>0.0</td>\n",
       "      <td>3.8</td>\n",
       "      <td>9.9</td>\n",
       "      <td>WNW</td>\n",
       "      <td>54.0</td>\n",
       "      <td>WNW</td>\n",
       "      <td>W</td>\n",
       "      <td>...</td>\n",
       "      <td>1016.3</td>\n",
       "      <td>2.0</td>\n",
       "      <td>2.0</td>\n",
       "      <td>12.2</td>\n",
       "      <td>16.6</td>\n",
       "      <td>No</td>\n",
       "      <td>0</td>\n",
       "      <td>2013</td>\n",
       "      <td>7</td>\n",
       "      <td>22</td>\n",
       "    </tr>\n",
       "    <tr>\n",
       "      <th>1</th>\n",
       "      <td>Sale</td>\n",
       "      <td>15.4</td>\n",
       "      <td>25.7</td>\n",
       "      <td>0.0</td>\n",
       "      <td>NaN</td>\n",
       "      <td>NaN</td>\n",
       "      <td>W</td>\n",
       "      <td>67.0</td>\n",
       "      <td>NNE</td>\n",
       "      <td>WSW</td>\n",
       "      <td>...</td>\n",
       "      <td>1005.1</td>\n",
       "      <td>8.0</td>\n",
       "      <td>8.0</td>\n",
       "      <td>18.8</td>\n",
       "      <td>24.3</td>\n",
       "      <td>No</td>\n",
       "      <td>1</td>\n",
       "      <td>2015</td>\n",
       "      <td>2</td>\n",
       "      <td>28</td>\n",
       "    </tr>\n",
       "    <tr>\n",
       "      <th>2</th>\n",
       "      <td>PerthAirport</td>\n",
       "      <td>15.2</td>\n",
       "      <td>22.2</td>\n",
       "      <td>7.2</td>\n",
       "      <td>5.2</td>\n",
       "      <td>3.3</td>\n",
       "      <td>NW</td>\n",
       "      <td>78.0</td>\n",
       "      <td>NW</td>\n",
       "      <td>WSW</td>\n",
       "      <td>...</td>\n",
       "      <td>1000.1</td>\n",
       "      <td>7.0</td>\n",
       "      <td>8.0</td>\n",
       "      <td>20.1</td>\n",
       "      <td>16.5</td>\n",
       "      <td>Yes</td>\n",
       "      <td>1</td>\n",
       "      <td>2009</td>\n",
       "      <td>11</td>\n",
       "      <td>18</td>\n",
       "    </tr>\n",
       "    <tr>\n",
       "      <th>3</th>\n",
       "      <td>Richmond</td>\n",
       "      <td>19.9</td>\n",
       "      <td>26.4</td>\n",
       "      <td>0.0</td>\n",
       "      <td>2.8</td>\n",
       "      <td>NaN</td>\n",
       "      <td>SW</td>\n",
       "      <td>24.0</td>\n",
       "      <td>NNE</td>\n",
       "      <td>WSW</td>\n",
       "      <td>...</td>\n",
       "      <td>1002.1</td>\n",
       "      <td>NaN</td>\n",
       "      <td>NaN</td>\n",
       "      <td>22.6</td>\n",
       "      <td>22.3</td>\n",
       "      <td>No</td>\n",
       "      <td>1</td>\n",
       "      <td>2014</td>\n",
       "      <td>2</td>\n",
       "      <td>19</td>\n",
       "    </tr>\n",
       "    <tr>\n",
       "      <th>4</th>\n",
       "      <td>Wollongong</td>\n",
       "      <td>19.3</td>\n",
       "      <td>32.9</td>\n",
       "      <td>0.0</td>\n",
       "      <td>NaN</td>\n",
       "      <td>NaN</td>\n",
       "      <td>W</td>\n",
       "      <td>48.0</td>\n",
       "      <td>NNW</td>\n",
       "      <td>W</td>\n",
       "      <td>...</td>\n",
       "      <td>1020.7</td>\n",
       "      <td>NaN</td>\n",
       "      <td>NaN</td>\n",
       "      <td>22.1</td>\n",
       "      <td>32.6</td>\n",
       "      <td>No</td>\n",
       "      <td>0</td>\n",
       "      <td>2015</td>\n",
       "      <td>10</td>\n",
       "      <td>4</td>\n",
       "    </tr>\n",
       "  </tbody>\n",
       "</table>\n",
       "<p>5 rows × 25 columns</p>\n",
       "</div>"
      ],
      "text/plain": [
       "       Location  MinTemp  MaxTemp  Rainfall  Evaporation  Sunshine  \\\n",
       "0        Sydney      8.7     17.2       0.0          3.8       9.9   \n",
       "1          Sale     15.4     25.7       0.0          NaN       NaN   \n",
       "2  PerthAirport     15.2     22.2       7.2          5.2       3.3   \n",
       "3      Richmond     19.9     26.4       0.0          2.8       NaN   \n",
       "4    Wollongong     19.3     32.9       0.0          NaN       NaN   \n",
       "\n",
       "  WindGustDir  WindGustSpeed WindDir9am WindDir3pm  ...  Pressure3pm  \\\n",
       "0         WNW           54.0        WNW          W  ...       1016.3   \n",
       "1           W           67.0        NNE        WSW  ...       1005.1   \n",
       "2          NW           78.0         NW        WSW  ...       1000.1   \n",
       "3          SW           24.0        NNE        WSW  ...       1002.1   \n",
       "4           W           48.0        NNW          W  ...       1020.7   \n",
       "\n",
       "   Cloud9am  Cloud3pm  Temp9am  Temp3pm  RainToday  RainTomorrow  Year  Month  \\\n",
       "0       2.0       2.0     12.2     16.6         No             0  2013      7   \n",
       "1       8.0       8.0     18.8     24.3         No             1  2015      2   \n",
       "2       7.0       8.0     20.1     16.5        Yes             1  2009     11   \n",
       "3       NaN       NaN     22.6     22.3         No             1  2014      2   \n",
       "4       NaN       NaN     22.1     32.6         No             0  2015     10   \n",
       "\n",
       "   Day  \n",
       "0   22  \n",
       "1   28  \n",
       "2   18  \n",
       "3   19  \n",
       "4    4  \n",
       "\n",
       "[5 rows x 25 columns]"
      ]
     },
     "execution_count": 399,
     "metadata": {},
     "output_type": "execute_result"
    }
   ],
   "source": [
    "train.head()"
   ]
  },
  {
   "cell_type": "code",
   "execution_count": 400,
   "id": "69374c5f-b04d-409b-a2be-6040b70043fe",
   "metadata": {},
   "outputs": [
    {
     "name": "stdout",
     "output_type": "stream",
     "text": [
      "There are 5 categorical variables\n",
      "\n",
      "The categorical variables are : ['Location', 'WindGustDir', 'WindDir9am', 'WindDir3pm', 'RainToday']\n"
     ]
    },
    {
     "data": {
      "text/plain": [
       "Location          0\n",
       "WindGustDir    7318\n",
       "WindDir9am     7391\n",
       "WindDir3pm     2986\n",
       "RainToday      2300\n",
       "dtype: int64"
      ]
     },
     "execution_count": 400,
     "metadata": {},
     "output_type": "execute_result"
    }
   ],
   "source": [
    "categorical = [var for var in train.columns if train[var].dtype=='O']\n",
    "\n",
    "print('There are {} categorical variables\\n'.format(len(categorical)))\n",
    "\n",
    "print('The categorical variables are :', categorical)\n",
    "\n",
    "train[categorical].isnull().sum()"
   ]
  },
  {
   "cell_type": "code",
   "execution_count": 401,
   "id": "b36b0ccb-d886-4a5b-b4b8-943454034744",
   "metadata": {},
   "outputs": [
    {
     "name": "stdout",
     "output_type": "stream",
     "text": [
      "There are 20 numerical variables\n",
      "\n",
      "The numerical variables are : ['MinTemp', 'MaxTemp', 'Rainfall', 'Evaporation', 'Sunshine', 'WindGustSpeed', 'WindSpeed9am', 'WindSpeed3pm', 'Humidity9am', 'Humidity3pm', 'Pressure9am', 'Pressure3pm', 'Cloud9am', 'Cloud3pm', 'Temp9am', 'Temp3pm', 'RainTomorrow', 'Year', 'Month', 'Day']\n"
     ]
    }
   ],
   "source": [
    "numerical = [var for var in train.columns if train[var].dtype!='O']\n",
    "\n",
    "print('There are {} numerical variables\\n'.format(len(numerical)))\n",
    "\n",
    "print('The numerical variables are :', numerical)"
   ]
  },
  {
   "cell_type": "code",
   "execution_count": 402,
   "id": "14f33919-80f4-420b-8af1-cf17d87370cd",
   "metadata": {},
   "outputs": [
    {
     "data": {
      "text/html": [
       "<div>\n",
       "<style scoped>\n",
       "    .dataframe tbody tr th:only-of-type {\n",
       "        vertical-align: middle;\n",
       "    }\n",
       "\n",
       "    .dataframe tbody tr th {\n",
       "        vertical-align: top;\n",
       "    }\n",
       "\n",
       "    .dataframe thead th {\n",
       "        text-align: right;\n",
       "    }\n",
       "</style>\n",
       "<table border=\"1\" class=\"dataframe\">\n",
       "  <thead>\n",
       "    <tr style=\"text-align: right;\">\n",
       "      <th></th>\n",
       "      <th>MinTemp</th>\n",
       "      <th>MaxTemp</th>\n",
       "      <th>Rainfall</th>\n",
       "      <th>Evaporation</th>\n",
       "      <th>Sunshine</th>\n",
       "      <th>WindGustSpeed</th>\n",
       "      <th>WindSpeed9am</th>\n",
       "      <th>WindSpeed3pm</th>\n",
       "      <th>Humidity9am</th>\n",
       "      <th>Humidity3pm</th>\n",
       "      <th>Pressure9am</th>\n",
       "      <th>Pressure3pm</th>\n",
       "      <th>Cloud9am</th>\n",
       "      <th>Cloud3pm</th>\n",
       "      <th>Temp9am</th>\n",
       "      <th>Temp3pm</th>\n",
       "      <th>RainTomorrow</th>\n",
       "      <th>Year</th>\n",
       "      <th>Month</th>\n",
       "      <th>Day</th>\n",
       "    </tr>\n",
       "  </thead>\n",
       "  <tbody>\n",
       "    <tr>\n",
       "      <th>0</th>\n",
       "      <td>8.7</td>\n",
       "      <td>17.2</td>\n",
       "      <td>0.0</td>\n",
       "      <td>3.8</td>\n",
       "      <td>9.9</td>\n",
       "      <td>54.0</td>\n",
       "      <td>17.0</td>\n",
       "      <td>26.0</td>\n",
       "      <td>54.0</td>\n",
       "      <td>28.0</td>\n",
       "      <td>1019.4</td>\n",
       "      <td>1016.3</td>\n",
       "      <td>2.0</td>\n",
       "      <td>2.0</td>\n",
       "      <td>12.2</td>\n",
       "      <td>16.6</td>\n",
       "      <td>0</td>\n",
       "      <td>2013</td>\n",
       "      <td>7</td>\n",
       "      <td>22</td>\n",
       "    </tr>\n",
       "    <tr>\n",
       "      <th>1</th>\n",
       "      <td>15.4</td>\n",
       "      <td>25.7</td>\n",
       "      <td>0.0</td>\n",
       "      <td>NaN</td>\n",
       "      <td>NaN</td>\n",
       "      <td>67.0</td>\n",
       "      <td>11.0</td>\n",
       "      <td>9.0</td>\n",
       "      <td>84.0</td>\n",
       "      <td>66.0</td>\n",
       "      <td>1008.1</td>\n",
       "      <td>1005.1</td>\n",
       "      <td>8.0</td>\n",
       "      <td>8.0</td>\n",
       "      <td>18.8</td>\n",
       "      <td>24.3</td>\n",
       "      <td>1</td>\n",
       "      <td>2015</td>\n",
       "      <td>2</td>\n",
       "      <td>28</td>\n",
       "    </tr>\n",
       "    <tr>\n",
       "      <th>2</th>\n",
       "      <td>15.2</td>\n",
       "      <td>22.2</td>\n",
       "      <td>7.2</td>\n",
       "      <td>5.2</td>\n",
       "      <td>3.3</td>\n",
       "      <td>78.0</td>\n",
       "      <td>33.0</td>\n",
       "      <td>28.0</td>\n",
       "      <td>68.0</td>\n",
       "      <td>91.0</td>\n",
       "      <td>1001.5</td>\n",
       "      <td>1000.1</td>\n",
       "      <td>7.0</td>\n",
       "      <td>8.0</td>\n",
       "      <td>20.1</td>\n",
       "      <td>16.5</td>\n",
       "      <td>1</td>\n",
       "      <td>2009</td>\n",
       "      <td>11</td>\n",
       "      <td>18</td>\n",
       "    </tr>\n",
       "    <tr>\n",
       "      <th>3</th>\n",
       "      <td>19.9</td>\n",
       "      <td>26.4</td>\n",
       "      <td>0.0</td>\n",
       "      <td>2.8</td>\n",
       "      <td>NaN</td>\n",
       "      <td>24.0</td>\n",
       "      <td>13.0</td>\n",
       "      <td>9.0</td>\n",
       "      <td>97.0</td>\n",
       "      <td>97.0</td>\n",
       "      <td>1004.6</td>\n",
       "      <td>1002.1</td>\n",
       "      <td>NaN</td>\n",
       "      <td>NaN</td>\n",
       "      <td>22.6</td>\n",
       "      <td>22.3</td>\n",
       "      <td>1</td>\n",
       "      <td>2014</td>\n",
       "      <td>2</td>\n",
       "      <td>19</td>\n",
       "    </tr>\n",
       "    <tr>\n",
       "      <th>4</th>\n",
       "      <td>19.3</td>\n",
       "      <td>32.9</td>\n",
       "      <td>0.0</td>\n",
       "      <td>NaN</td>\n",
       "      <td>NaN</td>\n",
       "      <td>48.0</td>\n",
       "      <td>19.0</td>\n",
       "      <td>22.0</td>\n",
       "      <td>46.0</td>\n",
       "      <td>15.0</td>\n",
       "      <td>1022.8</td>\n",
       "      <td>1020.7</td>\n",
       "      <td>NaN</td>\n",
       "      <td>NaN</td>\n",
       "      <td>22.1</td>\n",
       "      <td>32.6</td>\n",
       "      <td>0</td>\n",
       "      <td>2015</td>\n",
       "      <td>10</td>\n",
       "      <td>4</td>\n",
       "    </tr>\n",
       "  </tbody>\n",
       "</table>\n",
       "</div>"
      ],
      "text/plain": [
       "   MinTemp  MaxTemp  Rainfall  Evaporation  Sunshine  WindGustSpeed  \\\n",
       "0      8.7     17.2       0.0          3.8       9.9           54.0   \n",
       "1     15.4     25.7       0.0          NaN       NaN           67.0   \n",
       "2     15.2     22.2       7.2          5.2       3.3           78.0   \n",
       "3     19.9     26.4       0.0          2.8       NaN           24.0   \n",
       "4     19.3     32.9       0.0          NaN       NaN           48.0   \n",
       "\n",
       "   WindSpeed9am  WindSpeed3pm  Humidity9am  Humidity3pm  Pressure9am  \\\n",
       "0          17.0          26.0         54.0         28.0       1019.4   \n",
       "1          11.0           9.0         84.0         66.0       1008.1   \n",
       "2          33.0          28.0         68.0         91.0       1001.5   \n",
       "3          13.0           9.0         97.0         97.0       1004.6   \n",
       "4          19.0          22.0         46.0         15.0       1022.8   \n",
       "\n",
       "   Pressure3pm  Cloud9am  Cloud3pm  Temp9am  Temp3pm  RainTomorrow  Year  \\\n",
       "0       1016.3       2.0       2.0     12.2     16.6             0  2013   \n",
       "1       1005.1       8.0       8.0     18.8     24.3             1  2015   \n",
       "2       1000.1       7.0       8.0     20.1     16.5             1  2009   \n",
       "3       1002.1       NaN       NaN     22.6     22.3             1  2014   \n",
       "4       1020.7       NaN       NaN     22.1     32.6             0  2015   \n",
       "\n",
       "   Month  Day  \n",
       "0      7   22  \n",
       "1      2   28  \n",
       "2     11   18  \n",
       "3      2   19  \n",
       "4     10    4  "
      ]
     },
     "execution_count": 402,
     "metadata": {},
     "output_type": "execute_result"
    }
   ],
   "source": [
    "train[numerical].head()"
   ]
  },
  {
   "cell_type": "code",
   "execution_count": 403,
   "id": "d3e17faf-7888-42f0-8480-bedf10793e2e",
   "metadata": {},
   "outputs": [
    {
     "name": "stdout",
     "output_type": "stream",
     "text": [
      "        MinTemp   MaxTemp  Rainfall  Evaporation  Sunshine  WindGustSpeed  \\\n",
      "count  100795.0  100947.0   99522.0      57933.0   53022.0        94550.0   \n",
      "mean       12.0      23.0       2.0          5.0       8.0           40.0   \n",
      "std         6.0       7.0       8.0          4.0       4.0           14.0   \n",
      "min        -8.0      -5.0       0.0          0.0       0.0            7.0   \n",
      "25%         8.0      18.0       0.0          3.0       5.0           31.0   \n",
      "50%        12.0      23.0       0.0          5.0       8.0           39.0   \n",
      "75%        17.0      28.0       1.0          7.0      11.0           48.0   \n",
      "max        32.0      48.0     368.0        145.0      14.0          135.0   \n",
      "\n",
      "       WindSpeed9am  WindSpeed3pm  Humidity9am  Humidity3pm  Pressure9am  \\\n",
      "count      100550.0       99663.0      99968.0      98662.0      91268.0   \n",
      "mean           14.0          19.0         69.0         52.0       1018.0   \n",
      "std             9.0           9.0         19.0         21.0          7.0   \n",
      "min             0.0           0.0          1.0          0.0        980.0   \n",
      "25%             7.0          13.0         57.0         37.0       1013.0   \n",
      "50%            13.0          19.0         70.0         52.0       1018.0   \n",
      "75%            19.0          24.0         83.0         66.0       1022.0   \n",
      "max           130.0          87.0        100.0        100.0       1041.0   \n",
      "\n",
      "       Pressure3pm  Cloud9am  Cloud3pm   Temp9am  Temp3pm  RainTomorrow  \\\n",
      "count      91304.0   62833.0   60402.0  100596.0  99304.0      101822.0   \n",
      "mean        1015.0       4.0       5.0      17.0     22.0           0.0   \n",
      "std            7.0       3.0       3.0       6.0      7.0           0.0   \n",
      "min          977.0       0.0       0.0      -7.0     -5.0           0.0   \n",
      "25%         1010.0       1.0       2.0      12.0     17.0           0.0   \n",
      "50%         1015.0       5.0       5.0      17.0     21.0           0.0   \n",
      "75%         1020.0       7.0       7.0      22.0     26.0           0.0   \n",
      "max         1038.0       9.0       9.0      39.0     46.0           1.0   \n",
      "\n",
      "           Year     Month       Day  \n",
      "count  101822.0  101822.0  101822.0  \n",
      "mean     2013.0       6.0      16.0  \n",
      "std         3.0       3.0       9.0  \n",
      "min      2007.0       1.0       1.0  \n",
      "25%      2011.0       3.0       8.0  \n",
      "50%      2013.0       6.0      16.0  \n",
      "75%      2015.0       9.0      23.0  \n",
      "max      2017.0      12.0      31.0   2\n"
     ]
    }
   ],
   "source": [
    "print(round(train[numerical].describe()),2)"
   ]
  },
  {
   "cell_type": "code",
   "execution_count": 404,
   "id": "36f88ba0-51e3-4bdf-9b16-5a223923be60",
   "metadata": {},
   "outputs": [
    {
     "data": {
      "image/png": "[encoded data removed]",
      "text/plain": [
       "<Figure size 800x600 with 1 Axes>"
      ]
     },
     "metadata": {},
     "output_type": "display_data"
    }
   ],
   "source": [
    "fig = plt.figure(figsize=(8, 6))\n",
    "fig.patch.set_facecolor('xkcd:white')\n",
    "plt.scatter(train. Rainfall, train.Pressure3pm)\n",
    "plt.show()"
   ]
  },
  {
   "cell_type": "code",
   "execution_count": 405,
   "id": "dea484c3-c85d-415e-8205-a33c988137ac",
   "metadata": {},
   "outputs": [
    {
     "data": {
      "text/plain": [
       "Text(0, 0.5, 'WindSpeed3pm')"
      ]
     },
     "execution_count": 405,
     "metadata": {},
     "output_type": "execute_result"
    },
    {
     "data": {
      "image/png": "[encoded data removed]",
      "text/plain": [
       "<Figure size 1500x1000 with 4 Axes>"
      ]
     },
     "metadata": {},
     "output_type": "display_data"
    }
   ],
   "source": [
    "\n",
    "plt.figure(figsize=(15,10))\n",
    "\n",
    "\n",
    "plt.subplot(2, 2, 1)\n",
    "fig = train.boxplot(column='Rainfall')\n",
    "fig.set_title('')\n",
    "fig.set_ylabel('Rainfall')\n",
    "\n",
    "\n",
    "plt.subplot(2, 2, 2)\n",
    "fig = train.boxplot(column='Evaporation')\n",
    "fig.set_title('')\n",
    "fig.set_ylabel('Evaporation')\n",
    "\n",
    "plt.subplot(2, 2, 3)\n",
    "fig = train.boxplot(column='WindSpeed9am')\n",
    "fig.set_title('')\n",
    "fig.set_ylabel('WindSpeed9am')\n",
    "\n",
    "\n",
    "plt.subplot(2, 2, 4)\n",
    "fig = train.boxplot(column='WindSpeed3pm')\n",
    "fig.set_title('')\n",
    "fig.set_ylabel('WindSpeed3pm')"
   ]
  },
  {
   "cell_type": "code",
   "execution_count": 406,
   "id": "9fc74692-b72f-4939-ab79-0a827eb9b1fc",
   "metadata": {},
   "outputs": [
    {
     "data": {
      "image/png": "[encoded data removed]",
      "text/plain": [
       "<Figure size 1000x800 with 16 Axes>"
      ]
     },
     "metadata": {},
     "output_type": "display_data"
    }
   ],
   "source": [
    "from pandas.plotting import scatter_matrix\n",
    "\n",
    "fig, ax = plt.subplots(figsize=(10, 8))\n",
    "fig.patch.set_facecolor('xkcd:white')\n",
    "\n",
    "cols = ['Rainfall', 'Evaporation', 'WindSpeed9am', 'WindSpeed3pm']\n",
    "scatter_matrix(train[cols], ax=ax)\n",
    "plt.show()"
   ]
  },
  {
   "cell_type": "code",
   "execution_count": 407,
   "id": "161d6838-9060-4f6f-a4f9-35f472ad20c6",
   "metadata": {},
   "outputs": [
    {
     "data": {
      "text/plain": [
       "Text(0, 0.5, 'RainTomorrow')"
      ]
     },
     "execution_count": 407,
     "metadata": {},
     "output_type": "execute_result"
    },
    {
     "data": {
      "image/png": "[encoded data removed]",
      "text/plain": [
       "<Figure size 1500x1000 with 4 Axes>"
      ]
     },
     "metadata": {},
     "output_type": "display_data"
    }
   ],
   "source": [
    "\n",
    "plt.figure(figsize=(15,10))\n",
    "\n",
    "\n",
    "plt.subplot(2, 2, 1)\n",
    "fig = train.Rainfall.hist(bins=10)\n",
    "fig.set_xlabel('Rainfall')\n",
    "fig.set_ylabel('RainTomorrow')\n",
    "\n",
    "\n",
    "plt.subplot(2, 2, 2)\n",
    "fig = train.Evaporation.hist(bins=10)\n",
    "fig.set_xlabel('Evaporation')\n",
    "fig.set_ylabel('RainTomorrow')\n",
    "\n",
    "plt.subplot(2, 2, 3)\n",
    "fig = train.WindSpeed9am.hist(bins=10)\n",
    "fig.set_xlabel('WindSpeed9am')\n",
    "fig.set_ylabel('RainTomorrow')\n",
    "\n",
    "\n",
    "plt.subplot(2, 2, 4)\n",
    "fig = train.WindSpeed3pm.hist(bins=10)\n",
    "fig.set_xlabel('WindSpeed3pm')\n",
    "fig.set_ylabel('RainTomorrow')"
   ]
  },
  {
   "cell_type": "code",
   "execution_count": 408,
   "id": "30c72d80-e7da-42e6-a7e6-d253561f6b24",
   "metadata": {},
   "outputs": [
    {
     "name": "stdout",
     "output_type": "stream",
     "text": [
      "Rainfall outliers are values < -1.2000000000000002 or > 2.0\n"
     ]
    }
   ],
   "source": [
    "IQR = train.Rainfall.quantile(0.75) - train.Rainfall.quantile(0.25)\n",
    "Lower_fence = train.Rainfall.quantile(0.25) - (IQR * 1.5)\n",
    "Upper_fence = train.Rainfall.quantile(0.75) + (IQR * 1.5)\n",
    "print('Rainfall outliers are values < {lowerboundary} or > {upperboundary}'.format(lowerboundary=Lower_fence, upperboundary=Upper_fence))"
   ]
  },
  {
   "cell_type": "code",
   "execution_count": 409,
   "id": "33b0a021-2639-4d8f-854b-04c4b2f93d1b",
   "metadata": {},
   "outputs": [
    {
     "name": "stdout",
     "output_type": "stream",
     "text": [
      "Evaporation outliers are values < -4.600000000000001 or > 14.600000000000001\n"
     ]
    }
   ],
   "source": [
    "\n",
    "IQR = train.Evaporation.quantile(0.75) - train.Evaporation.quantile(0.25)\n",
    "Lower_fence = train.Evaporation.quantile(0.25) - (IQR * 1.5)\n",
    "Upper_fence = train.Evaporation.quantile(0.75) + (IQR * 1.5)\n",
    "print('Evaporation outliers are values < {lowerboundary} or > {upperboundary}'.format(lowerboundary=Lower_fence, upperboundary=Upper_fence))"
   ]
  },
  {
   "cell_type": "code",
   "execution_count": 410,
   "id": "7488a4f8-6c93-4eff-8cc0-370dd0a9154c",
   "metadata": {},
   "outputs": [
    {
     "name": "stdout",
     "output_type": "stream",
     "text": [
      "WindSpeed9am outliers are values < -11.0 or > 37.0\n"
     ]
    }
   ],
   "source": [
    "IQR = train.WindSpeed9am.quantile(0.75) - train.WindSpeed9am.quantile(0.25)\n",
    "Lower_fence = train.WindSpeed9am.quantile(0.25) - (IQR * 1.5)\n",
    "Upper_fence = train.WindSpeed9am.quantile(0.75) + (IQR * 1.5)\n",
    "print('WindSpeed9am outliers are values < {lowerboundary} or > {upperboundary}'.format(lowerboundary=Lower_fence, upperboundary=Upper_fence))"
   ]
  },
  {
   "cell_type": "code",
   "execution_count": 411,
   "id": "ec32e074-2987-4eba-b915-beead3cd1cca",
   "metadata": {},
   "outputs": [
    {
     "name": "stdout",
     "output_type": "stream",
     "text": [
      "WindSpeed3pm outliers are values < -20.0 or > 57.0\n"
     ]
    }
   ],
   "source": [
    "IQR = train.WindSpeed3pm.quantile(0.75) - train.WindSpeed3pm.quantile(0.25)\n",
    "Lower_fence = train.WindSpeed3pm.quantile(0.25) - (IQR * 3)\n",
    "Upper_fence = train.WindSpeed3pm.quantile(0.75) + (IQR * 3)\n",
    "print('WindSpeed3pm outliers are values < {lowerboundary} or > {upperboundary}'.format(lowerboundary=Lower_fence, upperboundary=Upper_fence))"
   ]
  },
  {
   "cell_type": "code",
   "execution_count": 412,
   "id": "f5110285-c0b6-4843-a962-2b3dbe87657d",
   "metadata": {},
   "outputs": [
    {
     "ename": "KeyError",
     "evalue": "'RainTomorrow'",
     "output_type": "error",
     "traceback": [
      "\u001b[1;31m---------------------------------------------------------------------------\u001b[0m",
      "\u001b[1;31mKeyError\u001b[0m                                  Traceback (most recent call last)",
      "File \u001b[1;32m~\\AppData\\Local\\Programs\\Python\\Python311\\Lib\\site-packages\\pandas\\core\\indexes\\base.py:3790\u001b[0m, in \u001b[0;36mIndex.get_loc\u001b[1;34m(self, key)\u001b[0m\n\u001b[0;32m   3789\u001b[0m \u001b[38;5;28;01mtry\u001b[39;00m:\n\u001b[1;32m-> 3790\u001b[0m     \u001b[38;5;28;01mreturn\u001b[39;00m \u001b[38;5;28;43mself\u001b[39;49m\u001b[38;5;241;43m.\u001b[39;49m\u001b[43m_engine\u001b[49m\u001b[38;5;241;43m.\u001b[39;49m\u001b[43mget_loc\u001b[49m\u001b[43m(\u001b[49m\u001b[43mcasted_key\u001b[49m\u001b[43m)\u001b[49m\n\u001b[0;32m   3791\u001b[0m \u001b[38;5;28;01mexcept\u001b[39;00m \u001b[38;5;167;01mKeyError\u001b[39;00m \u001b[38;5;28;01mas\u001b[39;00m err:\n",
      "File \u001b[1;32mindex.pyx:152\u001b[0m, in \u001b[0;36mpandas._libs.index.IndexEngine.get_loc\u001b[1;34m()\u001b[0m\n",
      "File \u001b[1;32mindex.pyx:181\u001b[0m, in \u001b[0;36mpandas._libs.index.IndexEngine.get_loc\u001b[1;34m()\u001b[0m\n",
      "File \u001b[1;32mpandas\\_libs\\hashtable_class_helper.pxi:7080\u001b[0m, in \u001b[0;36mpandas._libs.hashtable.PyObjectHashTable.get_item\u001b[1;34m()\u001b[0m\n",
      "File \u001b[1;32mpandas\\_libs\\hashtable_class_helper.pxi:7088\u001b[0m, in \u001b[0;36mpandas._libs.hashtable.PyObjectHashTable.get_item\u001b[1;34m()\u001b[0m\n",
      "\u001b[1;31mKeyError\u001b[0m: 'RainTomorrow'",
      "\nThe above exception was the direct cause of the following exception:\n",
      "\u001b[1;31mKeyError\u001b[0m                                  Traceback (most recent call last)",
      "Cell \u001b[1;32mIn[412], line 3\u001b[0m\n\u001b[0;32m      1\u001b[0m \u001b[38;5;28;01mfor\u001b[39;00m df1 \u001b[38;5;129;01min\u001b[39;00m [X_train, X_test]:\n\u001b[0;32m      2\u001b[0m     \u001b[38;5;28;01mfor\u001b[39;00m col \u001b[38;5;129;01min\u001b[39;00m numerical:\n\u001b[1;32m----> 3\u001b[0m         col_median\u001b[38;5;241m=\u001b[39m\u001b[43mX_train\u001b[49m\u001b[43m[\u001b[49m\u001b[43mcol\u001b[49m\u001b[43m]\u001b[49m\u001b[38;5;241m.\u001b[39mmedian()\n\u001b[0;32m      4\u001b[0m         df1[col]\u001b[38;5;241m.\u001b[39mfillna(col_median, inplace\u001b[38;5;241m=\u001b[39m\u001b[38;5;28;01mTrue\u001b[39;00m)      \n",
      "File \u001b[1;32m~\\AppData\\Local\\Programs\\Python\\Python311\\Lib\\site-packages\\pandas\\core\\frame.py:3893\u001b[0m, in \u001b[0;36mDataFrame.__getitem__\u001b[1;34m(self, key)\u001b[0m\n\u001b[0;32m   3891\u001b[0m \u001b[38;5;28;01mif\u001b[39;00m \u001b[38;5;28mself\u001b[39m\u001b[38;5;241m.\u001b[39mcolumns\u001b[38;5;241m.\u001b[39mnlevels \u001b[38;5;241m>\u001b[39m \u001b[38;5;241m1\u001b[39m:\n\u001b[0;32m   3892\u001b[0m     \u001b[38;5;28;01mreturn\u001b[39;00m \u001b[38;5;28mself\u001b[39m\u001b[38;5;241m.\u001b[39m_getitem_multilevel(key)\n\u001b[1;32m-> 3893\u001b[0m indexer \u001b[38;5;241m=\u001b[39m \u001b[38;5;28;43mself\u001b[39;49m\u001b[38;5;241;43m.\u001b[39;49m\u001b[43mcolumns\u001b[49m\u001b[38;5;241;43m.\u001b[39;49m\u001b[43mget_loc\u001b[49m\u001b[43m(\u001b[49m\u001b[43mkey\u001b[49m\u001b[43m)\u001b[49m\n\u001b[0;32m   3894\u001b[0m \u001b[38;5;28;01mif\u001b[39;00m is_integer(indexer):\n\u001b[0;32m   3895\u001b[0m     indexer \u001b[38;5;241m=\u001b[39m [indexer]\n",
      "File \u001b[1;32m~\\AppData\\Local\\Programs\\Python\\Python311\\Lib\\site-packages\\pandas\\core\\indexes\\multi.py:2925\u001b[0m, in \u001b[0;36mMultiIndex.get_loc\u001b[1;34m(self, key)\u001b[0m\n\u001b[0;32m   2922\u001b[0m     \u001b[38;5;28;01mreturn\u001b[39;00m mask\n\u001b[0;32m   2924\u001b[0m \u001b[38;5;28;01mif\u001b[39;00m \u001b[38;5;129;01mnot\u001b[39;00m \u001b[38;5;28misinstance\u001b[39m(key, \u001b[38;5;28mtuple\u001b[39m):\n\u001b[1;32m-> 2925\u001b[0m     loc \u001b[38;5;241m=\u001b[39m \u001b[38;5;28;43mself\u001b[39;49m\u001b[38;5;241;43m.\u001b[39;49m\u001b[43m_get_level_indexer\u001b[49m\u001b[43m(\u001b[49m\u001b[43mkey\u001b[49m\u001b[43m,\u001b[49m\u001b[43m \u001b[49m\u001b[43mlevel\u001b[49m\u001b[38;5;241;43m=\u001b[39;49m\u001b[38;5;241;43m0\u001b[39;49m\u001b[43m)\u001b[49m\n\u001b[0;32m   2926\u001b[0m     \u001b[38;5;28;01mreturn\u001b[39;00m _maybe_to_slice(loc)\n\u001b[0;32m   2928\u001b[0m keylen \u001b[38;5;241m=\u001b[39m \u001b[38;5;28mlen\u001b[39m(key)\n",
      "File \u001b[1;32m~\\AppData\\Local\\Programs\\Python\\Python311\\Lib\\site-packages\\pandas\\core\\indexes\\multi.py:3276\u001b[0m, in \u001b[0;36mMultiIndex._get_level_indexer\u001b[1;34m(self, key, level, indexer)\u001b[0m\n\u001b[0;32m   3273\u001b[0m         \u001b[38;5;28;01mreturn\u001b[39;00m \u001b[38;5;28mslice\u001b[39m(i, j, step)\n\u001b[0;32m   3275\u001b[0m \u001b[38;5;28;01melse\u001b[39;00m:\n\u001b[1;32m-> 3276\u001b[0m     idx \u001b[38;5;241m=\u001b[39m \u001b[38;5;28;43mself\u001b[39;49m\u001b[38;5;241;43m.\u001b[39;49m\u001b[43m_get_loc_single_level_index\u001b[49m\u001b[43m(\u001b[49m\u001b[43mlevel_index\u001b[49m\u001b[43m,\u001b[49m\u001b[43m \u001b[49m\u001b[43mkey\u001b[49m\u001b[43m)\u001b[49m\n\u001b[0;32m   3278\u001b[0m     \u001b[38;5;28;01mif\u001b[39;00m level \u001b[38;5;241m>\u001b[39m \u001b[38;5;241m0\u001b[39m \u001b[38;5;129;01mor\u001b[39;00m \u001b[38;5;28mself\u001b[39m\u001b[38;5;241m.\u001b[39m_lexsort_depth \u001b[38;5;241m==\u001b[39m \u001b[38;5;241m0\u001b[39m:\n\u001b[0;32m   3279\u001b[0m         \u001b[38;5;66;03m# Desired level is not sorted\u001b[39;00m\n\u001b[0;32m   3280\u001b[0m         \u001b[38;5;28;01mif\u001b[39;00m \u001b[38;5;28misinstance\u001b[39m(idx, \u001b[38;5;28mslice\u001b[39m):\n\u001b[0;32m   3281\u001b[0m             \u001b[38;5;66;03m# test_get_loc_partial_timestamp_multiindex\u001b[39;00m\n",
      "File \u001b[1;32m~\\AppData\\Local\\Programs\\Python\\Python311\\Lib\\site-packages\\pandas\\core\\indexes\\multi.py:2865\u001b[0m, in \u001b[0;36mMultiIndex._get_loc_single_level_index\u001b[1;34m(self, level_index, key)\u001b[0m\n\u001b[0;32m   2863\u001b[0m     \u001b[38;5;28;01mreturn\u001b[39;00m \u001b[38;5;241m-\u001b[39m\u001b[38;5;241m1\u001b[39m\n\u001b[0;32m   2864\u001b[0m \u001b[38;5;28;01melse\u001b[39;00m:\n\u001b[1;32m-> 2865\u001b[0m     \u001b[38;5;28;01mreturn\u001b[39;00m \u001b[43mlevel_index\u001b[49m\u001b[38;5;241;43m.\u001b[39;49m\u001b[43mget_loc\u001b[49m\u001b[43m(\u001b[49m\u001b[43mkey\u001b[49m\u001b[43m)\u001b[49m\n",
      "File \u001b[1;32m~\\AppData\\Local\\Programs\\Python\\Python311\\Lib\\site-packages\\pandas\\core\\indexes\\base.py:3797\u001b[0m, in \u001b[0;36mIndex.get_loc\u001b[1;34m(self, key)\u001b[0m\n\u001b[0;32m   3792\u001b[0m     \u001b[38;5;28;01mif\u001b[39;00m \u001b[38;5;28misinstance\u001b[39m(casted_key, \u001b[38;5;28mslice\u001b[39m) \u001b[38;5;129;01mor\u001b[39;00m (\n\u001b[0;32m   3793\u001b[0m         \u001b[38;5;28misinstance\u001b[39m(casted_key, abc\u001b[38;5;241m.\u001b[39mIterable)\n\u001b[0;32m   3794\u001b[0m         \u001b[38;5;129;01mand\u001b[39;00m \u001b[38;5;28many\u001b[39m(\u001b[38;5;28misinstance\u001b[39m(x, \u001b[38;5;28mslice\u001b[39m) \u001b[38;5;28;01mfor\u001b[39;00m x \u001b[38;5;129;01min\u001b[39;00m casted_key)\n\u001b[0;32m   3795\u001b[0m     ):\n\u001b[0;32m   3796\u001b[0m         \u001b[38;5;28;01mraise\u001b[39;00m InvalidIndexError(key)\n\u001b[1;32m-> 3797\u001b[0m     \u001b[38;5;28;01mraise\u001b[39;00m \u001b[38;5;167;01mKeyError\u001b[39;00m(key) \u001b[38;5;28;01mfrom\u001b[39;00m \u001b[38;5;21;01merr\u001b[39;00m\n\u001b[0;32m   3798\u001b[0m \u001b[38;5;28;01mexcept\u001b[39;00m \u001b[38;5;167;01mTypeError\u001b[39;00m:\n\u001b[0;32m   3799\u001b[0m     \u001b[38;5;66;03m# If we have a listlike key, _check_indexing_error will raise\u001b[39;00m\n\u001b[0;32m   3800\u001b[0m     \u001b[38;5;66;03m#  InvalidIndexError. Otherwise we fall through and re-raise\u001b[39;00m\n\u001b[0;32m   3801\u001b[0m     \u001b[38;5;66;03m#  the TypeError.\u001b[39;00m\n\u001b[0;32m   3802\u001b[0m     \u001b[38;5;28mself\u001b[39m\u001b[38;5;241m.\u001b[39m_check_indexing_error(key)\n",
      "\u001b[1;31mKeyError\u001b[0m: 'RainTomorrow'"
     ]
    }
   ],
   "source": [
    "for df1 in [X_train, X_test]:\n",
    "    for col in numerical:\n",
    "        col_median=X_train[col].median()\n",
    "        df1[col].fillna(col_median, inplace=True)      "
   ]
  },
  {
   "cell_type": "code",
   "execution_count": null,
   "id": "4d04d44e-d073-4421-a745-d9e0b5b143ec",
   "metadata": {},
   "outputs": [],
   "source": [
    "for df2 in [X_train, X_test]:\n",
    "    df2['WindGustDir'].fillna(X_train['WindGustDir'].mode()[0], inplace=True)\n",
    "    df2['WindDir9am'].fillna(X_train['WindDir9am'].mode()[0], inplace=True)\n",
    "    df2['WindDir3pm'].fillna(X_train['WindDir3pm'].mode()[0], inplace=True)\n",
    "    df2['RainToday'].fillna(X_train['RainToday'].mode()[0], inplace=True)"
   ]
  },
  {
   "cell_type": "code",
   "execution_count": null,
   "id": "35596adf-5571-4542-8564-09e44aaf7bc6",
   "metadata": {},
   "outputs": [],
   "source": [
    "X = train.drop(['RainTomorrow'], axis=1) #вектор признаков\n",
    "\n",
    "y = train['RainTomorrow'] #целевая"
   ]
  },
  {
   "cell_type": "code",
   "execution_count": null,
   "id": "3b26949a-313a-4327-b586-a86359ec5717",
   "metadata": {},
   "outputs": [],
   "source": [
    "X_train, X_test, y_train, y_test = train_test_split(X, y, test_size = 0.2, random_state = 42)\n",
    "X_train.shape, X_test.shape"
   ]
  },
  {
   "cell_type": "code",
   "execution_count": null,
   "id": "7f1de70a-205f-4540-8aac-d7a97701d8f4",
   "metadata": {},
   "outputs": [],
   "source": [
    "print(X_train.columns)"
   ]
  },
  {
   "cell_type": "code",
   "execution_count": null,
   "id": "fd1445ca-f958-493f-bfb8-01df8993762b",
   "metadata": {},
   "outputs": [],
   "source": [
    "categorical = [col for col in X_train.columns if X_train[col].dtypes == 'O']\n",
    "\n",
    "categorical\n",
    "\n"
   ]
  },
  {
   "cell_type": "code",
   "execution_count": null,
   "id": "16b5cb2d-7e3b-4113-962a-43089d544b2c",
   "metadata": {},
   "outputs": [],
   "source": [
    "\n",
    "numerical = [col for col in X_train.columns if X_train[col].dtypes != 'O']\n",
    "\n",
    "numerical"
   ]
  },
  {
   "cell_type": "code",
   "execution_count": null,
   "id": "d483cfbd-c657-4918-aa56-c00128d81245",
   "metadata": {},
   "outputs": [],
   "source": [
    "def max_value(df3, variable, top):\n",
    "    return np.where(df3[variable]>top, top, df3[variable])\n",
    "\n",
    "for df3 in [X_train, X_test]:\n",
    "    df3['Rainfall'] = max_value(df3, 'Rainfall', 1.5)\n",
    "    df3['Evaporation'] = max_value(df3, 'Evaporation', 14.3)\n",
    "    df3['WindSpeed9am'] = max_value(df3, 'WindSpeed9am', 36.5)\n",
    "    df3['WindSpeed3pm'] = max_value(df3, 'WindSpeed3pm', 65.0)"
   ]
  },
  {
   "cell_type": "code",
   "execution_count": null,
   "id": "3ce5b7ea-4207-44a3-beb5-b0c752115b82",
   "metadata": {},
   "outputs": [],
   "source": [
    "X_train[numerical].describe()"
   ]
  },
  {
   "cell_type": "code",
   "execution_count": null,
   "id": "ef755b93-d640-4772-9d49-1dce23693ad7",
   "metadata": {},
   "outputs": [],
   "source": [
    "import category_encoders as ce\n",
    "\n",
    "encoder = ce.BinaryEncoder(cols=['RainToday'])\n",
    "\n",
    "X_train = encoder.fit_transform(X_train)\n",
    "\n",
    "X_test = encoder.transform(X_test)"
   ]
  },
  {
   "cell_type": "code",
   "execution_count": null,
   "id": "d67972fd-8482-4c73-bdeb-55d30d9f8f95",
   "metadata": {},
   "outputs": [],
   "source": [
    "X_train.head()"
   ]
  },
  {
   "cell_type": "code",
   "execution_count": null,
   "id": "a15846dc-2e90-459b-a8dd-7cd3b3d390f2",
   "metadata": {},
   "outputs": [],
   "source": [
    "X_train = pd.concat([X_train[numerical], X_train[['RainToday_0', 'RainToday_1']],\n",
    "                     pd.get_dummies(X_train.Location), \n",
    "                     pd.get_dummies(X_train.WindGustDir),\n",
    "                     pd.get_dummies(X_train.WindDir9am),\n",
    "                     pd.get_dummies(X_train.WindDir3pm)], axis=1)"
   ]
  },
  {
   "cell_type": "code",
   "execution_count": null,
   "id": "08193b7b-3df7-4380-bb6a-b9ee0d8fdc79",
   "metadata": {},
   "outputs": [],
   "source": [
    "X_train.head()"
   ]
  },
  {
   "cell_type": "code",
   "execution_count": null,
   "id": "3ef44329-4a33-478e-8f84-0c748aecaaf0",
   "metadata": {},
   "outputs": [],
   "source": [
    "X_test = pd.concat([X_test[numerical], X_test[['RainToday_0', 'RainToday_1']],\n",
    "                     pd.get_dummies(X_test.Location), \n",
    "                     pd.get_dummies(X_test.WindGustDir),\n",
    "                     pd.get_dummies(X_test.WindDir9am),\n",
    "                     pd.get_dummies(X_test.WindDir3pm)], axis=1)"
   ]
  },
  {
   "cell_type": "code",
   "execution_count": null,
   "id": "a507942a-ab5f-4613-9a76-c0eec3536eaf",
   "metadata": {},
   "outputs": [],
   "source": [
    "X_test.head()"
   ]
  },
  {
   "cell_type": "code",
   "execution_count": null,
   "id": "c0cad103-908c-4c00-baee-dc7b267d21e6",
   "metadata": {},
   "outputs": [],
   "source": [
    "X_train.describe()\n"
   ]
  },
  {
   "cell_type": "code",
   "execution_count": null,
   "id": "23dae37e-3016-4b5f-88ea-cac174141b26",
   "metadata": {},
   "outputs": [],
   "source": [
    "cols = X_train.columns"
   ]
  },
  {
   "cell_type": "code",
   "execution_count": null,
   "id": "3478a581-ca5e-42ae-b8f9-fb503c05c21c",
   "metadata": {},
   "outputs": [],
   "source": [
    "from sklearn.preprocessing import MinMaxScaler\n",
    "\n",
    "scaler = MinMaxScaler()\n",
    "\n",
    "X_train = scaler.fit_transform(X_train)\n",
    "\n",
    "X_test = scaler.transform(X_test)"
   ]
  },
  {
   "cell_type": "code",
   "execution_count": null,
   "id": "1efca2cd-ca79-4163-92c3-4cee12c6bb83",
   "metadata": {},
   "outputs": [],
   "source": [
    "X_train = pd.DataFrame(X_train, columns=[cols])\n",
    "X_test = pd.DataFrame(X_test, columns=[cols])\n",
    "X_train.describe()"
   ]
  },
  {
   "cell_type": "code",
   "execution_count": null,
   "id": "bdf1b9a4-dfab-4381-b3b1-d1597b51e6a3",
   "metadata": {},
   "outputs": [],
   "source": [
    "from sklearn.linear_model import LogisticRegression\n",
    "\n",
    "\n",
    "# instantiate the model\n",
    "logreg = LogisticRegression(solver='liblinear', random_state=0)\n",
    "\n",
    "\n",
    "# fit the model\n",
    "logreg.fit(X_train, y_train)"
   ]
  },
  {
   "cell_type": "code",
   "execution_count": null,
   "id": "c61d8b83-9f8a-4bcf-9ed2-702b54e70119",
   "metadata": {},
   "outputs": [],
   "source": [
    "y_pred_test = logreg.predict(X_test)\n",
    "\n",
    "y_pred_test"
   ]
  },
  {
   "cell_type": "code",
   "execution_count": null,
   "id": "69de723e-702c-4f5d-b4bf-8e09927bdfe3",
   "metadata": {},
   "outputs": [],
   "source": [
    "logreg.predict_proba(X_test)[:,0]"
   ]
  },
  {
   "cell_type": "code",
   "execution_count": null,
   "id": "83ce7dc7-12dd-408d-9d59-4558bf4f4f2c",
   "metadata": {},
   "outputs": [],
   "source": [
    "logreg.predict_proba(X_test)[:,1]"
   ]
  },
  {
   "cell_type": "code",
   "execution_count": null,
   "id": "7502e94a-29b0-46ba-b996-63ed9bc71f8f",
   "metadata": {},
   "outputs": [],
   "source": [
    "from sklearn.metrics import accuracy_score\n",
    "\n",
    "print('Model accuracy score: {0:0.4f}'. format(accuracy_score(y_test, y_pred_test)))"
   ]
  },
  {
   "cell_type": "code",
   "execution_count": null,
   "id": "b6be6b43-08cf-49c8-9ee8-99c3711f79e5",
   "metadata": {},
   "outputs": [],
   "source": []
  },
  {
   "cell_type": "code",
   "execution_count": null,
   "id": "73dba898-0061-4808-8daa-74416de0ab67",
   "metadata": {},
   "outputs": [],
   "source": []
  },
  {
   "cell_type": "code",
   "execution_count": null,
   "id": "50800136-dc2a-460b-bab1-94375c0e53e2",
   "metadata": {},
   "outputs": [],
   "source": [
    "y_pred_train = logreg.predict(X_train)\n",
    "\n",
    "y_pred_train"
   ]
  },
  {
   "cell_type": "code",
   "execution_count": null,
   "id": "8c85e522-cbf7-4a5b-af8f-b06c33e1b7ac",
   "metadata": {},
   "outputs": [],
   "source": []
  },
  {
   "cell_type": "code",
   "execution_count": null,
   "id": "6fe3f70a-6a3f-4b7e-87ec-d757e914935a",
   "metadata": {},
   "outputs": [],
   "source": [
    "print('Training-set accuracy score: {0:0.4f}'. format(accuracy_score(y_train, y_pred_train)))"
   ]
  },
  {
   "cell_type": "code",
   "execution_count": null,
   "id": "721fd55d-9280-47c3-8aa9-a75e2a8a3093",
   "metadata": {},
   "outputs": [],
   "source": [
    "\n",
    "print('Training set score: {:.4f}'.format(logreg.score(X_train, y_train)))\n",
    "\n",
    "print('Test set score: {:.4f}'.format(logreg.score(X_test, y_test)))"
   ]
  },
  {
   "cell_type": "code",
   "execution_count": null,
   "id": "a61d1088-04cb-4d29-b123-d8401eb05998",
   "metadata": {},
   "outputs": [],
   "source": [
    "# fit the Logsitic Regression model with C=100\n",
    "\n",
    "# instantiate the model\n",
    "logreg100 = LogisticRegression(C=100, solver='liblinear', random_state=0)\n",
    "\n",
    "\n",
    "# fit the model\n",
    "logreg100.fit(X_train, y_train)"
   ]
  },
  {
   "cell_type": "code",
   "execution_count": null,
   "id": "831bd684-8334-4bdb-b554-e78c262e71a3",
   "metadata": {},
   "outputs": [],
   "source": [
    "# print the scores on training and test set\n",
    "\n",
    "print('Training set score: {:.4f}'.format(logreg100.score(X_train, y_train)))\n",
    "\n",
    "print('Test set score: {:.4f}'.format(logreg100.score(X_test, y_test)))"
   ]
  },
  {
   "cell_type": "code",
   "execution_count": null,
   "id": "d00d8e8d-5282-48f5-97f9-29797e6a6264",
   "metadata": {},
   "outputs": [],
   "source": [
    "from sklearn.metrics import roc_auc_score, roc_curve, auc, precision_recall_curve, average_precision_score\n",
    "clf = LogisticRegression()\n",
    "clf.C = 100\n",
    "clf.fit(X_train, y_train)\n",
    "a_x = clf.predict(X_test)\n",
    "\n",
    "precision, recall, th_pr = precision_recall_curve(y_test, a_x)\n",
    "fpr, tpr, th_roc = roc_curve(y_test, a_x)\n",
    "\n",
    "print(\"AUC_ROC: %0.5f\" % auc(fpr, tpr))\n",
    "print(\"AUC_PR: %0.5f\"% auc(recall, precision))"
   ]
  },
  {
   "cell_type": "code",
   "execution_count": null,
   "id": "8c41b6c0-e9ea-4181-beb5-c6deb45f184d",
   "metadata": {},
   "outputs": [],
   "source": [
    "test\n"
   ]
  },
  {
   "cell_type": "code",
   "execution_count": null,
   "id": "31f1f1ae-dc5a-44cb-b486-c11d3f09ff27",
   "metadata": {},
   "outputs": [],
   "source": [
    "test = test.drop(['Id'], axis = 1)"
   ]
  },
  {
   "cell_type": "code",
   "execution_count": null,
   "id": "6d9fd9ae-243d-46f7-9ff1-d9496ce03463",
   "metadata": {},
   "outputs": [],
   "source": [
    "test"
   ]
  },
  {
   "cell_type": "code",
   "execution_count": null,
   "id": "606e29dc-8091-4ca1-a89f-0e77af895c2d",
   "metadata": {},
   "outputs": [],
   "source": [
    "test = test.dropna()"
   ]
  },
  {
   "cell_type": "code",
   "execution_count": null,
   "id": "e786d458-62fb-49a2-9f68-39aff5f8fc8a",
   "metadata": {},
   "outputs": [],
   "source": [
    "test['Date'] = pd.to_datetime(test['Date'])"
   ]
  },
  {
   "cell_type": "code",
   "execution_count": null,
   "id": "d5e6af8c-bf1b-4776-9a37-d229aa1aee76",
   "metadata": {},
   "outputs": [],
   "source": [
    "test['Year'] = test['Date'].dt.year\n",
    "test['Month'] = test['Date'].dt.month\n",
    "test['Day'] = test['Date'].dt.day\n"
   ]
  },
  {
   "cell_type": "code",
   "execution_count": null,
   "id": "807061b9-fbe6-4831-a27f-c85760644511",
   "metadata": {},
   "outputs": [],
   "source": [
    "test.drop('Date', axis=1, inplace = True)"
   ]
  },
  {
   "cell_type": "code",
   "execution_count": null,
   "id": "505cb24d-4aed-45f9-a79b-063474f1209f",
   "metadata": {},
   "outputs": [],
   "source": [
    "import category_encoders as ce\n",
    "\n",
    "encoder = ce.BinaryEncoder(cols=['RainToday'])\n",
    "\n",
    "test = encoder.fit_transform(test)"
   ]
  },
  {
   "cell_type": "code",
   "execution_count": null,
   "id": "5347a6b2-cbcb-4d3e-b48d-cf59577db965",
   "metadata": {},
   "outputs": [],
   "source": [
    "test = pd.concat([test[numerical], test[['RainToday_0', 'RainToday_1']],\n",
    "                     pd.get_dummies(test.Location), \n",
    "                     pd.get_dummies(test.WindGustDir),\n",
    "                     pd.get_dummies(test.WindDir9am),\n",
    "                     pd.get_dummies(test.WindDir3pm)], axis=1)"
   ]
  },
  {
   "cell_type": "code",
   "execution_count": null,
   "id": "4f66c1a4-c14a-4e0b-a212-aab318bd289b",
   "metadata": {},
   "outputs": [],
   "source": [
    "test.head()"
   ]
  },
  {
   "cell_type": "code",
   "execution_count": null,
   "id": "55d52d35-b71c-4390-92c5-b9cd50d6fe38",
   "metadata": {},
   "outputs": [],
   "source": [
    "test.columns"
   ]
  },
  {
   "cell_type": "code",
   "execution_count": null,
   "id": "2c38f707-da42-4ed4-b19e-c55d926f9311",
   "metadata": {},
   "outputs": [],
   "source": [
    "cols"
   ]
  },
  {
   "cell_type": "code",
   "execution_count": null,
   "id": "f4553ce9-37a6-4fe9-8852-89224fc50320",
   "metadata": {},
   "outputs": [],
   "source": [
    "test = logreg.predict(test)\n",
    "test"
   ]
  },
  {
   "cell_type": "code",
   "execution_count": null,
   "id": "909215a3-c7ad-45ac-b1a8-4760cf15b03a",
   "metadata": {},
   "outputs": [],
   "source": [
    "solve = pd.DataFrame((test))\n",
    "solve[\"Id\"] = solve.index\n",
    "solve.to_csv(\"data13.csv\")"
   ]
  },
  {
   "cell_type": "code",
   "execution_count": null,
   "id": "3eeae065-fddb-415e-8483-9587c35f20c9",
   "metadata": {},
   "outputs": [],
   "source": [
    "df = pd.DataFrame(solve)\n",
    "df[\"Id\"] = df.index\n",
    "df.to_csv('result_final.csv', index = False)"
   ]
  },
  {
   "cell_type": "code",
   "execution_count": null,
   "id": "581e0f59-dadc-4519-8fab-0fd0feff47db",
   "metadata": {},
   "outputs": [],
   "source": []
  }
 ],
 "metadata": {
  "kernelspec": {
   "display_name": "Python 3 (ipykernel)",
   "language": "python",
   "name": "python3"
  },
  "language_info": {
   "codemirror_mode": {
    "name": "ipython",
    "version": 3
   },
   "file_extension": ".py",
   "mimetype": "text/x-python",
   "name": "python",
   "nbconvert_exporter": "python",
   "pygments_lexer": "ipython3",
   "version": "3.11.5"
  }
 },
 "nbformat": 4,
 "nbformat_minor": 5
}
